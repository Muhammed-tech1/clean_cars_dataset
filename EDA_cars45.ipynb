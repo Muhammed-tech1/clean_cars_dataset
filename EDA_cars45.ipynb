{
  "cells": [
    {
      "cell_type": "markdown",
      "metadata": {
        "id": "KrmYKBlwYQrQ"
      },
      "source": [
        "# step 1. Importing libraries"
      ]
    },
    {
      "cell_type": "code",
      "execution_count": null,
      "metadata": {
        "id": "u7YjwXwxIMNZ"
      },
      "outputs": [],
      "source": [
        "import numpy as np\n",
        "import pandas as pd\n",
        "import matplotlib.pyplot as plt\n",
        "import seaborn as sns\n"
      ]
    },
    {
      "cell_type": "markdown",
      "metadata": {
        "id": "EEAIDadDYJIh"
      },
      "source": [
        "# step 2. loading the dataset"
      ]
    },
    {
      "cell_type": "code",
      "execution_count": null,
      "metadata": {
        "id": "BljidGUNKbHk"
      },
      "outputs": [],
      "source": [
        "cars = pd.read_csv(\"car45.csv\")"
      ]
    },
    {
      "cell_type": "code",
      "execution_count": null,
      "metadata": {
        "colab": {
          "base_uri": "https://localhost:8080/",
          "height": 877
        },
        "id": "j06C0sOfLKGZ",
        "outputId": "06c686f8-28d9-42e8-d420-64d4e5d8313d"
      },
      "outputs": [
        {
          "data": {
            "application/vnd.google.colaboratory.intrinsic+json": {
              "type": "dataframe",
              "variable_name": "cars"
            },
            "text/html": [
              "\n",
              "  <div id=\"df-63f21cd8-e266-4c4b-833b-f392fd7b1542\" class=\"colab-df-container\">\n",
              "    <div>\n",
              "<style scoped>\n",
              "    .dataframe tbody tr th:only-of-type {\n",
              "        vertical-align: middle;\n",
              "    }\n",
              "\n",
              "    .dataframe tbody tr th {\n",
              "        vertical-align: top;\n",
              "    }\n",
              "\n",
              "    .dataframe thead th {\n",
              "        text-align: right;\n",
              "    }\n",
              "</style>\n",
              "<table border=\"1\" class=\"dataframe\">\n",
              "  <thead>\n",
              "    <tr style=\"text-align: right;\">\n",
              "      <th></th>\n",
              "      <th>Unnamed: 0</th>\n",
              "      <th>car_id</th>\n",
              "      <th>description</th>\n",
              "      <th>amount</th>\n",
              "      <th>region</th>\n",
              "      <th>make</th>\n",
              "      <th>model</th>\n",
              "      <th>year_of_man</th>\n",
              "      <th>color</th>\n",
              "      <th>condition</th>\n",
              "      <th>...</th>\n",
              "      <th>bought_cond</th>\n",
              "      <th>trim</th>\n",
              "      <th>drive_train</th>\n",
              "      <th>reg_city</th>\n",
              "      <th>seat</th>\n",
              "      <th>num_cylinder</th>\n",
              "      <th>horse_power</th>\n",
              "      <th>body_build</th>\n",
              "      <th>fuel_type</th>\n",
              "      <th>transmission</th>\n",
              "    </tr>\n",
              "  </thead>\n",
              "  <tbody>\n",
              "    <tr>\n",
              "      <th>0</th>\n",
              "      <td>0</td>\n",
              "      <td>5IQTDBTYmvK1tJwhdvGJfESJ</td>\n",
              "      <td>Lexus ES 350 FWD 2013 Red</td>\n",
              "      <td>12937500</td>\n",
              "      <td>Lagos State, Ikeja</td>\n",
              "      <td>Lexus</td>\n",
              "      <td>ES</td>\n",
              "      <td>2013</td>\n",
              "      <td>Red</td>\n",
              "      <td>Foreign Used</td>\n",
              "      <td>...</td>\n",
              "      <td>Imported</td>\n",
              "      <td>350 FWD</td>\n",
              "      <td>Front Wheel</td>\n",
              "      <td>NaN</td>\n",
              "      <td>5</td>\n",
              "      <td>6.0</td>\n",
              "      <td>268.0</td>\n",
              "      <td>Sedan</td>\n",
              "      <td>Petrol</td>\n",
              "      <td>Automatic</td>\n",
              "    </tr>\n",
              "    <tr>\n",
              "      <th>1</th>\n",
              "      <td>1</td>\n",
              "      <td>zpZUGomoVXuKk9UFa8j8moC9</td>\n",
              "      <td>Land Rover Range Rover 2012 White</td>\n",
              "      <td>6750000</td>\n",
              "      <td>Abuja (FCT), Garki 2</td>\n",
              "      <td>Land Rover</td>\n",
              "      <td>Range Rover</td>\n",
              "      <td>2012</td>\n",
              "      <td>White</td>\n",
              "      <td>Nigerian Used</td>\n",
              "      <td>...</td>\n",
              "      <td>Registered</td>\n",
              "      <td>NaN</td>\n",
              "      <td>NaN</td>\n",
              "      <td>NaN</td>\n",
              "      <td>NaN</td>\n",
              "      <td>NaN</td>\n",
              "      <td>NaN</td>\n",
              "      <td>SUV</td>\n",
              "      <td>Petrol</td>\n",
              "      <td>Automatic</td>\n",
              "    </tr>\n",
              "    <tr>\n",
              "      <th>2</th>\n",
              "      <td>2</td>\n",
              "      <td>a6ShZXOX4KtY6IBGJIcF3Cxk</td>\n",
              "      <td>Toyota Sequoia 2018 Black</td>\n",
              "      <td>50625000</td>\n",
              "      <td>Lagos State, Lekki</td>\n",
              "      <td>Toyota</td>\n",
              "      <td>Sequoia</td>\n",
              "      <td>2018</td>\n",
              "      <td>Black</td>\n",
              "      <td>Foreign Used</td>\n",
              "      <td>...</td>\n",
              "      <td>Imported</td>\n",
              "      <td>NaN</td>\n",
              "      <td>NaN</td>\n",
              "      <td>NaN</td>\n",
              "      <td>NaN</td>\n",
              "      <td>NaN</td>\n",
              "      <td>NaN</td>\n",
              "      <td>SUV</td>\n",
              "      <td>Petrol</td>\n",
              "      <td>Automatic</td>\n",
              "    </tr>\n",
              "    <tr>\n",
              "      <th>3</th>\n",
              "      <td>3</td>\n",
              "      <td>CciPNDN6vhhQQI1FTQHAbfxi</td>\n",
              "      <td>Toyota Corolla 2007 Green</td>\n",
              "      <td>3600000</td>\n",
              "      <td>Abuja (FCT), Lugbe District</td>\n",
              "      <td>Toyota</td>\n",
              "      <td>Corolla</td>\n",
              "      <td>2007</td>\n",
              "      <td>Green</td>\n",
              "      <td>Nigerian Used</td>\n",
              "      <td>...</td>\n",
              "      <td>Registered</td>\n",
              "      <td>NaN</td>\n",
              "      <td>NaN</td>\n",
              "      <td>ABUJA</td>\n",
              "      <td>NaN</td>\n",
              "      <td>NaN</td>\n",
              "      <td>NaN</td>\n",
              "      <td>NaN</td>\n",
              "      <td>Petrol</td>\n",
              "      <td>Automatic</td>\n",
              "    </tr>\n",
              "    <tr>\n",
              "      <th>4</th>\n",
              "      <td>4</td>\n",
              "      <td>bvwd5LDMx6mIYpVa6Uhi2jqJ</td>\n",
              "      <td>Mercedes-Benz M Class 2005 Silver</td>\n",
              "      <td>3262500</td>\n",
              "      <td>Lagos State, Isolo</td>\n",
              "      <td>Mercedes-Benz</td>\n",
              "      <td>M Class</td>\n",
              "      <td>2005</td>\n",
              "      <td>Silver</td>\n",
              "      <td>Nigerian Used</td>\n",
              "      <td>...</td>\n",
              "      <td>Imported</td>\n",
              "      <td>NaN</td>\n",
              "      <td>NaN</td>\n",
              "      <td>ABUJA</td>\n",
              "      <td>NaN</td>\n",
              "      <td>NaN</td>\n",
              "      <td>NaN</td>\n",
              "      <td>NaN</td>\n",
              "      <td>Petrol</td>\n",
              "      <td>Automatic</td>\n",
              "    </tr>\n",
              "    <tr>\n",
              "      <th>...</th>\n",
              "      <td>...</td>\n",
              "      <td>...</td>\n",
              "      <td>...</td>\n",
              "      <td>...</td>\n",
              "      <td>...</td>\n",
              "      <td>...</td>\n",
              "      <td>...</td>\n",
              "      <td>...</td>\n",
              "      <td>...</td>\n",
              "      <td>...</td>\n",
              "      <td>...</td>\n",
              "      <td>...</td>\n",
              "      <td>...</td>\n",
              "      <td>...</td>\n",
              "      <td>...</td>\n",
              "      <td>...</td>\n",
              "      <td>...</td>\n",
              "      <td>...</td>\n",
              "      <td>...</td>\n",
              "      <td>...</td>\n",
              "      <td>...</td>\n",
              "    </tr>\n",
              "    <tr>\n",
              "      <th>2889</th>\n",
              "      <td>4348</td>\n",
              "      <td>sHnZZvambm9Prcwq4IwKPmGi</td>\n",
              "      <td>Mazda CX-7 2011 Beige</td>\n",
              "      <td>5062500</td>\n",
              "      <td>Lagos State, Lekki</td>\n",
              "      <td>Mazda</td>\n",
              "      <td>CX-7</td>\n",
              "      <td>2011</td>\n",
              "      <td>Beige</td>\n",
              "      <td>Foreign Used</td>\n",
              "      <td>...</td>\n",
              "      <td>Imported</td>\n",
              "      <td>NaN</td>\n",
              "      <td>NaN</td>\n",
              "      <td>NaN</td>\n",
              "      <td>NaN</td>\n",
              "      <td>NaN</td>\n",
              "      <td>NaN</td>\n",
              "      <td>SUV</td>\n",
              "      <td>Petrol</td>\n",
              "      <td>Automatic</td>\n",
              "    </tr>\n",
              "    <tr>\n",
              "      <th>2890</th>\n",
              "      <td>4349</td>\n",
              "      <td>fsa5b9HiCDnZt2P0Sf9qKLJN</td>\n",
              "      <td>Honda CR-V 1998 Red</td>\n",
              "      <td>1350000</td>\n",
              "      <td>Lagos State, Lekki</td>\n",
              "      <td>Honda</td>\n",
              "      <td>CR-V</td>\n",
              "      <td>1998</td>\n",
              "      <td>Red</td>\n",
              "      <td>Nigerian Used</td>\n",
              "      <td>...</td>\n",
              "      <td>Imported</td>\n",
              "      <td>NaN</td>\n",
              "      <td>NaN</td>\n",
              "      <td>Lagos</td>\n",
              "      <td>NaN</td>\n",
              "      <td>NaN</td>\n",
              "      <td>NaN</td>\n",
              "      <td>Crossover</td>\n",
              "      <td>Petrol</td>\n",
              "      <td>Automatic</td>\n",
              "    </tr>\n",
              "    <tr>\n",
              "      <th>2891</th>\n",
              "      <td>4350</td>\n",
              "      <td>uE5eXlbAEMfHSMZ0SYahHP8x</td>\n",
              "      <td>Lexus GS 2006 Black</td>\n",
              "      <td>4725000</td>\n",
              "      <td>Lagos State, Lekki</td>\n",
              "      <td>Lexus</td>\n",
              "      <td>GS</td>\n",
              "      <td>2006</td>\n",
              "      <td>Black</td>\n",
              "      <td>Foreign Used</td>\n",
              "      <td>...</td>\n",
              "      <td>Imported</td>\n",
              "      <td>NaN</td>\n",
              "      <td>NaN</td>\n",
              "      <td>NaN</td>\n",
              "      <td>NaN</td>\n",
              "      <td>NaN</td>\n",
              "      <td>NaN</td>\n",
              "      <td>NaN</td>\n",
              "      <td>Petrol</td>\n",
              "      <td>Automatic</td>\n",
              "    </tr>\n",
              "    <tr>\n",
              "      <th>2892</th>\n",
              "      <td>4351</td>\n",
              "      <td>CzI81oX5BIFITuoFozBtnQLS</td>\n",
              "      <td>Land Rover Range Rover Sport 2008 White</td>\n",
              "      <td>6930000</td>\n",
              "      <td>Edo State, Benin City</td>\n",
              "      <td>Land Rover</td>\n",
              "      <td>Range Rover Sport</td>\n",
              "      <td>2008</td>\n",
              "      <td>White</td>\n",
              "      <td>Foreign Used</td>\n",
              "      <td>...</td>\n",
              "      <td>Imported</td>\n",
              "      <td>NaN</td>\n",
              "      <td>NaN</td>\n",
              "      <td>NaN</td>\n",
              "      <td>NaN</td>\n",
              "      <td>NaN</td>\n",
              "      <td>NaN</td>\n",
              "      <td>SUV</td>\n",
              "      <td>Petrol</td>\n",
              "      <td>Automatic</td>\n",
              "    </tr>\n",
              "    <tr>\n",
              "      <th>2893</th>\n",
              "      <td>4352</td>\n",
              "      <td>41KZsjPRmovhziJJQ3gkw37Q</td>\n",
              "      <td>Toyota Corolla Sedan 2005 White</td>\n",
              "      <td>2600000</td>\n",
              "      <td>Abuja (FCT), Lugbe District</td>\n",
              "      <td>Toyota</td>\n",
              "      <td>Corolla</td>\n",
              "      <td>2005</td>\n",
              "      <td>White</td>\n",
              "      <td>Nigerian Used</td>\n",
              "      <td>...</td>\n",
              "      <td>Imported</td>\n",
              "      <td>Sedan</td>\n",
              "      <td>Front</td>\n",
              "      <td>ABUJA</td>\n",
              "      <td>5</td>\n",
              "      <td>4.0</td>\n",
              "      <td>90.0</td>\n",
              "      <td>Sedan</td>\n",
              "      <td>Petrol</td>\n",
              "      <td>Automatic</td>\n",
              "    </tr>\n",
              "  </tbody>\n",
              "</table>\n",
              "<p>2894 rows × 23 columns</p>\n",
              "</div>\n",
              "    <div class=\"colab-df-buttons\">\n",
              "\n",
              "  <div class=\"colab-df-container\">\n",
              "    <button class=\"colab-df-convert\" onclick=\"convertToInteractive('df-63f21cd8-e266-4c4b-833b-f392fd7b1542')\"\n",
              "            title=\"Convert this dataframe to an interactive table.\"\n",
              "            style=\"display:none;\">\n",
              "\n",
              "  <svg xmlns=\"http://www.w3.org/2000/svg\" height=\"24px\" viewBox=\"0 -960 960 960\">\n",
              "    <path d=\"M120-120v-720h720v720H120Zm60-500h600v-160H180v160Zm220 220h160v-160H400v160Zm0 220h160v-160H400v160ZM180-400h160v-160H180v160Zm440 0h160v-160H620v160ZM180-180h160v-160H180v160Zm440 0h160v-160H620v160Z\"/>\n",
              "  </svg>\n",
              "    </button>\n",
              "\n",
              "  <style>\n",
              "    .colab-df-container {\n",
              "      display:flex;\n",
              "      gap: 12px;\n",
              "    }\n",
              "\n",
              "    .colab-df-convert {\n",
              "      background-color: #E8F0FE;\n",
              "      border: none;\n",
              "      border-radius: 50%;\n",
              "      cursor: pointer;\n",
              "      display: none;\n",
              "      fill: #1967D2;\n",
              "      height: 32px;\n",
              "      padding: 0 0 0 0;\n",
              "      width: 32px;\n",
              "    }\n",
              "\n",
              "    .colab-df-convert:hover {\n",
              "      background-color: #E2EBFA;\n",
              "      box-shadow: 0px 1px 2px rgba(60, 64, 67, 0.3), 0px 1px 3px 1px rgba(60, 64, 67, 0.15);\n",
              "      fill: #174EA6;\n",
              "    }\n",
              "\n",
              "    .colab-df-buttons div {\n",
              "      margin-bottom: 4px;\n",
              "    }\n",
              "\n",
              "    [theme=dark] .colab-df-convert {\n",
              "      background-color: #3B4455;\n",
              "      fill: #D2E3FC;\n",
              "    }\n",
              "\n",
              "    [theme=dark] .colab-df-convert:hover {\n",
              "      background-color: #434B5C;\n",
              "      box-shadow: 0px 1px 3px 1px rgba(0, 0, 0, 0.15);\n",
              "      filter: drop-shadow(0px 1px 2px rgba(0, 0, 0, 0.3));\n",
              "      fill: #FFFFFF;\n",
              "    }\n",
              "  </style>\n",
              "\n",
              "    <script>\n",
              "      const buttonEl =\n",
              "        document.querySelector('#df-63f21cd8-e266-4c4b-833b-f392fd7b1542 button.colab-df-convert');\n",
              "      buttonEl.style.display =\n",
              "        google.colab.kernel.accessAllowed ? 'block' : 'none';\n",
              "\n",
              "      async function convertToInteractive(key) {\n",
              "        const element = document.querySelector('#df-63f21cd8-e266-4c4b-833b-f392fd7b1542');\n",
              "        const dataTable =\n",
              "          await google.colab.kernel.invokeFunction('convertToInteractive',\n",
              "                                                    [key], {});\n",
              "        if (!dataTable) return;\n",
              "\n",
              "        const docLinkHtml = 'Like what you see? Visit the ' +\n",
              "          '<a target=\"_blank\" href=https://colab.research.google.com/notebooks/data_table.ipynb>data table notebook</a>'\n",
              "          + ' to learn more about interactive tables.';\n",
              "        element.innerHTML = '';\n",
              "        dataTable['output_type'] = 'display_data';\n",
              "        await google.colab.output.renderOutput(dataTable, element);\n",
              "        const docLink = document.createElement('div');\n",
              "        docLink.innerHTML = docLinkHtml;\n",
              "        element.appendChild(docLink);\n",
              "      }\n",
              "    </script>\n",
              "  </div>\n",
              "\n",
              "\n",
              "<div id=\"df-e9869c6c-b2dc-4d2a-af73-d564fc22a740\">\n",
              "  <button class=\"colab-df-quickchart\" onclick=\"quickchart('df-e9869c6c-b2dc-4d2a-af73-d564fc22a740')\"\n",
              "            title=\"Suggest charts\"\n",
              "            style=\"display:none;\">\n",
              "\n",
              "<svg xmlns=\"http://www.w3.org/2000/svg\" height=\"24px\"viewBox=\"0 0 24 24\"\n",
              "     width=\"24px\">\n",
              "    <g>\n",
              "        <path d=\"M19 3H5c-1.1 0-2 .9-2 2v14c0 1.1.9 2 2 2h14c1.1 0 2-.9 2-2V5c0-1.1-.9-2-2-2zM9 17H7v-7h2v7zm4 0h-2V7h2v10zm4 0h-2v-4h2v4z\"/>\n",
              "    </g>\n",
              "</svg>\n",
              "  </button>\n",
              "\n",
              "<style>\n",
              "  .colab-df-quickchart {\n",
              "      --bg-color: #E8F0FE;\n",
              "      --fill-color: #1967D2;\n",
              "      --hover-bg-color: #E2EBFA;\n",
              "      --hover-fill-color: #174EA6;\n",
              "      --disabled-fill-color: #AAA;\n",
              "      --disabled-bg-color: #DDD;\n",
              "  }\n",
              "\n",
              "  [theme=dark] .colab-df-quickchart {\n",
              "      --bg-color: #3B4455;\n",
              "      --fill-color: #D2E3FC;\n",
              "      --hover-bg-color: #434B5C;\n",
              "      --hover-fill-color: #FFFFFF;\n",
              "      --disabled-bg-color: #3B4455;\n",
              "      --disabled-fill-color: #666;\n",
              "  }\n",
              "\n",
              "  .colab-df-quickchart {\n",
              "    background-color: var(--bg-color);\n",
              "    border: none;\n",
              "    border-radius: 50%;\n",
              "    cursor: pointer;\n",
              "    display: none;\n",
              "    fill: var(--fill-color);\n",
              "    height: 32px;\n",
              "    padding: 0;\n",
              "    width: 32px;\n",
              "  }\n",
              "\n",
              "  .colab-df-quickchart:hover {\n",
              "    background-color: var(--hover-bg-color);\n",
              "    box-shadow: 0 1px 2px rgba(60, 64, 67, 0.3), 0 1px 3px 1px rgba(60, 64, 67, 0.15);\n",
              "    fill: var(--button-hover-fill-color);\n",
              "  }\n",
              "\n",
              "  .colab-df-quickchart-complete:disabled,\n",
              "  .colab-df-quickchart-complete:disabled:hover {\n",
              "    background-color: var(--disabled-bg-color);\n",
              "    fill: var(--disabled-fill-color);\n",
              "    box-shadow: none;\n",
              "  }\n",
              "\n",
              "  .colab-df-spinner {\n",
              "    border: 2px solid var(--fill-color);\n",
              "    border-color: transparent;\n",
              "    border-bottom-color: var(--fill-color);\n",
              "    animation:\n",
              "      spin 1s steps(1) infinite;\n",
              "  }\n",
              "\n",
              "  @keyframes spin {\n",
              "    0% {\n",
              "      border-color: transparent;\n",
              "      border-bottom-color: var(--fill-color);\n",
              "      border-left-color: var(--fill-color);\n",
              "    }\n",
              "    20% {\n",
              "      border-color: transparent;\n",
              "      border-left-color: var(--fill-color);\n",
              "      border-top-color: var(--fill-color);\n",
              "    }\n",
              "    30% {\n",
              "      border-color: transparent;\n",
              "      border-left-color: var(--fill-color);\n",
              "      border-top-color: var(--fill-color);\n",
              "      border-right-color: var(--fill-color);\n",
              "    }\n",
              "    40% {\n",
              "      border-color: transparent;\n",
              "      border-right-color: var(--fill-color);\n",
              "      border-top-color: var(--fill-color);\n",
              "    }\n",
              "    60% {\n",
              "      border-color: transparent;\n",
              "      border-right-color: var(--fill-color);\n",
              "    }\n",
              "    80% {\n",
              "      border-color: transparent;\n",
              "      border-right-color: var(--fill-color);\n",
              "      border-bottom-color: var(--fill-color);\n",
              "    }\n",
              "    90% {\n",
              "      border-color: transparent;\n",
              "      border-bottom-color: var(--fill-color);\n",
              "    }\n",
              "  }\n",
              "</style>\n",
              "\n",
              "  <script>\n",
              "    async function quickchart(key) {\n",
              "      const quickchartButtonEl =\n",
              "        document.querySelector('#' + key + ' button');\n",
              "      quickchartButtonEl.disabled = true;  // To prevent multiple clicks.\n",
              "      quickchartButtonEl.classList.add('colab-df-spinner');\n",
              "      try {\n",
              "        const charts = await google.colab.kernel.invokeFunction(\n",
              "            'suggestCharts', [key], {});\n",
              "      } catch (error) {\n",
              "        console.error('Error during call to suggestCharts:', error);\n",
              "      }\n",
              "      quickchartButtonEl.classList.remove('colab-df-spinner');\n",
              "      quickchartButtonEl.classList.add('colab-df-quickchart-complete');\n",
              "    }\n",
              "    (() => {\n",
              "      let quickchartButtonEl =\n",
              "        document.querySelector('#df-e9869c6c-b2dc-4d2a-af73-d564fc22a740 button');\n",
              "      quickchartButtonEl.style.display =\n",
              "        google.colab.kernel.accessAllowed ? 'block' : 'none';\n",
              "    })();\n",
              "  </script>\n",
              "</div>\n",
              "\n",
              "  <div id=\"id_b3069b7f-48e5-4ed7-8c48-f91bcd7182b1\">\n",
              "    <style>\n",
              "      .colab-df-generate {\n",
              "        background-color: #E8F0FE;\n",
              "        border: none;\n",
              "        border-radius: 50%;\n",
              "        cursor: pointer;\n",
              "        display: none;\n",
              "        fill: #1967D2;\n",
              "        height: 32px;\n",
              "        padding: 0 0 0 0;\n",
              "        width: 32px;\n",
              "      }\n",
              "\n",
              "      .colab-df-generate:hover {\n",
              "        background-color: #E2EBFA;\n",
              "        box-shadow: 0px 1px 2px rgba(60, 64, 67, 0.3), 0px 1px 3px 1px rgba(60, 64, 67, 0.15);\n",
              "        fill: #174EA6;\n",
              "      }\n",
              "\n",
              "      [theme=dark] .colab-df-generate {\n",
              "        background-color: #3B4455;\n",
              "        fill: #D2E3FC;\n",
              "      }\n",
              "\n",
              "      [theme=dark] .colab-df-generate:hover {\n",
              "        background-color: #434B5C;\n",
              "        box-shadow: 0px 1px 3px 1px rgba(0, 0, 0, 0.15);\n",
              "        filter: drop-shadow(0px 1px 2px rgba(0, 0, 0, 0.3));\n",
              "        fill: #FFFFFF;\n",
              "      }\n",
              "    </style>\n",
              "    <button class=\"colab-df-generate\" onclick=\"generateWithVariable('cars')\"\n",
              "            title=\"Generate code using this dataframe.\"\n",
              "            style=\"display:none;\">\n",
              "\n",
              "  <svg xmlns=\"http://www.w3.org/2000/svg\" height=\"24px\"viewBox=\"0 0 24 24\"\n",
              "       width=\"24px\">\n",
              "    <path d=\"M7,19H8.4L18.45,9,17,7.55,7,17.6ZM5,21V16.75L18.45,3.32a2,2,0,0,1,2.83,0l1.4,1.43a1.91,1.91,0,0,1,.58,1.4,1.91,1.91,0,0,1-.58,1.4L9.25,21ZM18.45,9,17,7.55Zm-12,3A5.31,5.31,0,0,0,4.9,8.1,5.31,5.31,0,0,0,1,6.5,5.31,5.31,0,0,0,4.9,4.9,5.31,5.31,0,0,0,6.5,1,5.31,5.31,0,0,0,8.1,4.9,5.31,5.31,0,0,0,12,6.5,5.46,5.46,0,0,0,6.5,12Z\"/>\n",
              "  </svg>\n",
              "    </button>\n",
              "    <script>\n",
              "      (() => {\n",
              "      const buttonEl =\n",
              "        document.querySelector('#id_b3069b7f-48e5-4ed7-8c48-f91bcd7182b1 button.colab-df-generate');\n",
              "      buttonEl.style.display =\n",
              "        google.colab.kernel.accessAllowed ? 'block' : 'none';\n",
              "\n",
              "      buttonEl.onclick = () => {\n",
              "        google.colab.notebook.generateWithVariable('cars');\n",
              "      }\n",
              "      })();\n",
              "    </script>\n",
              "  </div>\n",
              "\n",
              "    </div>\n",
              "  </div>\n"
            ],
            "text/plain": [
              "      Unnamed: 0                    car_id  \\\n",
              "0              0  5IQTDBTYmvK1tJwhdvGJfESJ   \n",
              "1              1  zpZUGomoVXuKk9UFa8j8moC9   \n",
              "2              2  a6ShZXOX4KtY6IBGJIcF3Cxk   \n",
              "3              3  CciPNDN6vhhQQI1FTQHAbfxi   \n",
              "4              4  bvwd5LDMx6mIYpVa6Uhi2jqJ   \n",
              "...          ...                       ...   \n",
              "2889        4348  sHnZZvambm9Prcwq4IwKPmGi   \n",
              "2890        4349  fsa5b9HiCDnZt2P0Sf9qKLJN   \n",
              "2891        4350  uE5eXlbAEMfHSMZ0SYahHP8x   \n",
              "2892        4351  CzI81oX5BIFITuoFozBtnQLS   \n",
              "2893        4352  41KZsjPRmovhziJJQ3gkw37Q   \n",
              "\n",
              "                                  description    amount  \\\n",
              "0                   Lexus ES 350 FWD 2013 Red  12937500   \n",
              "1           Land Rover Range Rover 2012 White   6750000   \n",
              "2                   Toyota Sequoia 2018 Black  50625000   \n",
              "3                   Toyota Corolla 2007 Green   3600000   \n",
              "4           Mercedes-Benz M Class 2005 Silver   3262500   \n",
              "...                                       ...       ...   \n",
              "2889                    Mazda CX-7 2011 Beige   5062500   \n",
              "2890                      Honda CR-V 1998 Red   1350000   \n",
              "2891                      Lexus GS 2006 Black   4725000   \n",
              "2892  Land Rover Range Rover Sport 2008 White   6930000   \n",
              "2893          Toyota Corolla Sedan 2005 White   2600000   \n",
              "\n",
              "                           region           make              model  \\\n",
              "0              Lagos State, Ikeja          Lexus                 ES   \n",
              "1            Abuja (FCT), Garki 2     Land Rover        Range Rover   \n",
              "2              Lagos State, Lekki         Toyota            Sequoia   \n",
              "3     Abuja (FCT), Lugbe District         Toyota            Corolla   \n",
              "4              Lagos State, Isolo  Mercedes-Benz            M Class   \n",
              "...                           ...            ...                ...   \n",
              "2889           Lagos State, Lekki          Mazda               CX-7   \n",
              "2890           Lagos State, Lekki          Honda               CR-V   \n",
              "2891           Lagos State, Lekki          Lexus                 GS   \n",
              "2892        Edo State, Benin City     Land Rover  Range Rover Sport   \n",
              "2893  Abuja (FCT), Lugbe District         Toyota            Corolla   \n",
              "\n",
              "      year_of_man   color      condition  ...  bought_cond     trim  \\\n",
              "0            2013     Red   Foreign Used  ...     Imported  350 FWD   \n",
              "1            2012   White  Nigerian Used  ...   Registered      NaN   \n",
              "2            2018   Black   Foreign Used  ...     Imported      NaN   \n",
              "3            2007   Green  Nigerian Used  ...   Registered      NaN   \n",
              "4            2005  Silver  Nigerian Used  ...     Imported      NaN   \n",
              "...           ...     ...            ...  ...          ...      ...   \n",
              "2889         2011   Beige   Foreign Used  ...     Imported      NaN   \n",
              "2890         1998     Red  Nigerian Used  ...     Imported      NaN   \n",
              "2891         2006   Black   Foreign Used  ...     Imported      NaN   \n",
              "2892         2008   White   Foreign Used  ...     Imported      NaN   \n",
              "2893         2005   White  Nigerian Used  ...     Imported    Sedan   \n",
              "\n",
              "      drive_train reg_city seat num_cylinder horse_power body_build  \\\n",
              "0     Front Wheel      NaN    5          6.0       268.0      Sedan   \n",
              "1             NaN      NaN  NaN          NaN         NaN        SUV   \n",
              "2             NaN      NaN  NaN          NaN         NaN        SUV   \n",
              "3             NaN    ABUJA  NaN          NaN         NaN        NaN   \n",
              "4             NaN    ABUJA  NaN          NaN         NaN        NaN   \n",
              "...           ...      ...  ...          ...         ...        ...   \n",
              "2889          NaN      NaN  NaN          NaN         NaN        SUV   \n",
              "2890          NaN    Lagos  NaN          NaN         NaN  Crossover   \n",
              "2891          NaN      NaN  NaN          NaN         NaN        NaN   \n",
              "2892          NaN      NaN  NaN          NaN         NaN        SUV   \n",
              "2893        Front    ABUJA    5          4.0        90.0      Sedan   \n",
              "\n",
              "      fuel_type  transmission  \n",
              "0        Petrol     Automatic  \n",
              "1        Petrol     Automatic  \n",
              "2        Petrol     Automatic  \n",
              "3        Petrol     Automatic  \n",
              "4        Petrol     Automatic  \n",
              "...         ...           ...  \n",
              "2889     Petrol     Automatic  \n",
              "2890     Petrol     Automatic  \n",
              "2891     Petrol     Automatic  \n",
              "2892     Petrol     Automatic  \n",
              "2893     Petrol     Automatic  \n",
              "\n",
              "[2894 rows x 23 columns]"
            ]
          },
          "execution_count": 3,
          "metadata": {},
          "output_type": "execute_result"
        }
      ],
      "source": [
        "cars"
      ]
    },
    {
      "cell_type": "markdown",
      "metadata": {
        "id": "YsHQPGp8aau0"
      },
      "source": [
        "# step 3. inspecting / and cleaning the dataset"
      ]
    },
    {
      "cell_type": "code",
      "execution_count": null,
      "metadata": {
        "colab": {
          "base_uri": "https://localhost:8080/",
          "height": 481
        },
        "id": "OKse71j-LP5a",
        "outputId": "dbe42fde-6dea-4daf-bbb1-20a7ad0249c1"
      },
      "outputs": [
        {
          "data": {
            "application/vnd.google.colaboratory.intrinsic+json": {
              "type": "dataframe",
              "variable_name": "cars"
            },
            "text/html": [
              "\n",
              "  <div id=\"df-6aab4e43-d85c-4960-bb90-8173d2f99ffd\" class=\"colab-df-container\">\n",
              "    <div>\n",
              "<style scoped>\n",
              "    .dataframe tbody tr th:only-of-type {\n",
              "        vertical-align: middle;\n",
              "    }\n",
              "\n",
              "    .dataframe tbody tr th {\n",
              "        vertical-align: top;\n",
              "    }\n",
              "\n",
              "    .dataframe thead th {\n",
              "        text-align: right;\n",
              "    }\n",
              "</style>\n",
              "<table border=\"1\" class=\"dataframe\">\n",
              "  <thead>\n",
              "    <tr style=\"text-align: right;\">\n",
              "      <th></th>\n",
              "      <th>Unnamed: 0</th>\n",
              "      <th>car_id</th>\n",
              "      <th>description</th>\n",
              "      <th>amount</th>\n",
              "      <th>region</th>\n",
              "      <th>make</th>\n",
              "      <th>model</th>\n",
              "      <th>year_of_man</th>\n",
              "      <th>color</th>\n",
              "      <th>condition</th>\n",
              "      <th>...</th>\n",
              "      <th>bought_cond</th>\n",
              "      <th>trim</th>\n",
              "      <th>drive_train</th>\n",
              "      <th>reg_city</th>\n",
              "      <th>seat</th>\n",
              "      <th>num_cylinder</th>\n",
              "      <th>horse_power</th>\n",
              "      <th>body_build</th>\n",
              "      <th>fuel_type</th>\n",
              "      <th>transmission</th>\n",
              "    </tr>\n",
              "  </thead>\n",
              "  <tbody>\n",
              "    <tr>\n",
              "      <th>0</th>\n",
              "      <td>0</td>\n",
              "      <td>5IQTDBTYmvK1tJwhdvGJfESJ</td>\n",
              "      <td>Lexus ES 350 FWD 2013 Red</td>\n",
              "      <td>12937500</td>\n",
              "      <td>Lagos State, Ikeja</td>\n",
              "      <td>Lexus</td>\n",
              "      <td>ES</td>\n",
              "      <td>2013</td>\n",
              "      <td>Red</td>\n",
              "      <td>Foreign Used</td>\n",
              "      <td>...</td>\n",
              "      <td>Imported</td>\n",
              "      <td>350 FWD</td>\n",
              "      <td>Front Wheel</td>\n",
              "      <td>NaN</td>\n",
              "      <td>5</td>\n",
              "      <td>6.0</td>\n",
              "      <td>268.0</td>\n",
              "      <td>Sedan</td>\n",
              "      <td>Petrol</td>\n",
              "      <td>Automatic</td>\n",
              "    </tr>\n",
              "    <tr>\n",
              "      <th>1</th>\n",
              "      <td>1</td>\n",
              "      <td>zpZUGomoVXuKk9UFa8j8moC9</td>\n",
              "      <td>Land Rover Range Rover 2012 White</td>\n",
              "      <td>6750000</td>\n",
              "      <td>Abuja (FCT), Garki 2</td>\n",
              "      <td>Land Rover</td>\n",
              "      <td>Range Rover</td>\n",
              "      <td>2012</td>\n",
              "      <td>White</td>\n",
              "      <td>Nigerian Used</td>\n",
              "      <td>...</td>\n",
              "      <td>Registered</td>\n",
              "      <td>NaN</td>\n",
              "      <td>NaN</td>\n",
              "      <td>NaN</td>\n",
              "      <td>NaN</td>\n",
              "      <td>NaN</td>\n",
              "      <td>NaN</td>\n",
              "      <td>SUV</td>\n",
              "      <td>Petrol</td>\n",
              "      <td>Automatic</td>\n",
              "    </tr>\n",
              "    <tr>\n",
              "      <th>2</th>\n",
              "      <td>2</td>\n",
              "      <td>a6ShZXOX4KtY6IBGJIcF3Cxk</td>\n",
              "      <td>Toyota Sequoia 2018 Black</td>\n",
              "      <td>50625000</td>\n",
              "      <td>Lagos State, Lekki</td>\n",
              "      <td>Toyota</td>\n",
              "      <td>Sequoia</td>\n",
              "      <td>2018</td>\n",
              "      <td>Black</td>\n",
              "      <td>Foreign Used</td>\n",
              "      <td>...</td>\n",
              "      <td>Imported</td>\n",
              "      <td>NaN</td>\n",
              "      <td>NaN</td>\n",
              "      <td>NaN</td>\n",
              "      <td>NaN</td>\n",
              "      <td>NaN</td>\n",
              "      <td>NaN</td>\n",
              "      <td>SUV</td>\n",
              "      <td>Petrol</td>\n",
              "      <td>Automatic</td>\n",
              "    </tr>\n",
              "    <tr>\n",
              "      <th>3</th>\n",
              "      <td>3</td>\n",
              "      <td>CciPNDN6vhhQQI1FTQHAbfxi</td>\n",
              "      <td>Toyota Corolla 2007 Green</td>\n",
              "      <td>3600000</td>\n",
              "      <td>Abuja (FCT), Lugbe District</td>\n",
              "      <td>Toyota</td>\n",
              "      <td>Corolla</td>\n",
              "      <td>2007</td>\n",
              "      <td>Green</td>\n",
              "      <td>Nigerian Used</td>\n",
              "      <td>...</td>\n",
              "      <td>Registered</td>\n",
              "      <td>NaN</td>\n",
              "      <td>NaN</td>\n",
              "      <td>ABUJA</td>\n",
              "      <td>NaN</td>\n",
              "      <td>NaN</td>\n",
              "      <td>NaN</td>\n",
              "      <td>NaN</td>\n",
              "      <td>Petrol</td>\n",
              "      <td>Automatic</td>\n",
              "    </tr>\n",
              "    <tr>\n",
              "      <th>4</th>\n",
              "      <td>4</td>\n",
              "      <td>bvwd5LDMx6mIYpVa6Uhi2jqJ</td>\n",
              "      <td>Mercedes-Benz M Class 2005 Silver</td>\n",
              "      <td>3262500</td>\n",
              "      <td>Lagos State, Isolo</td>\n",
              "      <td>Mercedes-Benz</td>\n",
              "      <td>M Class</td>\n",
              "      <td>2005</td>\n",
              "      <td>Silver</td>\n",
              "      <td>Nigerian Used</td>\n",
              "      <td>...</td>\n",
              "      <td>Imported</td>\n",
              "      <td>NaN</td>\n",
              "      <td>NaN</td>\n",
              "      <td>ABUJA</td>\n",
              "      <td>NaN</td>\n",
              "      <td>NaN</td>\n",
              "      <td>NaN</td>\n",
              "      <td>NaN</td>\n",
              "      <td>Petrol</td>\n",
              "      <td>Automatic</td>\n",
              "    </tr>\n",
              "  </tbody>\n",
              "</table>\n",
              "<p>5 rows × 23 columns</p>\n",
              "</div>\n",
              "    <div class=\"colab-df-buttons\">\n",
              "\n",
              "  <div class=\"colab-df-container\">\n",
              "    <button class=\"colab-df-convert\" onclick=\"convertToInteractive('df-6aab4e43-d85c-4960-bb90-8173d2f99ffd')\"\n",
              "            title=\"Convert this dataframe to an interactive table.\"\n",
              "            style=\"display:none;\">\n",
              "\n",
              "  <svg xmlns=\"http://www.w3.org/2000/svg\" height=\"24px\" viewBox=\"0 -960 960 960\">\n",
              "    <path d=\"M120-120v-720h720v720H120Zm60-500h600v-160H180v160Zm220 220h160v-160H400v160Zm0 220h160v-160H400v160ZM180-400h160v-160H180v160Zm440 0h160v-160H620v160ZM180-180h160v-160H180v160Zm440 0h160v-160H620v160Z\"/>\n",
              "  </svg>\n",
              "    </button>\n",
              "\n",
              "  <style>\n",
              "    .colab-df-container {\n",
              "      display:flex;\n",
              "      gap: 12px;\n",
              "    }\n",
              "\n",
              "    .colab-df-convert {\n",
              "      background-color: #E8F0FE;\n",
              "      border: none;\n",
              "      border-radius: 50%;\n",
              "      cursor: pointer;\n",
              "      display: none;\n",
              "      fill: #1967D2;\n",
              "      height: 32px;\n",
              "      padding: 0 0 0 0;\n",
              "      width: 32px;\n",
              "    }\n",
              "\n",
              "    .colab-df-convert:hover {\n",
              "      background-color: #E2EBFA;\n",
              "      box-shadow: 0px 1px 2px rgba(60, 64, 67, 0.3), 0px 1px 3px 1px rgba(60, 64, 67, 0.15);\n",
              "      fill: #174EA6;\n",
              "    }\n",
              "\n",
              "    .colab-df-buttons div {\n",
              "      margin-bottom: 4px;\n",
              "    }\n",
              "\n",
              "    [theme=dark] .colab-df-convert {\n",
              "      background-color: #3B4455;\n",
              "      fill: #D2E3FC;\n",
              "    }\n",
              "\n",
              "    [theme=dark] .colab-df-convert:hover {\n",
              "      background-color: #434B5C;\n",
              "      box-shadow: 0px 1px 3px 1px rgba(0, 0, 0, 0.15);\n",
              "      filter: drop-shadow(0px 1px 2px rgba(0, 0, 0, 0.3));\n",
              "      fill: #FFFFFF;\n",
              "    }\n",
              "  </style>\n",
              "\n",
              "    <script>\n",
              "      const buttonEl =\n",
              "        document.querySelector('#df-6aab4e43-d85c-4960-bb90-8173d2f99ffd button.colab-df-convert');\n",
              "      buttonEl.style.display =\n",
              "        google.colab.kernel.accessAllowed ? 'block' : 'none';\n",
              "\n",
              "      async function convertToInteractive(key) {\n",
              "        const element = document.querySelector('#df-6aab4e43-d85c-4960-bb90-8173d2f99ffd');\n",
              "        const dataTable =\n",
              "          await google.colab.kernel.invokeFunction('convertToInteractive',\n",
              "                                                    [key], {});\n",
              "        if (!dataTable) return;\n",
              "\n",
              "        const docLinkHtml = 'Like what you see? Visit the ' +\n",
              "          '<a target=\"_blank\" href=https://colab.research.google.com/notebooks/data_table.ipynb>data table notebook</a>'\n",
              "          + ' to learn more about interactive tables.';\n",
              "        element.innerHTML = '';\n",
              "        dataTable['output_type'] = 'display_data';\n",
              "        await google.colab.output.renderOutput(dataTable, element);\n",
              "        const docLink = document.createElement('div');\n",
              "        docLink.innerHTML = docLinkHtml;\n",
              "        element.appendChild(docLink);\n",
              "      }\n",
              "    </script>\n",
              "  </div>\n",
              "\n",
              "\n",
              "<div id=\"df-4e73319d-9f9c-4a22-ad75-1a10f6889838\">\n",
              "  <button class=\"colab-df-quickchart\" onclick=\"quickchart('df-4e73319d-9f9c-4a22-ad75-1a10f6889838')\"\n",
              "            title=\"Suggest charts\"\n",
              "            style=\"display:none;\">\n",
              "\n",
              "<svg xmlns=\"http://www.w3.org/2000/svg\" height=\"24px\"viewBox=\"0 0 24 24\"\n",
              "     width=\"24px\">\n",
              "    <g>\n",
              "        <path d=\"M19 3H5c-1.1 0-2 .9-2 2v14c0 1.1.9 2 2 2h14c1.1 0 2-.9 2-2V5c0-1.1-.9-2-2-2zM9 17H7v-7h2v7zm4 0h-2V7h2v10zm4 0h-2v-4h2v4z\"/>\n",
              "    </g>\n",
              "</svg>\n",
              "  </button>\n",
              "\n",
              "<style>\n",
              "  .colab-df-quickchart {\n",
              "      --bg-color: #E8F0FE;\n",
              "      --fill-color: #1967D2;\n",
              "      --hover-bg-color: #E2EBFA;\n",
              "      --hover-fill-color: #174EA6;\n",
              "      --disabled-fill-color: #AAA;\n",
              "      --disabled-bg-color: #DDD;\n",
              "  }\n",
              "\n",
              "  [theme=dark] .colab-df-quickchart {\n",
              "      --bg-color: #3B4455;\n",
              "      --fill-color: #D2E3FC;\n",
              "      --hover-bg-color: #434B5C;\n",
              "      --hover-fill-color: #FFFFFF;\n",
              "      --disabled-bg-color: #3B4455;\n",
              "      --disabled-fill-color: #666;\n",
              "  }\n",
              "\n",
              "  .colab-df-quickchart {\n",
              "    background-color: var(--bg-color);\n",
              "    border: none;\n",
              "    border-radius: 50%;\n",
              "    cursor: pointer;\n",
              "    display: none;\n",
              "    fill: var(--fill-color);\n",
              "    height: 32px;\n",
              "    padding: 0;\n",
              "    width: 32px;\n",
              "  }\n",
              "\n",
              "  .colab-df-quickchart:hover {\n",
              "    background-color: var(--hover-bg-color);\n",
              "    box-shadow: 0 1px 2px rgba(60, 64, 67, 0.3), 0 1px 3px 1px rgba(60, 64, 67, 0.15);\n",
              "    fill: var(--button-hover-fill-color);\n",
              "  }\n",
              "\n",
              "  .colab-df-quickchart-complete:disabled,\n",
              "  .colab-df-quickchart-complete:disabled:hover {\n",
              "    background-color: var(--disabled-bg-color);\n",
              "    fill: var(--disabled-fill-color);\n",
              "    box-shadow: none;\n",
              "  }\n",
              "\n",
              "  .colab-df-spinner {\n",
              "    border: 2px solid var(--fill-color);\n",
              "    border-color: transparent;\n",
              "    border-bottom-color: var(--fill-color);\n",
              "    animation:\n",
              "      spin 1s steps(1) infinite;\n",
              "  }\n",
              "\n",
              "  @keyframes spin {\n",
              "    0% {\n",
              "      border-color: transparent;\n",
              "      border-bottom-color: var(--fill-color);\n",
              "      border-left-color: var(--fill-color);\n",
              "    }\n",
              "    20% {\n",
              "      border-color: transparent;\n",
              "      border-left-color: var(--fill-color);\n",
              "      border-top-color: var(--fill-color);\n",
              "    }\n",
              "    30% {\n",
              "      border-color: transparent;\n",
              "      border-left-color: var(--fill-color);\n",
              "      border-top-color: var(--fill-color);\n",
              "      border-right-color: var(--fill-color);\n",
              "    }\n",
              "    40% {\n",
              "      border-color: transparent;\n",
              "      border-right-color: var(--fill-color);\n",
              "      border-top-color: var(--fill-color);\n",
              "    }\n",
              "    60% {\n",
              "      border-color: transparent;\n",
              "      border-right-color: var(--fill-color);\n",
              "    }\n",
              "    80% {\n",
              "      border-color: transparent;\n",
              "      border-right-color: var(--fill-color);\n",
              "      border-bottom-color: var(--fill-color);\n",
              "    }\n",
              "    90% {\n",
              "      border-color: transparent;\n",
              "      border-bottom-color: var(--fill-color);\n",
              "    }\n",
              "  }\n",
              "</style>\n",
              "\n",
              "  <script>\n",
              "    async function quickchart(key) {\n",
              "      const quickchartButtonEl =\n",
              "        document.querySelector('#' + key + ' button');\n",
              "      quickchartButtonEl.disabled = true;  // To prevent multiple clicks.\n",
              "      quickchartButtonEl.classList.add('colab-df-spinner');\n",
              "      try {\n",
              "        const charts = await google.colab.kernel.invokeFunction(\n",
              "            'suggestCharts', [key], {});\n",
              "      } catch (error) {\n",
              "        console.error('Error during call to suggestCharts:', error);\n",
              "      }\n",
              "      quickchartButtonEl.classList.remove('colab-df-spinner');\n",
              "      quickchartButtonEl.classList.add('colab-df-quickchart-complete');\n",
              "    }\n",
              "    (() => {\n",
              "      let quickchartButtonEl =\n",
              "        document.querySelector('#df-4e73319d-9f9c-4a22-ad75-1a10f6889838 button');\n",
              "      quickchartButtonEl.style.display =\n",
              "        google.colab.kernel.accessAllowed ? 'block' : 'none';\n",
              "    })();\n",
              "  </script>\n",
              "</div>\n",
              "\n",
              "    </div>\n",
              "  </div>\n"
            ],
            "text/plain": [
              "   Unnamed: 0                    car_id                        description  \\\n",
              "0           0  5IQTDBTYmvK1tJwhdvGJfESJ          Lexus ES 350 FWD 2013 Red   \n",
              "1           1  zpZUGomoVXuKk9UFa8j8moC9  Land Rover Range Rover 2012 White   \n",
              "2           2  a6ShZXOX4KtY6IBGJIcF3Cxk          Toyota Sequoia 2018 Black   \n",
              "3           3  CciPNDN6vhhQQI1FTQHAbfxi          Toyota Corolla 2007 Green   \n",
              "4           4  bvwd5LDMx6mIYpVa6Uhi2jqJ  Mercedes-Benz M Class 2005 Silver   \n",
              "\n",
              "     amount                       region           make        model  \\\n",
              "0  12937500           Lagos State, Ikeja          Lexus           ES   \n",
              "1   6750000         Abuja (FCT), Garki 2     Land Rover  Range Rover   \n",
              "2  50625000           Lagos State, Lekki         Toyota      Sequoia   \n",
              "3   3600000  Abuja (FCT), Lugbe District         Toyota      Corolla   \n",
              "4   3262500           Lagos State, Isolo  Mercedes-Benz      M Class   \n",
              "\n",
              "   year_of_man   color      condition  ...  bought_cond     trim  drive_train  \\\n",
              "0         2013     Red   Foreign Used  ...     Imported  350 FWD  Front Wheel   \n",
              "1         2012   White  Nigerian Used  ...   Registered      NaN          NaN   \n",
              "2         2018   Black   Foreign Used  ...     Imported      NaN          NaN   \n",
              "3         2007   Green  Nigerian Used  ...   Registered      NaN          NaN   \n",
              "4         2005  Silver  Nigerian Used  ...     Imported      NaN          NaN   \n",
              "\n",
              "  reg_city seat num_cylinder horse_power body_build  fuel_type  transmission  \n",
              "0      NaN    5          6.0       268.0      Sedan     Petrol     Automatic  \n",
              "1      NaN  NaN          NaN         NaN        SUV     Petrol     Automatic  \n",
              "2      NaN  NaN          NaN         NaN        SUV     Petrol     Automatic  \n",
              "3    ABUJA  NaN          NaN         NaN        NaN     Petrol     Automatic  \n",
              "4    ABUJA  NaN          NaN         NaN        NaN     Petrol     Automatic  \n",
              "\n",
              "[5 rows x 23 columns]"
            ]
          },
          "execution_count": 4,
          "metadata": {},
          "output_type": "execute_result"
        }
      ],
      "source": [
        "\n",
        "\n",
        "\n",
        "cars.head()"
      ]
    },
    {
      "cell_type": "code",
      "execution_count": null,
      "metadata": {
        "colab": {
          "base_uri": "https://localhost:8080/",
          "height": 481
        },
        "id": "GZCPGCqtLfbo",
        "outputId": "bb4c66d5-6521-4189-fd46-81372a3195ab"
      },
      "outputs": [
        {
          "data": {
            "application/vnd.google.colaboratory.intrinsic+json": {
              "type": "dataframe"
            },
            "text/html": [
              "\n",
              "  <div id=\"df-b3ac78a5-f1cf-481a-b7a8-8a64de703afa\" class=\"colab-df-container\">\n",
              "    <div>\n",
              "<style scoped>\n",
              "    .dataframe tbody tr th:only-of-type {\n",
              "        vertical-align: middle;\n",
              "    }\n",
              "\n",
              "    .dataframe tbody tr th {\n",
              "        vertical-align: top;\n",
              "    }\n",
              "\n",
              "    .dataframe thead th {\n",
              "        text-align: right;\n",
              "    }\n",
              "</style>\n",
              "<table border=\"1\" class=\"dataframe\">\n",
              "  <thead>\n",
              "    <tr style=\"text-align: right;\">\n",
              "      <th></th>\n",
              "      <th>Unnamed: 0</th>\n",
              "      <th>car_id</th>\n",
              "      <th>description</th>\n",
              "      <th>amount</th>\n",
              "      <th>region</th>\n",
              "      <th>make</th>\n",
              "      <th>model</th>\n",
              "      <th>year_of_man</th>\n",
              "      <th>color</th>\n",
              "      <th>condition</th>\n",
              "      <th>...</th>\n",
              "      <th>bought_cond</th>\n",
              "      <th>trim</th>\n",
              "      <th>drive_train</th>\n",
              "      <th>reg_city</th>\n",
              "      <th>seat</th>\n",
              "      <th>num_cylinder</th>\n",
              "      <th>horse_power</th>\n",
              "      <th>body_build</th>\n",
              "      <th>fuel_type</th>\n",
              "      <th>transmission</th>\n",
              "    </tr>\n",
              "  </thead>\n",
              "  <tbody>\n",
              "    <tr>\n",
              "      <th>2889</th>\n",
              "      <td>4348</td>\n",
              "      <td>sHnZZvambm9Prcwq4IwKPmGi</td>\n",
              "      <td>Mazda CX-7 2011 Beige</td>\n",
              "      <td>5062500</td>\n",
              "      <td>Lagos State, Lekki</td>\n",
              "      <td>Mazda</td>\n",
              "      <td>CX-7</td>\n",
              "      <td>2011</td>\n",
              "      <td>Beige</td>\n",
              "      <td>Foreign Used</td>\n",
              "      <td>...</td>\n",
              "      <td>Imported</td>\n",
              "      <td>NaN</td>\n",
              "      <td>NaN</td>\n",
              "      <td>NaN</td>\n",
              "      <td>NaN</td>\n",
              "      <td>NaN</td>\n",
              "      <td>NaN</td>\n",
              "      <td>SUV</td>\n",
              "      <td>Petrol</td>\n",
              "      <td>Automatic</td>\n",
              "    </tr>\n",
              "    <tr>\n",
              "      <th>2890</th>\n",
              "      <td>4349</td>\n",
              "      <td>fsa5b9HiCDnZt2P0Sf9qKLJN</td>\n",
              "      <td>Honda CR-V 1998 Red</td>\n",
              "      <td>1350000</td>\n",
              "      <td>Lagos State, Lekki</td>\n",
              "      <td>Honda</td>\n",
              "      <td>CR-V</td>\n",
              "      <td>1998</td>\n",
              "      <td>Red</td>\n",
              "      <td>Nigerian Used</td>\n",
              "      <td>...</td>\n",
              "      <td>Imported</td>\n",
              "      <td>NaN</td>\n",
              "      <td>NaN</td>\n",
              "      <td>Lagos</td>\n",
              "      <td>NaN</td>\n",
              "      <td>NaN</td>\n",
              "      <td>NaN</td>\n",
              "      <td>Crossover</td>\n",
              "      <td>Petrol</td>\n",
              "      <td>Automatic</td>\n",
              "    </tr>\n",
              "    <tr>\n",
              "      <th>2891</th>\n",
              "      <td>4350</td>\n",
              "      <td>uE5eXlbAEMfHSMZ0SYahHP8x</td>\n",
              "      <td>Lexus GS 2006 Black</td>\n",
              "      <td>4725000</td>\n",
              "      <td>Lagos State, Lekki</td>\n",
              "      <td>Lexus</td>\n",
              "      <td>GS</td>\n",
              "      <td>2006</td>\n",
              "      <td>Black</td>\n",
              "      <td>Foreign Used</td>\n",
              "      <td>...</td>\n",
              "      <td>Imported</td>\n",
              "      <td>NaN</td>\n",
              "      <td>NaN</td>\n",
              "      <td>NaN</td>\n",
              "      <td>NaN</td>\n",
              "      <td>NaN</td>\n",
              "      <td>NaN</td>\n",
              "      <td>NaN</td>\n",
              "      <td>Petrol</td>\n",
              "      <td>Automatic</td>\n",
              "    </tr>\n",
              "    <tr>\n",
              "      <th>2892</th>\n",
              "      <td>4351</td>\n",
              "      <td>CzI81oX5BIFITuoFozBtnQLS</td>\n",
              "      <td>Land Rover Range Rover Sport 2008 White</td>\n",
              "      <td>6930000</td>\n",
              "      <td>Edo State, Benin City</td>\n",
              "      <td>Land Rover</td>\n",
              "      <td>Range Rover Sport</td>\n",
              "      <td>2008</td>\n",
              "      <td>White</td>\n",
              "      <td>Foreign Used</td>\n",
              "      <td>...</td>\n",
              "      <td>Imported</td>\n",
              "      <td>NaN</td>\n",
              "      <td>NaN</td>\n",
              "      <td>NaN</td>\n",
              "      <td>NaN</td>\n",
              "      <td>NaN</td>\n",
              "      <td>NaN</td>\n",
              "      <td>SUV</td>\n",
              "      <td>Petrol</td>\n",
              "      <td>Automatic</td>\n",
              "    </tr>\n",
              "    <tr>\n",
              "      <th>2893</th>\n",
              "      <td>4352</td>\n",
              "      <td>41KZsjPRmovhziJJQ3gkw37Q</td>\n",
              "      <td>Toyota Corolla Sedan 2005 White</td>\n",
              "      <td>2600000</td>\n",
              "      <td>Abuja (FCT), Lugbe District</td>\n",
              "      <td>Toyota</td>\n",
              "      <td>Corolla</td>\n",
              "      <td>2005</td>\n",
              "      <td>White</td>\n",
              "      <td>Nigerian Used</td>\n",
              "      <td>...</td>\n",
              "      <td>Imported</td>\n",
              "      <td>Sedan</td>\n",
              "      <td>Front</td>\n",
              "      <td>ABUJA</td>\n",
              "      <td>5</td>\n",
              "      <td>4.0</td>\n",
              "      <td>90.0</td>\n",
              "      <td>Sedan</td>\n",
              "      <td>Petrol</td>\n",
              "      <td>Automatic</td>\n",
              "    </tr>\n",
              "  </tbody>\n",
              "</table>\n",
              "<p>5 rows × 23 columns</p>\n",
              "</div>\n",
              "    <div class=\"colab-df-buttons\">\n",
              "\n",
              "  <div class=\"colab-df-container\">\n",
              "    <button class=\"colab-df-convert\" onclick=\"convertToInteractive('df-b3ac78a5-f1cf-481a-b7a8-8a64de703afa')\"\n",
              "            title=\"Convert this dataframe to an interactive table.\"\n",
              "            style=\"display:none;\">\n",
              "\n",
              "  <svg xmlns=\"http://www.w3.org/2000/svg\" height=\"24px\" viewBox=\"0 -960 960 960\">\n",
              "    <path d=\"M120-120v-720h720v720H120Zm60-500h600v-160H180v160Zm220 220h160v-160H400v160Zm0 220h160v-160H400v160ZM180-400h160v-160H180v160Zm440 0h160v-160H620v160ZM180-180h160v-160H180v160Zm440 0h160v-160H620v160Z\"/>\n",
              "  </svg>\n",
              "    </button>\n",
              "\n",
              "  <style>\n",
              "    .colab-df-container {\n",
              "      display:flex;\n",
              "      gap: 12px;\n",
              "    }\n",
              "\n",
              "    .colab-df-convert {\n",
              "      background-color: #E8F0FE;\n",
              "      border: none;\n",
              "      border-radius: 50%;\n",
              "      cursor: pointer;\n",
              "      display: none;\n",
              "      fill: #1967D2;\n",
              "      height: 32px;\n",
              "      padding: 0 0 0 0;\n",
              "      width: 32px;\n",
              "    }\n",
              "\n",
              "    .colab-df-convert:hover {\n",
              "      background-color: #E2EBFA;\n",
              "      box-shadow: 0px 1px 2px rgba(60, 64, 67, 0.3), 0px 1px 3px 1px rgba(60, 64, 67, 0.15);\n",
              "      fill: #174EA6;\n",
              "    }\n",
              "\n",
              "    .colab-df-buttons div {\n",
              "      margin-bottom: 4px;\n",
              "    }\n",
              "\n",
              "    [theme=dark] .colab-df-convert {\n",
              "      background-color: #3B4455;\n",
              "      fill: #D2E3FC;\n",
              "    }\n",
              "\n",
              "    [theme=dark] .colab-df-convert:hover {\n",
              "      background-color: #434B5C;\n",
              "      box-shadow: 0px 1px 3px 1px rgba(0, 0, 0, 0.15);\n",
              "      filter: drop-shadow(0px 1px 2px rgba(0, 0, 0, 0.3));\n",
              "      fill: #FFFFFF;\n",
              "    }\n",
              "  </style>\n",
              "\n",
              "    <script>\n",
              "      const buttonEl =\n",
              "        document.querySelector('#df-b3ac78a5-f1cf-481a-b7a8-8a64de703afa button.colab-df-convert');\n",
              "      buttonEl.style.display =\n",
              "        google.colab.kernel.accessAllowed ? 'block' : 'none';\n",
              "\n",
              "      async function convertToInteractive(key) {\n",
              "        const element = document.querySelector('#df-b3ac78a5-f1cf-481a-b7a8-8a64de703afa');\n",
              "        const dataTable =\n",
              "          await google.colab.kernel.invokeFunction('convertToInteractive',\n",
              "                                                    [key], {});\n",
              "        if (!dataTable) return;\n",
              "\n",
              "        const docLinkHtml = 'Like what you see? Visit the ' +\n",
              "          '<a target=\"_blank\" href=https://colab.research.google.com/notebooks/data_table.ipynb>data table notebook</a>'\n",
              "          + ' to learn more about interactive tables.';\n",
              "        element.innerHTML = '';\n",
              "        dataTable['output_type'] = 'display_data';\n",
              "        await google.colab.output.renderOutput(dataTable, element);\n",
              "        const docLink = document.createElement('div');\n",
              "        docLink.innerHTML = docLinkHtml;\n",
              "        element.appendChild(docLink);\n",
              "      }\n",
              "    </script>\n",
              "  </div>\n",
              "\n",
              "\n",
              "<div id=\"df-973829a3-b11d-4127-8a6b-c1c04e8259b8\">\n",
              "  <button class=\"colab-df-quickchart\" onclick=\"quickchart('df-973829a3-b11d-4127-8a6b-c1c04e8259b8')\"\n",
              "            title=\"Suggest charts\"\n",
              "            style=\"display:none;\">\n",
              "\n",
              "<svg xmlns=\"http://www.w3.org/2000/svg\" height=\"24px\"viewBox=\"0 0 24 24\"\n",
              "     width=\"24px\">\n",
              "    <g>\n",
              "        <path d=\"M19 3H5c-1.1 0-2 .9-2 2v14c0 1.1.9 2 2 2h14c1.1 0 2-.9 2-2V5c0-1.1-.9-2-2-2zM9 17H7v-7h2v7zm4 0h-2V7h2v10zm4 0h-2v-4h2v4z\"/>\n",
              "    </g>\n",
              "</svg>\n",
              "  </button>\n",
              "\n",
              "<style>\n",
              "  .colab-df-quickchart {\n",
              "      --bg-color: #E8F0FE;\n",
              "      --fill-color: #1967D2;\n",
              "      --hover-bg-color: #E2EBFA;\n",
              "      --hover-fill-color: #174EA6;\n",
              "      --disabled-fill-color: #AAA;\n",
              "      --disabled-bg-color: #DDD;\n",
              "  }\n",
              "\n",
              "  [theme=dark] .colab-df-quickchart {\n",
              "      --bg-color: #3B4455;\n",
              "      --fill-color: #D2E3FC;\n",
              "      --hover-bg-color: #434B5C;\n",
              "      --hover-fill-color: #FFFFFF;\n",
              "      --disabled-bg-color: #3B4455;\n",
              "      --disabled-fill-color: #666;\n",
              "  }\n",
              "\n",
              "  .colab-df-quickchart {\n",
              "    background-color: var(--bg-color);\n",
              "    border: none;\n",
              "    border-radius: 50%;\n",
              "    cursor: pointer;\n",
              "    display: none;\n",
              "    fill: var(--fill-color);\n",
              "    height: 32px;\n",
              "    padding: 0;\n",
              "    width: 32px;\n",
              "  }\n",
              "\n",
              "  .colab-df-quickchart:hover {\n",
              "    background-color: var(--hover-bg-color);\n",
              "    box-shadow: 0 1px 2px rgba(60, 64, 67, 0.3), 0 1px 3px 1px rgba(60, 64, 67, 0.15);\n",
              "    fill: var(--button-hover-fill-color);\n",
              "  }\n",
              "\n",
              "  .colab-df-quickchart-complete:disabled,\n",
              "  .colab-df-quickchart-complete:disabled:hover {\n",
              "    background-color: var(--disabled-bg-color);\n",
              "    fill: var(--disabled-fill-color);\n",
              "    box-shadow: none;\n",
              "  }\n",
              "\n",
              "  .colab-df-spinner {\n",
              "    border: 2px solid var(--fill-color);\n",
              "    border-color: transparent;\n",
              "    border-bottom-color: var(--fill-color);\n",
              "    animation:\n",
              "      spin 1s steps(1) infinite;\n",
              "  }\n",
              "\n",
              "  @keyframes spin {\n",
              "    0% {\n",
              "      border-color: transparent;\n",
              "      border-bottom-color: var(--fill-color);\n",
              "      border-left-color: var(--fill-color);\n",
              "    }\n",
              "    20% {\n",
              "      border-color: transparent;\n",
              "      border-left-color: var(--fill-color);\n",
              "      border-top-color: var(--fill-color);\n",
              "    }\n",
              "    30% {\n",
              "      border-color: transparent;\n",
              "      border-left-color: var(--fill-color);\n",
              "      border-top-color: var(--fill-color);\n",
              "      border-right-color: var(--fill-color);\n",
              "    }\n",
              "    40% {\n",
              "      border-color: transparent;\n",
              "      border-right-color: var(--fill-color);\n",
              "      border-top-color: var(--fill-color);\n",
              "    }\n",
              "    60% {\n",
              "      border-color: transparent;\n",
              "      border-right-color: var(--fill-color);\n",
              "    }\n",
              "    80% {\n",
              "      border-color: transparent;\n",
              "      border-right-color: var(--fill-color);\n",
              "      border-bottom-color: var(--fill-color);\n",
              "    }\n",
              "    90% {\n",
              "      border-color: transparent;\n",
              "      border-bottom-color: var(--fill-color);\n",
              "    }\n",
              "  }\n",
              "</style>\n",
              "\n",
              "  <script>\n",
              "    async function quickchart(key) {\n",
              "      const quickchartButtonEl =\n",
              "        document.querySelector('#' + key + ' button');\n",
              "      quickchartButtonEl.disabled = true;  // To prevent multiple clicks.\n",
              "      quickchartButtonEl.classList.add('colab-df-spinner');\n",
              "      try {\n",
              "        const charts = await google.colab.kernel.invokeFunction(\n",
              "            'suggestCharts', [key], {});\n",
              "      } catch (error) {\n",
              "        console.error('Error during call to suggestCharts:', error);\n",
              "      }\n",
              "      quickchartButtonEl.classList.remove('colab-df-spinner');\n",
              "      quickchartButtonEl.classList.add('colab-df-quickchart-complete');\n",
              "    }\n",
              "    (() => {\n",
              "      let quickchartButtonEl =\n",
              "        document.querySelector('#df-973829a3-b11d-4127-8a6b-c1c04e8259b8 button');\n",
              "      quickchartButtonEl.style.display =\n",
              "        google.colab.kernel.accessAllowed ? 'block' : 'none';\n",
              "    })();\n",
              "  </script>\n",
              "</div>\n",
              "\n",
              "    </div>\n",
              "  </div>\n"
            ],
            "text/plain": [
              "      Unnamed: 0                    car_id  \\\n",
              "2889        4348  sHnZZvambm9Prcwq4IwKPmGi   \n",
              "2890        4349  fsa5b9HiCDnZt2P0Sf9qKLJN   \n",
              "2891        4350  uE5eXlbAEMfHSMZ0SYahHP8x   \n",
              "2892        4351  CzI81oX5BIFITuoFozBtnQLS   \n",
              "2893        4352  41KZsjPRmovhziJJQ3gkw37Q   \n",
              "\n",
              "                                  description   amount  \\\n",
              "2889                    Mazda CX-7 2011 Beige  5062500   \n",
              "2890                      Honda CR-V 1998 Red  1350000   \n",
              "2891                      Lexus GS 2006 Black  4725000   \n",
              "2892  Land Rover Range Rover Sport 2008 White  6930000   \n",
              "2893          Toyota Corolla Sedan 2005 White  2600000   \n",
              "\n",
              "                           region        make              model  year_of_man  \\\n",
              "2889           Lagos State, Lekki       Mazda               CX-7         2011   \n",
              "2890           Lagos State, Lekki       Honda               CR-V         1998   \n",
              "2891           Lagos State, Lekki       Lexus                 GS         2006   \n",
              "2892        Edo State, Benin City  Land Rover  Range Rover Sport         2008   \n",
              "2893  Abuja (FCT), Lugbe District      Toyota            Corolla         2005   \n",
              "\n",
              "      color      condition  ...  bought_cond   trim drive_train reg_city seat  \\\n",
              "2889  Beige   Foreign Used  ...     Imported    NaN         NaN      NaN  NaN   \n",
              "2890    Red  Nigerian Used  ...     Imported    NaN         NaN    Lagos  NaN   \n",
              "2891  Black   Foreign Used  ...     Imported    NaN         NaN      NaN  NaN   \n",
              "2892  White   Foreign Used  ...     Imported    NaN         NaN      NaN  NaN   \n",
              "2893  White  Nigerian Used  ...     Imported  Sedan       Front    ABUJA    5   \n",
              "\n",
              "     num_cylinder horse_power body_build  fuel_type  transmission  \n",
              "2889          NaN         NaN        SUV     Petrol     Automatic  \n",
              "2890          NaN         NaN  Crossover     Petrol     Automatic  \n",
              "2891          NaN         NaN        NaN     Petrol     Automatic  \n",
              "2892          NaN         NaN        SUV     Petrol     Automatic  \n",
              "2893          4.0        90.0      Sedan     Petrol     Automatic  \n",
              "\n",
              "[5 rows x 23 columns]"
            ]
          },
          "execution_count": 5,
          "metadata": {},
          "output_type": "execute_result"
        }
      ],
      "source": [
        "cars.tail()"
      ]
    },
    {
      "cell_type": "code",
      "execution_count": null,
      "metadata": {
        "colab": {
          "base_uri": "https://localhost:8080/"
        },
        "id": "DAFUN7XCLwCx",
        "outputId": "1416bb8a-074f-4371-d8fc-95ec9775476d"
      },
      "outputs": [
        {
          "data": {
            "text/plain": [
              "(2894, 23)"
            ]
          },
          "execution_count": 6,
          "metadata": {},
          "output_type": "execute_result"
        }
      ],
      "source": [
        "cars.shape"
      ]
    },
    {
      "cell_type": "code",
      "execution_count": null,
      "metadata": {
        "colab": {
          "base_uri": "https://localhost:8080/",
          "height": 300
        },
        "id": "RoDso-1yL4Ct",
        "outputId": "7ffb74ec-d61d-4e0b-f354-ab5e9ac74951"
      },
      "outputs": [
        {
          "data": {
            "application/vnd.google.colaboratory.intrinsic+json": {
              "summary": "{\n  \"name\": \"cars\",\n  \"rows\": 8,\n  \"fields\": [\n    {\n      \"column\": \"Unnamed: 0\",\n      \"properties\": {\n        \"dtype\": \"number\",\n        \"std\": 1457.1097152633422,\n        \"min\": 0.0,\n        \"max\": 4352.0,\n        \"num_unique_values\": 8,\n        \"samples\": [\n          2174.766413268832,\n          1641.5,\n          2894.0\n        ],\n        \"semantic_type\": \"\",\n        \"description\": \"\"\n      }\n    },\n    {\n      \"column\": \"amount\",\n      \"properties\": {\n        \"dtype\": \"number\",\n        \"std\": 33838966.23330358,\n        \"min\": 2894.0,\n        \"max\": 98700000.0,\n        \"num_unique_values\": 8,\n        \"samples\": [\n          4986147.349343469,\n          3203125.0,\n          2894.0\n        ],\n        \"semantic_type\": \"\",\n        \"description\": \"\"\n      }\n    },\n    {\n      \"column\": \"year_of_man\",\n      \"properties\": {\n        \"dtype\": \"number\",\n        \"std\": 814.2976750443347,\n        \"min\": 4.565696998671337,\n        \"max\": 2894.0,\n        \"num_unique_values\": 8,\n        \"samples\": [\n          2007.7826537664132,\n          2007.0,\n          2894.0\n        ],\n        \"semantic_type\": \"\",\n        \"description\": \"\"\n      }\n    },\n    {\n      \"column\": \"mileage\",\n      \"properties\": {\n        \"dtype\": \"number\",\n        \"std\": 26062771.737319224,\n        \"min\": 0.0,\n        \"max\": 74026754.0,\n        \"num_unique_values\": 8,\n        \"samples\": [\n          243347.54612937433,\n          191398.0,\n          2829.0\n        ],\n        \"semantic_type\": \"\",\n        \"description\": \"\"\n      }\n    },\n    {\n      \"column\": \"engine_size\",\n      \"properties\": {\n        \"dtype\": \"number\",\n        \"std\": 55190.96617404373,\n        \"min\": 25.0,\n        \"max\": 158713.0,\n        \"num_unique_values\": 8,\n        \"samples\": [\n          3079.5245959241042,\n          3000.0,\n          2846.0\n        ],\n        \"semantic_type\": \"\",\n        \"description\": \"\"\n      }\n    },\n    {\n      \"column\": \"num_cylinder\",\n      \"properties\": {\n        \"dtype\": \"number\",\n        \"std\": 128.7227993398664,\n        \"min\": 1.3015328900153422,\n        \"max\": 369.0,\n        \"num_unique_values\": 6,\n        \"samples\": [\n          369.0,\n          5.411924119241192,\n          8.0\n        ],\n        \"semantic_type\": \"\",\n        \"description\": \"\"\n      }\n    },\n    {\n      \"column\": \"horse_power\",\n      \"properties\": {\n        \"dtype\": \"number\",\n        \"std\": 137.1994639679078,\n        \"min\": 67.0,\n        \"max\": 477.0,\n        \"num_unique_values\": 8,\n        \"samples\": [\n          216.81656804733728,\n          225.0,\n          338.0\n        ],\n        \"semantic_type\": \"\",\n        \"description\": \"\"\n      }\n    }\n  ]\n}",
              "type": "dataframe"
            },
            "text/html": [
              "\n",
              "  <div id=\"df-bd662841-7bef-4768-a467-4e783e336ccd\" class=\"colab-df-container\">\n",
              "    <div>\n",
              "<style scoped>\n",
              "    .dataframe tbody tr th:only-of-type {\n",
              "        vertical-align: middle;\n",
              "    }\n",
              "\n",
              "    .dataframe tbody tr th {\n",
              "        vertical-align: top;\n",
              "    }\n",
              "\n",
              "    .dataframe thead th {\n",
              "        text-align: right;\n",
              "    }\n",
              "</style>\n",
              "<table border=\"1\" class=\"dataframe\">\n",
              "  <thead>\n",
              "    <tr style=\"text-align: right;\">\n",
              "      <th></th>\n",
              "      <th>Unnamed: 0</th>\n",
              "      <th>amount</th>\n",
              "      <th>year_of_man</th>\n",
              "      <th>mileage</th>\n",
              "      <th>engine_size</th>\n",
              "      <th>num_cylinder</th>\n",
              "      <th>horse_power</th>\n",
              "    </tr>\n",
              "  </thead>\n",
              "  <tbody>\n",
              "    <tr>\n",
              "      <th>count</th>\n",
              "      <td>2894.000000</td>\n",
              "      <td>2.894000e+03</td>\n",
              "      <td>2894.000000</td>\n",
              "      <td>2.829000e+03</td>\n",
              "      <td>2846.000000</td>\n",
              "      <td>369.000000</td>\n",
              "      <td>338.000000</td>\n",
              "    </tr>\n",
              "    <tr>\n",
              "      <th>mean</th>\n",
              "      <td>2174.766413</td>\n",
              "      <td>4.986147e+06</td>\n",
              "      <td>2007.782654</td>\n",
              "      <td>2.433475e+05</td>\n",
              "      <td>3079.524596</td>\n",
              "      <td>5.411924</td>\n",
              "      <td>216.816568</td>\n",
              "    </tr>\n",
              "    <tr>\n",
              "      <th>std</th>\n",
              "      <td>1507.677422</td>\n",
              "      <td>6.177222e+06</td>\n",
              "      <td>4.565697</td>\n",
              "      <td>1.416721e+06</td>\n",
              "      <td>3753.377371</td>\n",
              "      <td>1.301533</td>\n",
              "      <td>69.989033</td>\n",
              "    </tr>\n",
              "    <tr>\n",
              "      <th>min</th>\n",
              "      <td>0.000000</td>\n",
              "      <td>5.775000e+05</td>\n",
              "      <td>1988.000000</td>\n",
              "      <td>0.000000e+00</td>\n",
              "      <td>25.000000</td>\n",
              "      <td>4.000000</td>\n",
              "      <td>67.000000</td>\n",
              "    </tr>\n",
              "    <tr>\n",
              "      <th>25%</th>\n",
              "      <td>728.250000</td>\n",
              "      <td>2.166000e+06</td>\n",
              "      <td>2005.000000</td>\n",
              "      <td>1.300590e+05</td>\n",
              "      <td>2300.000000</td>\n",
              "      <td>4.000000</td>\n",
              "      <td>158.000000</td>\n",
              "    </tr>\n",
              "    <tr>\n",
              "      <th>50%</th>\n",
              "      <td>1641.500000</td>\n",
              "      <td>3.203125e+06</td>\n",
              "      <td>2007.000000</td>\n",
              "      <td>1.913980e+05</td>\n",
              "      <td>3000.000000</td>\n",
              "      <td>6.000000</td>\n",
              "      <td>225.000000</td>\n",
              "    </tr>\n",
              "    <tr>\n",
              "      <th>75%</th>\n",
              "      <td>3617.750000</td>\n",
              "      <td>5.250000e+06</td>\n",
              "      <td>2011.000000</td>\n",
              "      <td>2.659880e+05</td>\n",
              "      <td>3500.000000</td>\n",
              "      <td>6.000000</td>\n",
              "      <td>269.750000</td>\n",
              "    </tr>\n",
              "    <tr>\n",
              "      <th>max</th>\n",
              "      <td>4352.000000</td>\n",
              "      <td>9.870000e+07</td>\n",
              "      <td>2023.000000</td>\n",
              "      <td>7.402675e+07</td>\n",
              "      <td>158713.000000</td>\n",
              "      <td>8.000000</td>\n",
              "      <td>477.000000</td>\n",
              "    </tr>\n",
              "  </tbody>\n",
              "</table>\n",
              "</div>\n",
              "    <div class=\"colab-df-buttons\">\n",
              "\n",
              "  <div class=\"colab-df-container\">\n",
              "    <button class=\"colab-df-convert\" onclick=\"convertToInteractive('df-bd662841-7bef-4768-a467-4e783e336ccd')\"\n",
              "            title=\"Convert this dataframe to an interactive table.\"\n",
              "            style=\"display:none;\">\n",
              "\n",
              "  <svg xmlns=\"http://www.w3.org/2000/svg\" height=\"24px\" viewBox=\"0 -960 960 960\">\n",
              "    <path d=\"M120-120v-720h720v720H120Zm60-500h600v-160H180v160Zm220 220h160v-160H400v160Zm0 220h160v-160H400v160ZM180-400h160v-160H180v160Zm440 0h160v-160H620v160ZM180-180h160v-160H180v160Zm440 0h160v-160H620v160Z\"/>\n",
              "  </svg>\n",
              "    </button>\n",
              "\n",
              "  <style>\n",
              "    .colab-df-container {\n",
              "      display:flex;\n",
              "      gap: 12px;\n",
              "    }\n",
              "\n",
              "    .colab-df-convert {\n",
              "      background-color: #E8F0FE;\n",
              "      border: none;\n",
              "      border-radius: 50%;\n",
              "      cursor: pointer;\n",
              "      display: none;\n",
              "      fill: #1967D2;\n",
              "      height: 32px;\n",
              "      padding: 0 0 0 0;\n",
              "      width: 32px;\n",
              "    }\n",
              "\n",
              "    .colab-df-convert:hover {\n",
              "      background-color: #E2EBFA;\n",
              "      box-shadow: 0px 1px 2px rgba(60, 64, 67, 0.3), 0px 1px 3px 1px rgba(60, 64, 67, 0.15);\n",
              "      fill: #174EA6;\n",
              "    }\n",
              "\n",
              "    .colab-df-buttons div {\n",
              "      margin-bottom: 4px;\n",
              "    }\n",
              "\n",
              "    [theme=dark] .colab-df-convert {\n",
              "      background-color: #3B4455;\n",
              "      fill: #D2E3FC;\n",
              "    }\n",
              "\n",
              "    [theme=dark] .colab-df-convert:hover {\n",
              "      background-color: #434B5C;\n",
              "      box-shadow: 0px 1px 3px 1px rgba(0, 0, 0, 0.15);\n",
              "      filter: drop-shadow(0px 1px 2px rgba(0, 0, 0, 0.3));\n",
              "      fill: #FFFFFF;\n",
              "    }\n",
              "  </style>\n",
              "\n",
              "    <script>\n",
              "      const buttonEl =\n",
              "        document.querySelector('#df-bd662841-7bef-4768-a467-4e783e336ccd button.colab-df-convert');\n",
              "      buttonEl.style.display =\n",
              "        google.colab.kernel.accessAllowed ? 'block' : 'none';\n",
              "\n",
              "      async function convertToInteractive(key) {\n",
              "        const element = document.querySelector('#df-bd662841-7bef-4768-a467-4e783e336ccd');\n",
              "        const dataTable =\n",
              "          await google.colab.kernel.invokeFunction('convertToInteractive',\n",
              "                                                    [key], {});\n",
              "        if (!dataTable) return;\n",
              "\n",
              "        const docLinkHtml = 'Like what you see? Visit the ' +\n",
              "          '<a target=\"_blank\" href=https://colab.research.google.com/notebooks/data_table.ipynb>data table notebook</a>'\n",
              "          + ' to learn more about interactive tables.';\n",
              "        element.innerHTML = '';\n",
              "        dataTable['output_type'] = 'display_data';\n",
              "        await google.colab.output.renderOutput(dataTable, element);\n",
              "        const docLink = document.createElement('div');\n",
              "        docLink.innerHTML = docLinkHtml;\n",
              "        element.appendChild(docLink);\n",
              "      }\n",
              "    </script>\n",
              "  </div>\n",
              "\n",
              "\n",
              "<div id=\"df-602e0c6e-65f3-41a6-8d2f-afa5a4d911f8\">\n",
              "  <button class=\"colab-df-quickchart\" onclick=\"quickchart('df-602e0c6e-65f3-41a6-8d2f-afa5a4d911f8')\"\n",
              "            title=\"Suggest charts\"\n",
              "            style=\"display:none;\">\n",
              "\n",
              "<svg xmlns=\"http://www.w3.org/2000/svg\" height=\"24px\"viewBox=\"0 0 24 24\"\n",
              "     width=\"24px\">\n",
              "    <g>\n",
              "        <path d=\"M19 3H5c-1.1 0-2 .9-2 2v14c0 1.1.9 2 2 2h14c1.1 0 2-.9 2-2V5c0-1.1-.9-2-2-2zM9 17H7v-7h2v7zm4 0h-2V7h2v10zm4 0h-2v-4h2v4z\"/>\n",
              "    </g>\n",
              "</svg>\n",
              "  </button>\n",
              "\n",
              "<style>\n",
              "  .colab-df-quickchart {\n",
              "      --bg-color: #E8F0FE;\n",
              "      --fill-color: #1967D2;\n",
              "      --hover-bg-color: #E2EBFA;\n",
              "      --hover-fill-color: #174EA6;\n",
              "      --disabled-fill-color: #AAA;\n",
              "      --disabled-bg-color: #DDD;\n",
              "  }\n",
              "\n",
              "  [theme=dark] .colab-df-quickchart {\n",
              "      --bg-color: #3B4455;\n",
              "      --fill-color: #D2E3FC;\n",
              "      --hover-bg-color: #434B5C;\n",
              "      --hover-fill-color: #FFFFFF;\n",
              "      --disabled-bg-color: #3B4455;\n",
              "      --disabled-fill-color: #666;\n",
              "  }\n",
              "\n",
              "  .colab-df-quickchart {\n",
              "    background-color: var(--bg-color);\n",
              "    border: none;\n",
              "    border-radius: 50%;\n",
              "    cursor: pointer;\n",
              "    display: none;\n",
              "    fill: var(--fill-color);\n",
              "    height: 32px;\n",
              "    padding: 0;\n",
              "    width: 32px;\n",
              "  }\n",
              "\n",
              "  .colab-df-quickchart:hover {\n",
              "    background-color: var(--hover-bg-color);\n",
              "    box-shadow: 0 1px 2px rgba(60, 64, 67, 0.3), 0 1px 3px 1px rgba(60, 64, 67, 0.15);\n",
              "    fill: var(--button-hover-fill-color);\n",
              "  }\n",
              "\n",
              "  .colab-df-quickchart-complete:disabled,\n",
              "  .colab-df-quickchart-complete:disabled:hover {\n",
              "    background-color: var(--disabled-bg-color);\n",
              "    fill: var(--disabled-fill-color);\n",
              "    box-shadow: none;\n",
              "  }\n",
              "\n",
              "  .colab-df-spinner {\n",
              "    border: 2px solid var(--fill-color);\n",
              "    border-color: transparent;\n",
              "    border-bottom-color: var(--fill-color);\n",
              "    animation:\n",
              "      spin 1s steps(1) infinite;\n",
              "  }\n",
              "\n",
              "  @keyframes spin {\n",
              "    0% {\n",
              "      border-color: transparent;\n",
              "      border-bottom-color: var(--fill-color);\n",
              "      border-left-color: var(--fill-color);\n",
              "    }\n",
              "    20% {\n",
              "      border-color: transparent;\n",
              "      border-left-color: var(--fill-color);\n",
              "      border-top-color: var(--fill-color);\n",
              "    }\n",
              "    30% {\n",
              "      border-color: transparent;\n",
              "      border-left-color: var(--fill-color);\n",
              "      border-top-color: var(--fill-color);\n",
              "      border-right-color: var(--fill-color);\n",
              "    }\n",
              "    40% {\n",
              "      border-color: transparent;\n",
              "      border-right-color: var(--fill-color);\n",
              "      border-top-color: var(--fill-color);\n",
              "    }\n",
              "    60% {\n",
              "      border-color: transparent;\n",
              "      border-right-color: var(--fill-color);\n",
              "    }\n",
              "    80% {\n",
              "      border-color: transparent;\n",
              "      border-right-color: var(--fill-color);\n",
              "      border-bottom-color: var(--fill-color);\n",
              "    }\n",
              "    90% {\n",
              "      border-color: transparent;\n",
              "      border-bottom-color: var(--fill-color);\n",
              "    }\n",
              "  }\n",
              "</style>\n",
              "\n",
              "  <script>\n",
              "    async function quickchart(key) {\n",
              "      const quickchartButtonEl =\n",
              "        document.querySelector('#' + key + ' button');\n",
              "      quickchartButtonEl.disabled = true;  // To prevent multiple clicks.\n",
              "      quickchartButtonEl.classList.add('colab-df-spinner');\n",
              "      try {\n",
              "        const charts = await google.colab.kernel.invokeFunction(\n",
              "            'suggestCharts', [key], {});\n",
              "      } catch (error) {\n",
              "        console.error('Error during call to suggestCharts:', error);\n",
              "      }\n",
              "      quickchartButtonEl.classList.remove('colab-df-spinner');\n",
              "      quickchartButtonEl.classList.add('colab-df-quickchart-complete');\n",
              "    }\n",
              "    (() => {\n",
              "      let quickchartButtonEl =\n",
              "        document.querySelector('#df-602e0c6e-65f3-41a6-8d2f-afa5a4d911f8 button');\n",
              "      quickchartButtonEl.style.display =\n",
              "        google.colab.kernel.accessAllowed ? 'block' : 'none';\n",
              "    })();\n",
              "  </script>\n",
              "</div>\n",
              "\n",
              "    </div>\n",
              "  </div>\n"
            ],
            "text/plain": [
              "        Unnamed: 0        amount  year_of_man       mileage    engine_size  \\\n",
              "count  2894.000000  2.894000e+03  2894.000000  2.829000e+03    2846.000000   \n",
              "mean   2174.766413  4.986147e+06  2007.782654  2.433475e+05    3079.524596   \n",
              "std    1507.677422  6.177222e+06     4.565697  1.416721e+06    3753.377371   \n",
              "min       0.000000  5.775000e+05  1988.000000  0.000000e+00      25.000000   \n",
              "25%     728.250000  2.166000e+06  2005.000000  1.300590e+05    2300.000000   \n",
              "50%    1641.500000  3.203125e+06  2007.000000  1.913980e+05    3000.000000   \n",
              "75%    3617.750000  5.250000e+06  2011.000000  2.659880e+05    3500.000000   \n",
              "max    4352.000000  9.870000e+07  2023.000000  7.402675e+07  158713.000000   \n",
              "\n",
              "       num_cylinder  horse_power  \n",
              "count    369.000000   338.000000  \n",
              "mean       5.411924   216.816568  \n",
              "std        1.301533    69.989033  \n",
              "min        4.000000    67.000000  \n",
              "25%        4.000000   158.000000  \n",
              "50%        6.000000   225.000000  \n",
              "75%        6.000000   269.750000  \n",
              "max        8.000000   477.000000  "
            ]
          },
          "execution_count": 7,
          "metadata": {},
          "output_type": "execute_result"
        }
      ],
      "source": [
        "cars.describe()"
      ]
    },
    {
      "cell_type": "code",
      "execution_count": null,
      "metadata": {
        "colab": {
          "base_uri": "https://localhost:8080/"
        },
        "id": "LqqpPTxJMDUM",
        "outputId": "0c2312e4-87b9-41cd-8949-34ef2548220a"
      },
      "outputs": [
        {
          "data": {
            "text/plain": [
              "Index(['Unnamed: 0', 'car_id', 'description', 'amount', 'region', 'make',\n",
              "       'model', 'year_of_man', 'color', 'condition', 'mileage', 'engine_size',\n",
              "       'selling_cond', 'bought_cond', 'trim', 'drive_train', 'reg_city',\n",
              "       'seat', 'num_cylinder', 'horse_power', 'body_build', 'fuel_type',\n",
              "       'transmission'],\n",
              "      dtype='object')"
            ]
          },
          "execution_count": 8,
          "metadata": {},
          "output_type": "execute_result"
        }
      ],
      "source": [
        "cars.columns"
      ]
    },
    {
      "cell_type": "code",
      "execution_count": null,
      "metadata": {
        "colab": {
          "base_uri": "https://localhost:8080/",
          "height": 805
        },
        "id": "DtLildKnMMCF",
        "outputId": "18239e17-ab3a-4d84-8ff5-86624d0433d8"
      },
      "outputs": [
        {
          "data": {
            "text/html": [
              "<div>\n",
              "<style scoped>\n",
              "    .dataframe tbody tr th:only-of-type {\n",
              "        vertical-align: middle;\n",
              "    }\n",
              "\n",
              "    .dataframe tbody tr th {\n",
              "        vertical-align: top;\n",
              "    }\n",
              "\n",
              "    .dataframe thead th {\n",
              "        text-align: right;\n",
              "    }\n",
              "</style>\n",
              "<table border=\"1\" class=\"dataframe\">\n",
              "  <thead>\n",
              "    <tr style=\"text-align: right;\">\n",
              "      <th></th>\n",
              "      <th>0</th>\n",
              "    </tr>\n",
              "  </thead>\n",
              "  <tbody>\n",
              "    <tr>\n",
              "      <th>Unnamed: 0</th>\n",
              "      <td>0</td>\n",
              "    </tr>\n",
              "    <tr>\n",
              "      <th>car_id</th>\n",
              "      <td>0</td>\n",
              "    </tr>\n",
              "    <tr>\n",
              "      <th>description</th>\n",
              "      <td>0</td>\n",
              "    </tr>\n",
              "    <tr>\n",
              "      <th>amount</th>\n",
              "      <td>0</td>\n",
              "    </tr>\n",
              "    <tr>\n",
              "      <th>region</th>\n",
              "      <td>0</td>\n",
              "    </tr>\n",
              "    <tr>\n",
              "      <th>make</th>\n",
              "      <td>0</td>\n",
              "    </tr>\n",
              "    <tr>\n",
              "      <th>model</th>\n",
              "      <td>0</td>\n",
              "    </tr>\n",
              "    <tr>\n",
              "      <th>year_of_man</th>\n",
              "      <td>0</td>\n",
              "    </tr>\n",
              "    <tr>\n",
              "      <th>color</th>\n",
              "      <td>1</td>\n",
              "    </tr>\n",
              "    <tr>\n",
              "      <th>condition</th>\n",
              "      <td>0</td>\n",
              "    </tr>\n",
              "    <tr>\n",
              "      <th>mileage</th>\n",
              "      <td>65</td>\n",
              "    </tr>\n",
              "    <tr>\n",
              "      <th>engine_size</th>\n",
              "      <td>48</td>\n",
              "    </tr>\n",
              "    <tr>\n",
              "      <th>selling_cond</th>\n",
              "      <td>17</td>\n",
              "    </tr>\n",
              "    <tr>\n",
              "      <th>bought_cond</th>\n",
              "      <td>17</td>\n",
              "    </tr>\n",
              "    <tr>\n",
              "      <th>trim</th>\n",
              "      <td>2500</td>\n",
              "    </tr>\n",
              "    <tr>\n",
              "      <th>drive_train</th>\n",
              "      <td>2533</td>\n",
              "    </tr>\n",
              "    <tr>\n",
              "      <th>reg_city</th>\n",
              "      <td>1225</td>\n",
              "    </tr>\n",
              "    <tr>\n",
              "      <th>seat</th>\n",
              "      <td>2549</td>\n",
              "    </tr>\n",
              "    <tr>\n",
              "      <th>num_cylinder</th>\n",
              "      <td>2525</td>\n",
              "    </tr>\n",
              "    <tr>\n",
              "      <th>horse_power</th>\n",
              "      <td>2556</td>\n",
              "    </tr>\n",
              "    <tr>\n",
              "      <th>body_build</th>\n",
              "      <td>1637</td>\n",
              "    </tr>\n",
              "    <tr>\n",
              "      <th>fuel_type</th>\n",
              "      <td>18</td>\n",
              "    </tr>\n",
              "    <tr>\n",
              "      <th>transmission</th>\n",
              "      <td>1</td>\n",
              "    </tr>\n",
              "  </tbody>\n",
              "</table>\n",
              "</div><br><label><b>dtype:</b> int64</label>"
            ],
            "text/plain": [
              "Unnamed: 0         0\n",
              "car_id             0\n",
              "description        0\n",
              "amount             0\n",
              "region             0\n",
              "make               0\n",
              "model              0\n",
              "year_of_man        0\n",
              "color              1\n",
              "condition          0\n",
              "mileage           65\n",
              "engine_size       48\n",
              "selling_cond      17\n",
              "bought_cond       17\n",
              "trim            2500\n",
              "drive_train     2533\n",
              "reg_city        1225\n",
              "seat            2549\n",
              "num_cylinder    2525\n",
              "horse_power     2556\n",
              "body_build      1637\n",
              "fuel_type         18\n",
              "transmission       1\n",
              "dtype: int64"
            ]
          },
          "execution_count": 9,
          "metadata": {},
          "output_type": "execute_result"
        }
      ],
      "source": [
        "cars.isnull().sum()"
      ]
    },
    {
      "cell_type": "code",
      "execution_count": null,
      "metadata": {
        "colab": {
          "base_uri": "https://localhost:8080/"
        },
        "id": "5amg5JruMjF3",
        "outputId": "c5749aff-c0da-4a5e-9009-cbb8bd29026a"
      },
      "outputs": [
        {
          "data": {
            "text/plain": [
              "np.int64(0)"
            ]
          },
          "execution_count": 10,
          "metadata": {},
          "output_type": "execute_result"
        }
      ],
      "source": [
        "cars.duplicated().sum()"
      ]
    },
    {
      "cell_type": "code",
      "execution_count": null,
      "metadata": {
        "colab": {
          "base_uri": "https://localhost:8080/",
          "height": 877
        },
        "id": "UJ-V8B_GM8X0",
        "outputId": "f279956c-767b-468b-d47c-2bd62bd22907"
      },
      "outputs": [
        {
          "data": {
            "application/vnd.google.colaboratory.intrinsic+json": {
              "type": "dataframe",
              "variable_name": "cars"
            },
            "text/html": [
              "\n",
              "  <div id=\"df-766e6ec3-f26d-4ec7-8269-150206206805\" class=\"colab-df-container\">\n",
              "    <div>\n",
              "<style scoped>\n",
              "    .dataframe tbody tr th:only-of-type {\n",
              "        vertical-align: middle;\n",
              "    }\n",
              "\n",
              "    .dataframe tbody tr th {\n",
              "        vertical-align: top;\n",
              "    }\n",
              "\n",
              "    .dataframe thead th {\n",
              "        text-align: right;\n",
              "    }\n",
              "</style>\n",
              "<table border=\"1\" class=\"dataframe\">\n",
              "  <thead>\n",
              "    <tr style=\"text-align: right;\">\n",
              "      <th></th>\n",
              "      <th>Unnamed: 0</th>\n",
              "      <th>car_id</th>\n",
              "      <th>description</th>\n",
              "      <th>amount</th>\n",
              "      <th>region</th>\n",
              "      <th>make</th>\n",
              "      <th>model</th>\n",
              "      <th>year_of_man</th>\n",
              "      <th>color</th>\n",
              "      <th>condition</th>\n",
              "      <th>...</th>\n",
              "      <th>bought_cond</th>\n",
              "      <th>trim</th>\n",
              "      <th>drive_train</th>\n",
              "      <th>reg_city</th>\n",
              "      <th>seat</th>\n",
              "      <th>num_cylinder</th>\n",
              "      <th>horse_power</th>\n",
              "      <th>body_build</th>\n",
              "      <th>fuel_type</th>\n",
              "      <th>transmission</th>\n",
              "    </tr>\n",
              "  </thead>\n",
              "  <tbody>\n",
              "    <tr>\n",
              "      <th>0</th>\n",
              "      <td>0</td>\n",
              "      <td>5IQTDBTYmvK1tJwhdvGJfESJ</td>\n",
              "      <td>Lexus ES 350 FWD 2013 Red</td>\n",
              "      <td>12937500</td>\n",
              "      <td>Lagos State, Ikeja</td>\n",
              "      <td>Lexus</td>\n",
              "      <td>ES</td>\n",
              "      <td>2013</td>\n",
              "      <td>Red</td>\n",
              "      <td>Foreign Used</td>\n",
              "      <td>...</td>\n",
              "      <td>Imported</td>\n",
              "      <td>350 FWD</td>\n",
              "      <td>Front Wheel</td>\n",
              "      <td>NaN</td>\n",
              "      <td>5</td>\n",
              "      <td>6.0</td>\n",
              "      <td>268.0</td>\n",
              "      <td>Sedan</td>\n",
              "      <td>Petrol</td>\n",
              "      <td>Automatic</td>\n",
              "    </tr>\n",
              "    <tr>\n",
              "      <th>1</th>\n",
              "      <td>1</td>\n",
              "      <td>zpZUGomoVXuKk9UFa8j8moC9</td>\n",
              "      <td>Land Rover Range Rover 2012 White</td>\n",
              "      <td>6750000</td>\n",
              "      <td>Abuja (FCT), Garki 2</td>\n",
              "      <td>Land Rover</td>\n",
              "      <td>Range Rover</td>\n",
              "      <td>2012</td>\n",
              "      <td>White</td>\n",
              "      <td>Nigerian Used</td>\n",
              "      <td>...</td>\n",
              "      <td>Registered</td>\n",
              "      <td>NaN</td>\n",
              "      <td>NaN</td>\n",
              "      <td>NaN</td>\n",
              "      <td>NaN</td>\n",
              "      <td>NaN</td>\n",
              "      <td>NaN</td>\n",
              "      <td>SUV</td>\n",
              "      <td>Petrol</td>\n",
              "      <td>Automatic</td>\n",
              "    </tr>\n",
              "    <tr>\n",
              "      <th>2</th>\n",
              "      <td>2</td>\n",
              "      <td>a6ShZXOX4KtY6IBGJIcF3Cxk</td>\n",
              "      <td>Toyota Sequoia 2018 Black</td>\n",
              "      <td>50625000</td>\n",
              "      <td>Lagos State, Lekki</td>\n",
              "      <td>Toyota</td>\n",
              "      <td>Sequoia</td>\n",
              "      <td>2018</td>\n",
              "      <td>Black</td>\n",
              "      <td>Foreign Used</td>\n",
              "      <td>...</td>\n",
              "      <td>Imported</td>\n",
              "      <td>NaN</td>\n",
              "      <td>NaN</td>\n",
              "      <td>NaN</td>\n",
              "      <td>NaN</td>\n",
              "      <td>NaN</td>\n",
              "      <td>NaN</td>\n",
              "      <td>SUV</td>\n",
              "      <td>Petrol</td>\n",
              "      <td>Automatic</td>\n",
              "    </tr>\n",
              "    <tr>\n",
              "      <th>3</th>\n",
              "      <td>3</td>\n",
              "      <td>CciPNDN6vhhQQI1FTQHAbfxi</td>\n",
              "      <td>Toyota Corolla 2007 Green</td>\n",
              "      <td>3600000</td>\n",
              "      <td>Abuja (FCT), Lugbe District</td>\n",
              "      <td>Toyota</td>\n",
              "      <td>Corolla</td>\n",
              "      <td>2007</td>\n",
              "      <td>Green</td>\n",
              "      <td>Nigerian Used</td>\n",
              "      <td>...</td>\n",
              "      <td>Registered</td>\n",
              "      <td>NaN</td>\n",
              "      <td>NaN</td>\n",
              "      <td>ABUJA</td>\n",
              "      <td>NaN</td>\n",
              "      <td>NaN</td>\n",
              "      <td>NaN</td>\n",
              "      <td>NaN</td>\n",
              "      <td>Petrol</td>\n",
              "      <td>Automatic</td>\n",
              "    </tr>\n",
              "    <tr>\n",
              "      <th>4</th>\n",
              "      <td>4</td>\n",
              "      <td>bvwd5LDMx6mIYpVa6Uhi2jqJ</td>\n",
              "      <td>Mercedes-Benz M Class 2005 Silver</td>\n",
              "      <td>3262500</td>\n",
              "      <td>Lagos State, Isolo</td>\n",
              "      <td>Mercedes-Benz</td>\n",
              "      <td>M Class</td>\n",
              "      <td>2005</td>\n",
              "      <td>Silver</td>\n",
              "      <td>Nigerian Used</td>\n",
              "      <td>...</td>\n",
              "      <td>Imported</td>\n",
              "      <td>NaN</td>\n",
              "      <td>NaN</td>\n",
              "      <td>ABUJA</td>\n",
              "      <td>NaN</td>\n",
              "      <td>NaN</td>\n",
              "      <td>NaN</td>\n",
              "      <td>NaN</td>\n",
              "      <td>Petrol</td>\n",
              "      <td>Automatic</td>\n",
              "    </tr>\n",
              "    <tr>\n",
              "      <th>...</th>\n",
              "      <td>...</td>\n",
              "      <td>...</td>\n",
              "      <td>...</td>\n",
              "      <td>...</td>\n",
              "      <td>...</td>\n",
              "      <td>...</td>\n",
              "      <td>...</td>\n",
              "      <td>...</td>\n",
              "      <td>...</td>\n",
              "      <td>...</td>\n",
              "      <td>...</td>\n",
              "      <td>...</td>\n",
              "      <td>...</td>\n",
              "      <td>...</td>\n",
              "      <td>...</td>\n",
              "      <td>...</td>\n",
              "      <td>...</td>\n",
              "      <td>...</td>\n",
              "      <td>...</td>\n",
              "      <td>...</td>\n",
              "      <td>...</td>\n",
              "    </tr>\n",
              "    <tr>\n",
              "      <th>2889</th>\n",
              "      <td>4348</td>\n",
              "      <td>sHnZZvambm9Prcwq4IwKPmGi</td>\n",
              "      <td>Mazda CX-7 2011 Beige</td>\n",
              "      <td>5062500</td>\n",
              "      <td>Lagos State, Lekki</td>\n",
              "      <td>Mazda</td>\n",
              "      <td>CX-7</td>\n",
              "      <td>2011</td>\n",
              "      <td>Beige</td>\n",
              "      <td>Foreign Used</td>\n",
              "      <td>...</td>\n",
              "      <td>Imported</td>\n",
              "      <td>NaN</td>\n",
              "      <td>NaN</td>\n",
              "      <td>NaN</td>\n",
              "      <td>NaN</td>\n",
              "      <td>NaN</td>\n",
              "      <td>NaN</td>\n",
              "      <td>SUV</td>\n",
              "      <td>Petrol</td>\n",
              "      <td>Automatic</td>\n",
              "    </tr>\n",
              "    <tr>\n",
              "      <th>2890</th>\n",
              "      <td>4349</td>\n",
              "      <td>fsa5b9HiCDnZt2P0Sf9qKLJN</td>\n",
              "      <td>Honda CR-V 1998 Red</td>\n",
              "      <td>1350000</td>\n",
              "      <td>Lagos State, Lekki</td>\n",
              "      <td>Honda</td>\n",
              "      <td>CR-V</td>\n",
              "      <td>1998</td>\n",
              "      <td>Red</td>\n",
              "      <td>Nigerian Used</td>\n",
              "      <td>...</td>\n",
              "      <td>Imported</td>\n",
              "      <td>NaN</td>\n",
              "      <td>NaN</td>\n",
              "      <td>Lagos</td>\n",
              "      <td>NaN</td>\n",
              "      <td>NaN</td>\n",
              "      <td>NaN</td>\n",
              "      <td>Crossover</td>\n",
              "      <td>Petrol</td>\n",
              "      <td>Automatic</td>\n",
              "    </tr>\n",
              "    <tr>\n",
              "      <th>2891</th>\n",
              "      <td>4350</td>\n",
              "      <td>uE5eXlbAEMfHSMZ0SYahHP8x</td>\n",
              "      <td>Lexus GS 2006 Black</td>\n",
              "      <td>4725000</td>\n",
              "      <td>Lagos State, Lekki</td>\n",
              "      <td>Lexus</td>\n",
              "      <td>GS</td>\n",
              "      <td>2006</td>\n",
              "      <td>Black</td>\n",
              "      <td>Foreign Used</td>\n",
              "      <td>...</td>\n",
              "      <td>Imported</td>\n",
              "      <td>NaN</td>\n",
              "      <td>NaN</td>\n",
              "      <td>NaN</td>\n",
              "      <td>NaN</td>\n",
              "      <td>NaN</td>\n",
              "      <td>NaN</td>\n",
              "      <td>NaN</td>\n",
              "      <td>Petrol</td>\n",
              "      <td>Automatic</td>\n",
              "    </tr>\n",
              "    <tr>\n",
              "      <th>2892</th>\n",
              "      <td>4351</td>\n",
              "      <td>CzI81oX5BIFITuoFozBtnQLS</td>\n",
              "      <td>Land Rover Range Rover Sport 2008 White</td>\n",
              "      <td>6930000</td>\n",
              "      <td>Edo State, Benin City</td>\n",
              "      <td>Land Rover</td>\n",
              "      <td>Range Rover Sport</td>\n",
              "      <td>2008</td>\n",
              "      <td>White</td>\n",
              "      <td>Foreign Used</td>\n",
              "      <td>...</td>\n",
              "      <td>Imported</td>\n",
              "      <td>NaN</td>\n",
              "      <td>NaN</td>\n",
              "      <td>NaN</td>\n",
              "      <td>NaN</td>\n",
              "      <td>NaN</td>\n",
              "      <td>NaN</td>\n",
              "      <td>SUV</td>\n",
              "      <td>Petrol</td>\n",
              "      <td>Automatic</td>\n",
              "    </tr>\n",
              "    <tr>\n",
              "      <th>2893</th>\n",
              "      <td>4352</td>\n",
              "      <td>41KZsjPRmovhziJJQ3gkw37Q</td>\n",
              "      <td>Toyota Corolla Sedan 2005 White</td>\n",
              "      <td>2600000</td>\n",
              "      <td>Abuja (FCT), Lugbe District</td>\n",
              "      <td>Toyota</td>\n",
              "      <td>Corolla</td>\n",
              "      <td>2005</td>\n",
              "      <td>White</td>\n",
              "      <td>Nigerian Used</td>\n",
              "      <td>...</td>\n",
              "      <td>Imported</td>\n",
              "      <td>Sedan</td>\n",
              "      <td>Front</td>\n",
              "      <td>ABUJA</td>\n",
              "      <td>5</td>\n",
              "      <td>4.0</td>\n",
              "      <td>90.0</td>\n",
              "      <td>Sedan</td>\n",
              "      <td>Petrol</td>\n",
              "      <td>Automatic</td>\n",
              "    </tr>\n",
              "  </tbody>\n",
              "</table>\n",
              "<p>2894 rows × 23 columns</p>\n",
              "</div>\n",
              "    <div class=\"colab-df-buttons\">\n",
              "\n",
              "  <div class=\"colab-df-container\">\n",
              "    <button class=\"colab-df-convert\" onclick=\"convertToInteractive('df-766e6ec3-f26d-4ec7-8269-150206206805')\"\n",
              "            title=\"Convert this dataframe to an interactive table.\"\n",
              "            style=\"display:none;\">\n",
              "\n",
              "  <svg xmlns=\"http://www.w3.org/2000/svg\" height=\"24px\" viewBox=\"0 -960 960 960\">\n",
              "    <path d=\"M120-120v-720h720v720H120Zm60-500h600v-160H180v160Zm220 220h160v-160H400v160Zm0 220h160v-160H400v160ZM180-400h160v-160H180v160Zm440 0h160v-160H620v160ZM180-180h160v-160H180v160Zm440 0h160v-160H620v160Z\"/>\n",
              "  </svg>\n",
              "    </button>\n",
              "\n",
              "  <style>\n",
              "    .colab-df-container {\n",
              "      display:flex;\n",
              "      gap: 12px;\n",
              "    }\n",
              "\n",
              "    .colab-df-convert {\n",
              "      background-color: #E8F0FE;\n",
              "      border: none;\n",
              "      border-radius: 50%;\n",
              "      cursor: pointer;\n",
              "      display: none;\n",
              "      fill: #1967D2;\n",
              "      height: 32px;\n",
              "      padding: 0 0 0 0;\n",
              "      width: 32px;\n",
              "    }\n",
              "\n",
              "    .colab-df-convert:hover {\n",
              "      background-color: #E2EBFA;\n",
              "      box-shadow: 0px 1px 2px rgba(60, 64, 67, 0.3), 0px 1px 3px 1px rgba(60, 64, 67, 0.15);\n",
              "      fill: #174EA6;\n",
              "    }\n",
              "\n",
              "    .colab-df-buttons div {\n",
              "      margin-bottom: 4px;\n",
              "    }\n",
              "\n",
              "    [theme=dark] .colab-df-convert {\n",
              "      background-color: #3B4455;\n",
              "      fill: #D2E3FC;\n",
              "    }\n",
              "\n",
              "    [theme=dark] .colab-df-convert:hover {\n",
              "      background-color: #434B5C;\n",
              "      box-shadow: 0px 1px 3px 1px rgba(0, 0, 0, 0.15);\n",
              "      filter: drop-shadow(0px 1px 2px rgba(0, 0, 0, 0.3));\n",
              "      fill: #FFFFFF;\n",
              "    }\n",
              "  </style>\n",
              "\n",
              "    <script>\n",
              "      const buttonEl =\n",
              "        document.querySelector('#df-766e6ec3-f26d-4ec7-8269-150206206805 button.colab-df-convert');\n",
              "      buttonEl.style.display =\n",
              "        google.colab.kernel.accessAllowed ? 'block' : 'none';\n",
              "\n",
              "      async function convertToInteractive(key) {\n",
              "        const element = document.querySelector('#df-766e6ec3-f26d-4ec7-8269-150206206805');\n",
              "        const dataTable =\n",
              "          await google.colab.kernel.invokeFunction('convertToInteractive',\n",
              "                                                    [key], {});\n",
              "        if (!dataTable) return;\n",
              "\n",
              "        const docLinkHtml = 'Like what you see? Visit the ' +\n",
              "          '<a target=\"_blank\" href=https://colab.research.google.com/notebooks/data_table.ipynb>data table notebook</a>'\n",
              "          + ' to learn more about interactive tables.';\n",
              "        element.innerHTML = '';\n",
              "        dataTable['output_type'] = 'display_data';\n",
              "        await google.colab.output.renderOutput(dataTable, element);\n",
              "        const docLink = document.createElement('div');\n",
              "        docLink.innerHTML = docLinkHtml;\n",
              "        element.appendChild(docLink);\n",
              "      }\n",
              "    </script>\n",
              "  </div>\n",
              "\n",
              "\n",
              "<div id=\"df-90ccf806-8534-4772-9a40-96b694a81e57\">\n",
              "  <button class=\"colab-df-quickchart\" onclick=\"quickchart('df-90ccf806-8534-4772-9a40-96b694a81e57')\"\n",
              "            title=\"Suggest charts\"\n",
              "            style=\"display:none;\">\n",
              "\n",
              "<svg xmlns=\"http://www.w3.org/2000/svg\" height=\"24px\"viewBox=\"0 0 24 24\"\n",
              "     width=\"24px\">\n",
              "    <g>\n",
              "        <path d=\"M19 3H5c-1.1 0-2 .9-2 2v14c0 1.1.9 2 2 2h14c1.1 0 2-.9 2-2V5c0-1.1-.9-2-2-2zM9 17H7v-7h2v7zm4 0h-2V7h2v10zm4 0h-2v-4h2v4z\"/>\n",
              "    </g>\n",
              "</svg>\n",
              "  </button>\n",
              "\n",
              "<style>\n",
              "  .colab-df-quickchart {\n",
              "      --bg-color: #E8F0FE;\n",
              "      --fill-color: #1967D2;\n",
              "      --hover-bg-color: #E2EBFA;\n",
              "      --hover-fill-color: #174EA6;\n",
              "      --disabled-fill-color: #AAA;\n",
              "      --disabled-bg-color: #DDD;\n",
              "  }\n",
              "\n",
              "  [theme=dark] .colab-df-quickchart {\n",
              "      --bg-color: #3B4455;\n",
              "      --fill-color: #D2E3FC;\n",
              "      --hover-bg-color: #434B5C;\n",
              "      --hover-fill-color: #FFFFFF;\n",
              "      --disabled-bg-color: #3B4455;\n",
              "      --disabled-fill-color: #666;\n",
              "  }\n",
              "\n",
              "  .colab-df-quickchart {\n",
              "    background-color: var(--bg-color);\n",
              "    border: none;\n",
              "    border-radius: 50%;\n",
              "    cursor: pointer;\n",
              "    display: none;\n",
              "    fill: var(--fill-color);\n",
              "    height: 32px;\n",
              "    padding: 0;\n",
              "    width: 32px;\n",
              "  }\n",
              "\n",
              "  .colab-df-quickchart:hover {\n",
              "    background-color: var(--hover-bg-color);\n",
              "    box-shadow: 0 1px 2px rgba(60, 64, 67, 0.3), 0 1px 3px 1px rgba(60, 64, 67, 0.15);\n",
              "    fill: var(--button-hover-fill-color);\n",
              "  }\n",
              "\n",
              "  .colab-df-quickchart-complete:disabled,\n",
              "  .colab-df-quickchart-complete:disabled:hover {\n",
              "    background-color: var(--disabled-bg-color);\n",
              "    fill: var(--disabled-fill-color);\n",
              "    box-shadow: none;\n",
              "  }\n",
              "\n",
              "  .colab-df-spinner {\n",
              "    border: 2px solid var(--fill-color);\n",
              "    border-color: transparent;\n",
              "    border-bottom-color: var(--fill-color);\n",
              "    animation:\n",
              "      spin 1s steps(1) infinite;\n",
              "  }\n",
              "\n",
              "  @keyframes spin {\n",
              "    0% {\n",
              "      border-color: transparent;\n",
              "      border-bottom-color: var(--fill-color);\n",
              "      border-left-color: var(--fill-color);\n",
              "    }\n",
              "    20% {\n",
              "      border-color: transparent;\n",
              "      border-left-color: var(--fill-color);\n",
              "      border-top-color: var(--fill-color);\n",
              "    }\n",
              "    30% {\n",
              "      border-color: transparent;\n",
              "      border-left-color: var(--fill-color);\n",
              "      border-top-color: var(--fill-color);\n",
              "      border-right-color: var(--fill-color);\n",
              "    }\n",
              "    40% {\n",
              "      border-color: transparent;\n",
              "      border-right-color: var(--fill-color);\n",
              "      border-top-color: var(--fill-color);\n",
              "    }\n",
              "    60% {\n",
              "      border-color: transparent;\n",
              "      border-right-color: var(--fill-color);\n",
              "    }\n",
              "    80% {\n",
              "      border-color: transparent;\n",
              "      border-right-color: var(--fill-color);\n",
              "      border-bottom-color: var(--fill-color);\n",
              "    }\n",
              "    90% {\n",
              "      border-color: transparent;\n",
              "      border-bottom-color: var(--fill-color);\n",
              "    }\n",
              "  }\n",
              "</style>\n",
              "\n",
              "  <script>\n",
              "    async function quickchart(key) {\n",
              "      const quickchartButtonEl =\n",
              "        document.querySelector('#' + key + ' button');\n",
              "      quickchartButtonEl.disabled = true;  // To prevent multiple clicks.\n",
              "      quickchartButtonEl.classList.add('colab-df-spinner');\n",
              "      try {\n",
              "        const charts = await google.colab.kernel.invokeFunction(\n",
              "            'suggestCharts', [key], {});\n",
              "      } catch (error) {\n",
              "        console.error('Error during call to suggestCharts:', error);\n",
              "      }\n",
              "      quickchartButtonEl.classList.remove('colab-df-spinner');\n",
              "      quickchartButtonEl.classList.add('colab-df-quickchart-complete');\n",
              "    }\n",
              "    (() => {\n",
              "      let quickchartButtonEl =\n",
              "        document.querySelector('#df-90ccf806-8534-4772-9a40-96b694a81e57 button');\n",
              "      quickchartButtonEl.style.display =\n",
              "        google.colab.kernel.accessAllowed ? 'block' : 'none';\n",
              "    })();\n",
              "  </script>\n",
              "</div>\n",
              "\n",
              "  <div id=\"id_fe6c1144-c83e-4e81-bc5b-6c66da99d587\">\n",
              "    <style>\n",
              "      .colab-df-generate {\n",
              "        background-color: #E8F0FE;\n",
              "        border: none;\n",
              "        border-radius: 50%;\n",
              "        cursor: pointer;\n",
              "        display: none;\n",
              "        fill: #1967D2;\n",
              "        height: 32px;\n",
              "        padding: 0 0 0 0;\n",
              "        width: 32px;\n",
              "      }\n",
              "\n",
              "      .colab-df-generate:hover {\n",
              "        background-color: #E2EBFA;\n",
              "        box-shadow: 0px 1px 2px rgba(60, 64, 67, 0.3), 0px 1px 3px 1px rgba(60, 64, 67, 0.15);\n",
              "        fill: #174EA6;\n",
              "      }\n",
              "\n",
              "      [theme=dark] .colab-df-generate {\n",
              "        background-color: #3B4455;\n",
              "        fill: #D2E3FC;\n",
              "      }\n",
              "\n",
              "      [theme=dark] .colab-df-generate:hover {\n",
              "        background-color: #434B5C;\n",
              "        box-shadow: 0px 1px 3px 1px rgba(0, 0, 0, 0.15);\n",
              "        filter: drop-shadow(0px 1px 2px rgba(0, 0, 0, 0.3));\n",
              "        fill: #FFFFFF;\n",
              "      }\n",
              "    </style>\n",
              "    <button class=\"colab-df-generate\" onclick=\"generateWithVariable('cars')\"\n",
              "            title=\"Generate code using this dataframe.\"\n",
              "            style=\"display:none;\">\n",
              "\n",
              "  <svg xmlns=\"http://www.w3.org/2000/svg\" height=\"24px\"viewBox=\"0 0 24 24\"\n",
              "       width=\"24px\">\n",
              "    <path d=\"M7,19H8.4L18.45,9,17,7.55,7,17.6ZM5,21V16.75L18.45,3.32a2,2,0,0,1,2.83,0l1.4,1.43a1.91,1.91,0,0,1,.58,1.4,1.91,1.91,0,0,1-.58,1.4L9.25,21ZM18.45,9,17,7.55Zm-12,3A5.31,5.31,0,0,0,4.9,8.1,5.31,5.31,0,0,0,1,6.5,5.31,5.31,0,0,0,4.9,4.9,5.31,5.31,0,0,0,6.5,1,5.31,5.31,0,0,0,8.1,4.9,5.31,5.31,0,0,0,12,6.5,5.46,5.46,0,0,0,6.5,12Z\"/>\n",
              "  </svg>\n",
              "    </button>\n",
              "    <script>\n",
              "      (() => {\n",
              "      const buttonEl =\n",
              "        document.querySelector('#id_fe6c1144-c83e-4e81-bc5b-6c66da99d587 button.colab-df-generate');\n",
              "      buttonEl.style.display =\n",
              "        google.colab.kernel.accessAllowed ? 'block' : 'none';\n",
              "\n",
              "      buttonEl.onclick = () => {\n",
              "        google.colab.notebook.generateWithVariable('cars');\n",
              "      }\n",
              "      })();\n",
              "    </script>\n",
              "  </div>\n",
              "\n",
              "    </div>\n",
              "  </div>\n"
            ],
            "text/plain": [
              "      Unnamed: 0                    car_id  \\\n",
              "0              0  5IQTDBTYmvK1tJwhdvGJfESJ   \n",
              "1              1  zpZUGomoVXuKk9UFa8j8moC9   \n",
              "2              2  a6ShZXOX4KtY6IBGJIcF3Cxk   \n",
              "3              3  CciPNDN6vhhQQI1FTQHAbfxi   \n",
              "4              4  bvwd5LDMx6mIYpVa6Uhi2jqJ   \n",
              "...          ...                       ...   \n",
              "2889        4348  sHnZZvambm9Prcwq4IwKPmGi   \n",
              "2890        4349  fsa5b9HiCDnZt2P0Sf9qKLJN   \n",
              "2891        4350  uE5eXlbAEMfHSMZ0SYahHP8x   \n",
              "2892        4351  CzI81oX5BIFITuoFozBtnQLS   \n",
              "2893        4352  41KZsjPRmovhziJJQ3gkw37Q   \n",
              "\n",
              "                                  description    amount  \\\n",
              "0                   Lexus ES 350 FWD 2013 Red  12937500   \n",
              "1           Land Rover Range Rover 2012 White   6750000   \n",
              "2                   Toyota Sequoia 2018 Black  50625000   \n",
              "3                   Toyota Corolla 2007 Green   3600000   \n",
              "4           Mercedes-Benz M Class 2005 Silver   3262500   \n",
              "...                                       ...       ...   \n",
              "2889                    Mazda CX-7 2011 Beige   5062500   \n",
              "2890                      Honda CR-V 1998 Red   1350000   \n",
              "2891                      Lexus GS 2006 Black   4725000   \n",
              "2892  Land Rover Range Rover Sport 2008 White   6930000   \n",
              "2893          Toyota Corolla Sedan 2005 White   2600000   \n",
              "\n",
              "                           region           make              model  \\\n",
              "0              Lagos State, Ikeja          Lexus                 ES   \n",
              "1            Abuja (FCT), Garki 2     Land Rover        Range Rover   \n",
              "2              Lagos State, Lekki         Toyota            Sequoia   \n",
              "3     Abuja (FCT), Lugbe District         Toyota            Corolla   \n",
              "4              Lagos State, Isolo  Mercedes-Benz            M Class   \n",
              "...                           ...            ...                ...   \n",
              "2889           Lagos State, Lekki          Mazda               CX-7   \n",
              "2890           Lagos State, Lekki          Honda               CR-V   \n",
              "2891           Lagos State, Lekki          Lexus                 GS   \n",
              "2892        Edo State, Benin City     Land Rover  Range Rover Sport   \n",
              "2893  Abuja (FCT), Lugbe District         Toyota            Corolla   \n",
              "\n",
              "      year_of_man   color      condition  ...  bought_cond     trim  \\\n",
              "0            2013     Red   Foreign Used  ...     Imported  350 FWD   \n",
              "1            2012   White  Nigerian Used  ...   Registered      NaN   \n",
              "2            2018   Black   Foreign Used  ...     Imported      NaN   \n",
              "3            2007   Green  Nigerian Used  ...   Registered      NaN   \n",
              "4            2005  Silver  Nigerian Used  ...     Imported      NaN   \n",
              "...           ...     ...            ...  ...          ...      ...   \n",
              "2889         2011   Beige   Foreign Used  ...     Imported      NaN   \n",
              "2890         1998     Red  Nigerian Used  ...     Imported      NaN   \n",
              "2891         2006   Black   Foreign Used  ...     Imported      NaN   \n",
              "2892         2008   White   Foreign Used  ...     Imported      NaN   \n",
              "2893         2005   White  Nigerian Used  ...     Imported    Sedan   \n",
              "\n",
              "      drive_train reg_city seat num_cylinder horse_power body_build  \\\n",
              "0     Front Wheel      NaN    5          6.0       268.0      Sedan   \n",
              "1             NaN      NaN  NaN          NaN         NaN        SUV   \n",
              "2             NaN      NaN  NaN          NaN         NaN        SUV   \n",
              "3             NaN    ABUJA  NaN          NaN         NaN        NaN   \n",
              "4             NaN    ABUJA  NaN          NaN         NaN        NaN   \n",
              "...           ...      ...  ...          ...         ...        ...   \n",
              "2889          NaN      NaN  NaN          NaN         NaN        SUV   \n",
              "2890          NaN    Lagos  NaN          NaN         NaN  Crossover   \n",
              "2891          NaN      NaN  NaN          NaN         NaN        NaN   \n",
              "2892          NaN      NaN  NaN          NaN         NaN        SUV   \n",
              "2893        Front    ABUJA    5          4.0        90.0      Sedan   \n",
              "\n",
              "      fuel_type  transmission  \n",
              "0        Petrol     Automatic  \n",
              "1        Petrol     Automatic  \n",
              "2        Petrol     Automatic  \n",
              "3        Petrol     Automatic  \n",
              "4        Petrol     Automatic  \n",
              "...         ...           ...  \n",
              "2889     Petrol     Automatic  \n",
              "2890     Petrol     Automatic  \n",
              "2891     Petrol     Automatic  \n",
              "2892     Petrol     Automatic  \n",
              "2893     Petrol     Automatic  \n",
              "\n",
              "[2894 rows x 23 columns]"
            ]
          },
          "execution_count": 11,
          "metadata": {},
          "output_type": "execute_result"
        }
      ],
      "source": [
        "cars"
      ]
    },
    {
      "cell_type": "code",
      "execution_count": null,
      "metadata": {
        "colab": {
          "base_uri": "https://localhost:8080/",
          "height": 458
        },
        "id": "jfT3VMU1NITg",
        "outputId": "453b5c69-b115-41f1-aa92-c3c1d559626c"
      },
      "outputs": [
        {
          "data": {
            "text/html": [
              "<div>\n",
              "<style scoped>\n",
              "    .dataframe tbody tr th:only-of-type {\n",
              "        vertical-align: middle;\n",
              "    }\n",
              "\n",
              "    .dataframe tbody tr th {\n",
              "        vertical-align: top;\n",
              "    }\n",
              "\n",
              "    .dataframe thead th {\n",
              "        text-align: right;\n",
              "    }\n",
              "</style>\n",
              "<table border=\"1\" class=\"dataframe\">\n",
              "  <thead>\n",
              "    <tr style=\"text-align: right;\">\n",
              "      <th></th>\n",
              "      <th>Unnamed: 0</th>\n",
              "    </tr>\n",
              "  </thead>\n",
              "  <tbody>\n",
              "    <tr>\n",
              "      <th>0</th>\n",
              "      <td>0</td>\n",
              "    </tr>\n",
              "    <tr>\n",
              "      <th>1</th>\n",
              "      <td>1</td>\n",
              "    </tr>\n",
              "    <tr>\n",
              "      <th>2</th>\n",
              "      <td>2</td>\n",
              "    </tr>\n",
              "    <tr>\n",
              "      <th>3</th>\n",
              "      <td>3</td>\n",
              "    </tr>\n",
              "    <tr>\n",
              "      <th>4</th>\n",
              "      <td>4</td>\n",
              "    </tr>\n",
              "    <tr>\n",
              "      <th>...</th>\n",
              "      <td>...</td>\n",
              "    </tr>\n",
              "    <tr>\n",
              "      <th>2889</th>\n",
              "      <td>4348</td>\n",
              "    </tr>\n",
              "    <tr>\n",
              "      <th>2890</th>\n",
              "      <td>4349</td>\n",
              "    </tr>\n",
              "    <tr>\n",
              "      <th>2891</th>\n",
              "      <td>4350</td>\n",
              "    </tr>\n",
              "    <tr>\n",
              "      <th>2892</th>\n",
              "      <td>4351</td>\n",
              "    </tr>\n",
              "    <tr>\n",
              "      <th>2893</th>\n",
              "      <td>4352</td>\n",
              "    </tr>\n",
              "  </tbody>\n",
              "</table>\n",
              "<p>2894 rows × 1 columns</p>\n",
              "</div><br><label><b>dtype:</b> int64</label>"
            ],
            "text/plain": [
              "0          0\n",
              "1          1\n",
              "2          2\n",
              "3          3\n",
              "4          4\n",
              "        ... \n",
              "2889    4348\n",
              "2890    4349\n",
              "2891    4350\n",
              "2892    4351\n",
              "2893    4352\n",
              "Name: Unnamed: 0, Length: 2894, dtype: int64"
            ]
          },
          "execution_count": 12,
          "metadata": {},
          "output_type": "execute_result"
        }
      ],
      "source": [
        "cars['Unnamed: 0']"
      ]
    },
    {
      "cell_type": "code",
      "execution_count": null,
      "metadata": {
        "id": "hwHje_FcNXtU"
      },
      "outputs": [],
      "source": [
        "cars.drop('Unnamed: 0', axis=1, inplace=True)"
      ]
    },
    {
      "cell_type": "code",
      "execution_count": null,
      "metadata": {
        "colab": {
          "base_uri": "https://localhost:8080/",
          "height": 860
        },
        "id": "9ZyHTE_tOPJO",
        "outputId": "547a09e9-e86a-4e0b-badf-6f01505f6128"
      },
      "outputs": [
        {
          "data": {
            "application/vnd.google.colaboratory.intrinsic+json": {
              "type": "dataframe",
              "variable_name": "cars"
            },
            "text/html": [
              "\n",
              "  <div id=\"df-6d8aed2e-619a-41f1-b1f0-ed979bedb129\" class=\"colab-df-container\">\n",
              "    <div>\n",
              "<style scoped>\n",
              "    .dataframe tbody tr th:only-of-type {\n",
              "        vertical-align: middle;\n",
              "    }\n",
              "\n",
              "    .dataframe tbody tr th {\n",
              "        vertical-align: top;\n",
              "    }\n",
              "\n",
              "    .dataframe thead th {\n",
              "        text-align: right;\n",
              "    }\n",
              "</style>\n",
              "<table border=\"1\" class=\"dataframe\">\n",
              "  <thead>\n",
              "    <tr style=\"text-align: right;\">\n",
              "      <th></th>\n",
              "      <th>car_id</th>\n",
              "      <th>description</th>\n",
              "      <th>amount</th>\n",
              "      <th>region</th>\n",
              "      <th>make</th>\n",
              "      <th>model</th>\n",
              "      <th>year_of_man</th>\n",
              "      <th>color</th>\n",
              "      <th>condition</th>\n",
              "      <th>mileage</th>\n",
              "      <th>...</th>\n",
              "      <th>bought_cond</th>\n",
              "      <th>trim</th>\n",
              "      <th>drive_train</th>\n",
              "      <th>reg_city</th>\n",
              "      <th>seat</th>\n",
              "      <th>num_cylinder</th>\n",
              "      <th>horse_power</th>\n",
              "      <th>body_build</th>\n",
              "      <th>fuel_type</th>\n",
              "      <th>transmission</th>\n",
              "    </tr>\n",
              "  </thead>\n",
              "  <tbody>\n",
              "    <tr>\n",
              "      <th>0</th>\n",
              "      <td>5IQTDBTYmvK1tJwhdvGJfESJ</td>\n",
              "      <td>Lexus ES 350 FWD 2013 Red</td>\n",
              "      <td>12937500</td>\n",
              "      <td>Lagos State, Ikeja</td>\n",
              "      <td>Lexus</td>\n",
              "      <td>ES</td>\n",
              "      <td>2013</td>\n",
              "      <td>Red</td>\n",
              "      <td>Foreign Used</td>\n",
              "      <td>272474.0</td>\n",
              "      <td>...</td>\n",
              "      <td>Imported</td>\n",
              "      <td>350 FWD</td>\n",
              "      <td>Front Wheel</td>\n",
              "      <td>NaN</td>\n",
              "      <td>5</td>\n",
              "      <td>6.0</td>\n",
              "      <td>268.0</td>\n",
              "      <td>Sedan</td>\n",
              "      <td>Petrol</td>\n",
              "      <td>Automatic</td>\n",
              "    </tr>\n",
              "    <tr>\n",
              "      <th>1</th>\n",
              "      <td>zpZUGomoVXuKk9UFa8j8moC9</td>\n",
              "      <td>Land Rover Range Rover 2012 White</td>\n",
              "      <td>6750000</td>\n",
              "      <td>Abuja (FCT), Garki 2</td>\n",
              "      <td>Land Rover</td>\n",
              "      <td>Range Rover</td>\n",
              "      <td>2012</td>\n",
              "      <td>White</td>\n",
              "      <td>Nigerian Used</td>\n",
              "      <td>102281.0</td>\n",
              "      <td>...</td>\n",
              "      <td>Registered</td>\n",
              "      <td>NaN</td>\n",
              "      <td>NaN</td>\n",
              "      <td>NaN</td>\n",
              "      <td>NaN</td>\n",
              "      <td>NaN</td>\n",
              "      <td>NaN</td>\n",
              "      <td>SUV</td>\n",
              "      <td>Petrol</td>\n",
              "      <td>Automatic</td>\n",
              "    </tr>\n",
              "    <tr>\n",
              "      <th>2</th>\n",
              "      <td>a6ShZXOX4KtY6IBGJIcF3Cxk</td>\n",
              "      <td>Toyota Sequoia 2018 Black</td>\n",
              "      <td>50625000</td>\n",
              "      <td>Lagos State, Lekki</td>\n",
              "      <td>Toyota</td>\n",
              "      <td>Sequoia</td>\n",
              "      <td>2018</td>\n",
              "      <td>Black</td>\n",
              "      <td>Foreign Used</td>\n",
              "      <td>127390.0</td>\n",
              "      <td>...</td>\n",
              "      <td>Imported</td>\n",
              "      <td>NaN</td>\n",
              "      <td>NaN</td>\n",
              "      <td>NaN</td>\n",
              "      <td>NaN</td>\n",
              "      <td>NaN</td>\n",
              "      <td>NaN</td>\n",
              "      <td>SUV</td>\n",
              "      <td>Petrol</td>\n",
              "      <td>Automatic</td>\n",
              "    </tr>\n",
              "    <tr>\n",
              "      <th>3</th>\n",
              "      <td>CciPNDN6vhhQQI1FTQHAbfxi</td>\n",
              "      <td>Toyota Corolla 2007 Green</td>\n",
              "      <td>3600000</td>\n",
              "      <td>Abuja (FCT), Lugbe District</td>\n",
              "      <td>Toyota</td>\n",
              "      <td>Corolla</td>\n",
              "      <td>2007</td>\n",
              "      <td>Green</td>\n",
              "      <td>Nigerian Used</td>\n",
              "      <td>139680.0</td>\n",
              "      <td>...</td>\n",
              "      <td>Registered</td>\n",
              "      <td>NaN</td>\n",
              "      <td>NaN</td>\n",
              "      <td>ABUJA</td>\n",
              "      <td>NaN</td>\n",
              "      <td>NaN</td>\n",
              "      <td>NaN</td>\n",
              "      <td>NaN</td>\n",
              "      <td>Petrol</td>\n",
              "      <td>Automatic</td>\n",
              "    </tr>\n",
              "    <tr>\n",
              "      <th>4</th>\n",
              "      <td>bvwd5LDMx6mIYpVa6Uhi2jqJ</td>\n",
              "      <td>Mercedes-Benz M Class 2005 Silver</td>\n",
              "      <td>3262500</td>\n",
              "      <td>Lagos State, Isolo</td>\n",
              "      <td>Mercedes-Benz</td>\n",
              "      <td>M Class</td>\n",
              "      <td>2005</td>\n",
              "      <td>Silver</td>\n",
              "      <td>Nigerian Used</td>\n",
              "      <td>220615.0</td>\n",
              "      <td>...</td>\n",
              "      <td>Imported</td>\n",
              "      <td>NaN</td>\n",
              "      <td>NaN</td>\n",
              "      <td>ABUJA</td>\n",
              "      <td>NaN</td>\n",
              "      <td>NaN</td>\n",
              "      <td>NaN</td>\n",
              "      <td>NaN</td>\n",
              "      <td>Petrol</td>\n",
              "      <td>Automatic</td>\n",
              "    </tr>\n",
              "    <tr>\n",
              "      <th>...</th>\n",
              "      <td>...</td>\n",
              "      <td>...</td>\n",
              "      <td>...</td>\n",
              "      <td>...</td>\n",
              "      <td>...</td>\n",
              "      <td>...</td>\n",
              "      <td>...</td>\n",
              "      <td>...</td>\n",
              "      <td>...</td>\n",
              "      <td>...</td>\n",
              "      <td>...</td>\n",
              "      <td>...</td>\n",
              "      <td>...</td>\n",
              "      <td>...</td>\n",
              "      <td>...</td>\n",
              "      <td>...</td>\n",
              "      <td>...</td>\n",
              "      <td>...</td>\n",
              "      <td>...</td>\n",
              "      <td>...</td>\n",
              "      <td>...</td>\n",
              "    </tr>\n",
              "    <tr>\n",
              "      <th>2889</th>\n",
              "      <td>sHnZZvambm9Prcwq4IwKPmGi</td>\n",
              "      <td>Mazda CX-7 2011 Beige</td>\n",
              "      <td>5062500</td>\n",
              "      <td>Lagos State, Lekki</td>\n",
              "      <td>Mazda</td>\n",
              "      <td>CX-7</td>\n",
              "      <td>2011</td>\n",
              "      <td>Beige</td>\n",
              "      <td>Foreign Used</td>\n",
              "      <td>111835.0</td>\n",
              "      <td>...</td>\n",
              "      <td>Imported</td>\n",
              "      <td>NaN</td>\n",
              "      <td>NaN</td>\n",
              "      <td>NaN</td>\n",
              "      <td>NaN</td>\n",
              "      <td>NaN</td>\n",
              "      <td>NaN</td>\n",
              "      <td>SUV</td>\n",
              "      <td>Petrol</td>\n",
              "      <td>Automatic</td>\n",
              "    </tr>\n",
              "    <tr>\n",
              "      <th>2890</th>\n",
              "      <td>fsa5b9HiCDnZt2P0Sf9qKLJN</td>\n",
              "      <td>Honda CR-V 1998 Red</td>\n",
              "      <td>1350000</td>\n",
              "      <td>Lagos State, Lekki</td>\n",
              "      <td>Honda</td>\n",
              "      <td>CR-V</td>\n",
              "      <td>1998</td>\n",
              "      <td>Red</td>\n",
              "      <td>Nigerian Used</td>\n",
              "      <td>126955.0</td>\n",
              "      <td>...</td>\n",
              "      <td>Imported</td>\n",
              "      <td>NaN</td>\n",
              "      <td>NaN</td>\n",
              "      <td>Lagos</td>\n",
              "      <td>NaN</td>\n",
              "      <td>NaN</td>\n",
              "      <td>NaN</td>\n",
              "      <td>Crossover</td>\n",
              "      <td>Petrol</td>\n",
              "      <td>Automatic</td>\n",
              "    </tr>\n",
              "    <tr>\n",
              "      <th>2891</th>\n",
              "      <td>uE5eXlbAEMfHSMZ0SYahHP8x</td>\n",
              "      <td>Lexus GS 2006 Black</td>\n",
              "      <td>4725000</td>\n",
              "      <td>Lagos State, Lekki</td>\n",
              "      <td>Lexus</td>\n",
              "      <td>GS</td>\n",
              "      <td>2006</td>\n",
              "      <td>Black</td>\n",
              "      <td>Foreign Used</td>\n",
              "      <td>223069.0</td>\n",
              "      <td>...</td>\n",
              "      <td>Imported</td>\n",
              "      <td>NaN</td>\n",
              "      <td>NaN</td>\n",
              "      <td>NaN</td>\n",
              "      <td>NaN</td>\n",
              "      <td>NaN</td>\n",
              "      <td>NaN</td>\n",
              "      <td>NaN</td>\n",
              "      <td>Petrol</td>\n",
              "      <td>Automatic</td>\n",
              "    </tr>\n",
              "    <tr>\n",
              "      <th>2892</th>\n",
              "      <td>CzI81oX5BIFITuoFozBtnQLS</td>\n",
              "      <td>Land Rover Range Rover Sport 2008 White</td>\n",
              "      <td>6930000</td>\n",
              "      <td>Edo State, Benin City</td>\n",
              "      <td>Land Rover</td>\n",
              "      <td>Range Rover Sport</td>\n",
              "      <td>2008</td>\n",
              "      <td>White</td>\n",
              "      <td>Foreign Used</td>\n",
              "      <td>298187.0</td>\n",
              "      <td>...</td>\n",
              "      <td>Imported</td>\n",
              "      <td>NaN</td>\n",
              "      <td>NaN</td>\n",
              "      <td>NaN</td>\n",
              "      <td>NaN</td>\n",
              "      <td>NaN</td>\n",
              "      <td>NaN</td>\n",
              "      <td>SUV</td>\n",
              "      <td>Petrol</td>\n",
              "      <td>Automatic</td>\n",
              "    </tr>\n",
              "    <tr>\n",
              "      <th>2893</th>\n",
              "      <td>41KZsjPRmovhziJJQ3gkw37Q</td>\n",
              "      <td>Toyota Corolla Sedan 2005 White</td>\n",
              "      <td>2600000</td>\n",
              "      <td>Abuja (FCT), Lugbe District</td>\n",
              "      <td>Toyota</td>\n",
              "      <td>Corolla</td>\n",
              "      <td>2005</td>\n",
              "      <td>White</td>\n",
              "      <td>Nigerian Used</td>\n",
              "      <td>289222.0</td>\n",
              "      <td>...</td>\n",
              "      <td>Imported</td>\n",
              "      <td>Sedan</td>\n",
              "      <td>Front</td>\n",
              "      <td>ABUJA</td>\n",
              "      <td>5</td>\n",
              "      <td>4.0</td>\n",
              "      <td>90.0</td>\n",
              "      <td>Sedan</td>\n",
              "      <td>Petrol</td>\n",
              "      <td>Automatic</td>\n",
              "    </tr>\n",
              "  </tbody>\n",
              "</table>\n",
              "<p>2894 rows × 22 columns</p>\n",
              "</div>\n",
              "    <div class=\"colab-df-buttons\">\n",
              "\n",
              "  <div class=\"colab-df-container\">\n",
              "    <button class=\"colab-df-convert\" onclick=\"convertToInteractive('df-6d8aed2e-619a-41f1-b1f0-ed979bedb129')\"\n",
              "            title=\"Convert this dataframe to an interactive table.\"\n",
              "            style=\"display:none;\">\n",
              "\n",
              "  <svg xmlns=\"http://www.w3.org/2000/svg\" height=\"24px\" viewBox=\"0 -960 960 960\">\n",
              "    <path d=\"M120-120v-720h720v720H120Zm60-500h600v-160H180v160Zm220 220h160v-160H400v160Zm0 220h160v-160H400v160ZM180-400h160v-160H180v160Zm440 0h160v-160H620v160ZM180-180h160v-160H180v160Zm440 0h160v-160H620v160Z\"/>\n",
              "  </svg>\n",
              "    </button>\n",
              "\n",
              "  <style>\n",
              "    .colab-df-container {\n",
              "      display:flex;\n",
              "      gap: 12px;\n",
              "    }\n",
              "\n",
              "    .colab-df-convert {\n",
              "      background-color: #E8F0FE;\n",
              "      border: none;\n",
              "      border-radius: 50%;\n",
              "      cursor: pointer;\n",
              "      display: none;\n",
              "      fill: #1967D2;\n",
              "      height: 32px;\n",
              "      padding: 0 0 0 0;\n",
              "      width: 32px;\n",
              "    }\n",
              "\n",
              "    .colab-df-convert:hover {\n",
              "      background-color: #E2EBFA;\n",
              "      box-shadow: 0px 1px 2px rgba(60, 64, 67, 0.3), 0px 1px 3px 1px rgba(60, 64, 67, 0.15);\n",
              "      fill: #174EA6;\n",
              "    }\n",
              "\n",
              "    .colab-df-buttons div {\n",
              "      margin-bottom: 4px;\n",
              "    }\n",
              "\n",
              "    [theme=dark] .colab-df-convert {\n",
              "      background-color: #3B4455;\n",
              "      fill: #D2E3FC;\n",
              "    }\n",
              "\n",
              "    [theme=dark] .colab-df-convert:hover {\n",
              "      background-color: #434B5C;\n",
              "      box-shadow: 0px 1px 3px 1px rgba(0, 0, 0, 0.15);\n",
              "      filter: drop-shadow(0px 1px 2px rgba(0, 0, 0, 0.3));\n",
              "      fill: #FFFFFF;\n",
              "    }\n",
              "  </style>\n",
              "\n",
              "    <script>\n",
              "      const buttonEl =\n",
              "        document.querySelector('#df-6d8aed2e-619a-41f1-b1f0-ed979bedb129 button.colab-df-convert');\n",
              "      buttonEl.style.display =\n",
              "        google.colab.kernel.accessAllowed ? 'block' : 'none';\n",
              "\n",
              "      async function convertToInteractive(key) {\n",
              "        const element = document.querySelector('#df-6d8aed2e-619a-41f1-b1f0-ed979bedb129');\n",
              "        const dataTable =\n",
              "          await google.colab.kernel.invokeFunction('convertToInteractive',\n",
              "                                                    [key], {});\n",
              "        if (!dataTable) return;\n",
              "\n",
              "        const docLinkHtml = 'Like what you see? Visit the ' +\n",
              "          '<a target=\"_blank\" href=https://colab.research.google.com/notebooks/data_table.ipynb>data table notebook</a>'\n",
              "          + ' to learn more about interactive tables.';\n",
              "        element.innerHTML = '';\n",
              "        dataTable['output_type'] = 'display_data';\n",
              "        await google.colab.output.renderOutput(dataTable, element);\n",
              "        const docLink = document.createElement('div');\n",
              "        docLink.innerHTML = docLinkHtml;\n",
              "        element.appendChild(docLink);\n",
              "      }\n",
              "    </script>\n",
              "  </div>\n",
              "\n",
              "\n",
              "<div id=\"df-1e9b9597-209c-4a4e-9762-600454c843cc\">\n",
              "  <button class=\"colab-df-quickchart\" onclick=\"quickchart('df-1e9b9597-209c-4a4e-9762-600454c843cc')\"\n",
              "            title=\"Suggest charts\"\n",
              "            style=\"display:none;\">\n",
              "\n",
              "<svg xmlns=\"http://www.w3.org/2000/svg\" height=\"24px\"viewBox=\"0 0 24 24\"\n",
              "     width=\"24px\">\n",
              "    <g>\n",
              "        <path d=\"M19 3H5c-1.1 0-2 .9-2 2v14c0 1.1.9 2 2 2h14c1.1 0 2-.9 2-2V5c0-1.1-.9-2-2-2zM9 17H7v-7h2v7zm4 0h-2V7h2v10zm4 0h-2v-4h2v4z\"/>\n",
              "    </g>\n",
              "</svg>\n",
              "  </button>\n",
              "\n",
              "<style>\n",
              "  .colab-df-quickchart {\n",
              "      --bg-color: #E8F0FE;\n",
              "      --fill-color: #1967D2;\n",
              "      --hover-bg-color: #E2EBFA;\n",
              "      --hover-fill-color: #174EA6;\n",
              "      --disabled-fill-color: #AAA;\n",
              "      --disabled-bg-color: #DDD;\n",
              "  }\n",
              "\n",
              "  [theme=dark] .colab-df-quickchart {\n",
              "      --bg-color: #3B4455;\n",
              "      --fill-color: #D2E3FC;\n",
              "      --hover-bg-color: #434B5C;\n",
              "      --hover-fill-color: #FFFFFF;\n",
              "      --disabled-bg-color: #3B4455;\n",
              "      --disabled-fill-color: #666;\n",
              "  }\n",
              "\n",
              "  .colab-df-quickchart {\n",
              "    background-color: var(--bg-color);\n",
              "    border: none;\n",
              "    border-radius: 50%;\n",
              "    cursor: pointer;\n",
              "    display: none;\n",
              "    fill: var(--fill-color);\n",
              "    height: 32px;\n",
              "    padding: 0;\n",
              "    width: 32px;\n",
              "  }\n",
              "\n",
              "  .colab-df-quickchart:hover {\n",
              "    background-color: var(--hover-bg-color);\n",
              "    box-shadow: 0 1px 2px rgba(60, 64, 67, 0.3), 0 1px 3px 1px rgba(60, 64, 67, 0.15);\n",
              "    fill: var(--button-hover-fill-color);\n",
              "  }\n",
              "\n",
              "  .colab-df-quickchart-complete:disabled,\n",
              "  .colab-df-quickchart-complete:disabled:hover {\n",
              "    background-color: var(--disabled-bg-color);\n",
              "    fill: var(--disabled-fill-color);\n",
              "    box-shadow: none;\n",
              "  }\n",
              "\n",
              "  .colab-df-spinner {\n",
              "    border: 2px solid var(--fill-color);\n",
              "    border-color: transparent;\n",
              "    border-bottom-color: var(--fill-color);\n",
              "    animation:\n",
              "      spin 1s steps(1) infinite;\n",
              "  }\n",
              "\n",
              "  @keyframes spin {\n",
              "    0% {\n",
              "      border-color: transparent;\n",
              "      border-bottom-color: var(--fill-color);\n",
              "      border-left-color: var(--fill-color);\n",
              "    }\n",
              "    20% {\n",
              "      border-color: transparent;\n",
              "      border-left-color: var(--fill-color);\n",
              "      border-top-color: var(--fill-color);\n",
              "    }\n",
              "    30% {\n",
              "      border-color: transparent;\n",
              "      border-left-color: var(--fill-color);\n",
              "      border-top-color: var(--fill-color);\n",
              "      border-right-color: var(--fill-color);\n",
              "    }\n",
              "    40% {\n",
              "      border-color: transparent;\n",
              "      border-right-color: var(--fill-color);\n",
              "      border-top-color: var(--fill-color);\n",
              "    }\n",
              "    60% {\n",
              "      border-color: transparent;\n",
              "      border-right-color: var(--fill-color);\n",
              "    }\n",
              "    80% {\n",
              "      border-color: transparent;\n",
              "      border-right-color: var(--fill-color);\n",
              "      border-bottom-color: var(--fill-color);\n",
              "    }\n",
              "    90% {\n",
              "      border-color: transparent;\n",
              "      border-bottom-color: var(--fill-color);\n",
              "    }\n",
              "  }\n",
              "</style>\n",
              "\n",
              "  <script>\n",
              "    async function quickchart(key) {\n",
              "      const quickchartButtonEl =\n",
              "        document.querySelector('#' + key + ' button');\n",
              "      quickchartButtonEl.disabled = true;  // To prevent multiple clicks.\n",
              "      quickchartButtonEl.classList.add('colab-df-spinner');\n",
              "      try {\n",
              "        const charts = await google.colab.kernel.invokeFunction(\n",
              "            'suggestCharts', [key], {});\n",
              "      } catch (error) {\n",
              "        console.error('Error during call to suggestCharts:', error);\n",
              "      }\n",
              "      quickchartButtonEl.classList.remove('colab-df-spinner');\n",
              "      quickchartButtonEl.classList.add('colab-df-quickchart-complete');\n",
              "    }\n",
              "    (() => {\n",
              "      let quickchartButtonEl =\n",
              "        document.querySelector('#df-1e9b9597-209c-4a4e-9762-600454c843cc button');\n",
              "      quickchartButtonEl.style.display =\n",
              "        google.colab.kernel.accessAllowed ? 'block' : 'none';\n",
              "    })();\n",
              "  </script>\n",
              "</div>\n",
              "\n",
              "  <div id=\"id_a2efe805-f812-4f79-bf51-21b17e662c66\">\n",
              "    <style>\n",
              "      .colab-df-generate {\n",
              "        background-color: #E8F0FE;\n",
              "        border: none;\n",
              "        border-radius: 50%;\n",
              "        cursor: pointer;\n",
              "        display: none;\n",
              "        fill: #1967D2;\n",
              "        height: 32px;\n",
              "        padding: 0 0 0 0;\n",
              "        width: 32px;\n",
              "      }\n",
              "\n",
              "      .colab-df-generate:hover {\n",
              "        background-color: #E2EBFA;\n",
              "        box-shadow: 0px 1px 2px rgba(60, 64, 67, 0.3), 0px 1px 3px 1px rgba(60, 64, 67, 0.15);\n",
              "        fill: #174EA6;\n",
              "      }\n",
              "\n",
              "      [theme=dark] .colab-df-generate {\n",
              "        background-color: #3B4455;\n",
              "        fill: #D2E3FC;\n",
              "      }\n",
              "\n",
              "      [theme=dark] .colab-df-generate:hover {\n",
              "        background-color: #434B5C;\n",
              "        box-shadow: 0px 1px 3px 1px rgba(0, 0, 0, 0.15);\n",
              "        filter: drop-shadow(0px 1px 2px rgba(0, 0, 0, 0.3));\n",
              "        fill: #FFFFFF;\n",
              "      }\n",
              "    </style>\n",
              "    <button class=\"colab-df-generate\" onclick=\"generateWithVariable('cars')\"\n",
              "            title=\"Generate code using this dataframe.\"\n",
              "            style=\"display:none;\">\n",
              "\n",
              "  <svg xmlns=\"http://www.w3.org/2000/svg\" height=\"24px\"viewBox=\"0 0 24 24\"\n",
              "       width=\"24px\">\n",
              "    <path d=\"M7,19H8.4L18.45,9,17,7.55,7,17.6ZM5,21V16.75L18.45,3.32a2,2,0,0,1,2.83,0l1.4,1.43a1.91,1.91,0,0,1,.58,1.4,1.91,1.91,0,0,1-.58,1.4L9.25,21ZM18.45,9,17,7.55Zm-12,3A5.31,5.31,0,0,0,4.9,8.1,5.31,5.31,0,0,0,1,6.5,5.31,5.31,0,0,0,4.9,4.9,5.31,5.31,0,0,0,6.5,1,5.31,5.31,0,0,0,8.1,4.9,5.31,5.31,0,0,0,12,6.5,5.46,5.46,0,0,0,6.5,12Z\"/>\n",
              "  </svg>\n",
              "    </button>\n",
              "    <script>\n",
              "      (() => {\n",
              "      const buttonEl =\n",
              "        document.querySelector('#id_a2efe805-f812-4f79-bf51-21b17e662c66 button.colab-df-generate');\n",
              "      buttonEl.style.display =\n",
              "        google.colab.kernel.accessAllowed ? 'block' : 'none';\n",
              "\n",
              "      buttonEl.onclick = () => {\n",
              "        google.colab.notebook.generateWithVariable('cars');\n",
              "      }\n",
              "      })();\n",
              "    </script>\n",
              "  </div>\n",
              "\n",
              "    </div>\n",
              "  </div>\n"
            ],
            "text/plain": [
              "                        car_id                              description  \\\n",
              "0     5IQTDBTYmvK1tJwhdvGJfESJ                Lexus ES 350 FWD 2013 Red   \n",
              "1     zpZUGomoVXuKk9UFa8j8moC9        Land Rover Range Rover 2012 White   \n",
              "2     a6ShZXOX4KtY6IBGJIcF3Cxk                Toyota Sequoia 2018 Black   \n",
              "3     CciPNDN6vhhQQI1FTQHAbfxi                Toyota Corolla 2007 Green   \n",
              "4     bvwd5LDMx6mIYpVa6Uhi2jqJ        Mercedes-Benz M Class 2005 Silver   \n",
              "...                        ...                                      ...   \n",
              "2889  sHnZZvambm9Prcwq4IwKPmGi                    Mazda CX-7 2011 Beige   \n",
              "2890  fsa5b9HiCDnZt2P0Sf9qKLJN                      Honda CR-V 1998 Red   \n",
              "2891  uE5eXlbAEMfHSMZ0SYahHP8x                      Lexus GS 2006 Black   \n",
              "2892  CzI81oX5BIFITuoFozBtnQLS  Land Rover Range Rover Sport 2008 White   \n",
              "2893  41KZsjPRmovhziJJQ3gkw37Q          Toyota Corolla Sedan 2005 White   \n",
              "\n",
              "        amount                       region           make              model  \\\n",
              "0     12937500           Lagos State, Ikeja          Lexus                 ES   \n",
              "1      6750000         Abuja (FCT), Garki 2     Land Rover        Range Rover   \n",
              "2     50625000           Lagos State, Lekki         Toyota            Sequoia   \n",
              "3      3600000  Abuja (FCT), Lugbe District         Toyota            Corolla   \n",
              "4      3262500           Lagos State, Isolo  Mercedes-Benz            M Class   \n",
              "...        ...                          ...            ...                ...   \n",
              "2889   5062500           Lagos State, Lekki          Mazda               CX-7   \n",
              "2890   1350000           Lagos State, Lekki          Honda               CR-V   \n",
              "2891   4725000           Lagos State, Lekki          Lexus                 GS   \n",
              "2892   6930000        Edo State, Benin City     Land Rover  Range Rover Sport   \n",
              "2893   2600000  Abuja (FCT), Lugbe District         Toyota            Corolla   \n",
              "\n",
              "      year_of_man   color      condition   mileage  ...  bought_cond     trim  \\\n",
              "0            2013     Red   Foreign Used  272474.0  ...     Imported  350 FWD   \n",
              "1            2012   White  Nigerian Used  102281.0  ...   Registered      NaN   \n",
              "2            2018   Black   Foreign Used  127390.0  ...     Imported      NaN   \n",
              "3            2007   Green  Nigerian Used  139680.0  ...   Registered      NaN   \n",
              "4            2005  Silver  Nigerian Used  220615.0  ...     Imported      NaN   \n",
              "...           ...     ...            ...       ...  ...          ...      ...   \n",
              "2889         2011   Beige   Foreign Used  111835.0  ...     Imported      NaN   \n",
              "2890         1998     Red  Nigerian Used  126955.0  ...     Imported      NaN   \n",
              "2891         2006   Black   Foreign Used  223069.0  ...     Imported      NaN   \n",
              "2892         2008   White   Foreign Used  298187.0  ...     Imported      NaN   \n",
              "2893         2005   White  Nigerian Used  289222.0  ...     Imported    Sedan   \n",
              "\n",
              "      drive_train reg_city seat num_cylinder horse_power  body_build  \\\n",
              "0     Front Wheel      NaN    5          6.0       268.0       Sedan   \n",
              "1             NaN      NaN  NaN          NaN         NaN         SUV   \n",
              "2             NaN      NaN  NaN          NaN         NaN         SUV   \n",
              "3             NaN    ABUJA  NaN          NaN         NaN         NaN   \n",
              "4             NaN    ABUJA  NaN          NaN         NaN         NaN   \n",
              "...           ...      ...  ...          ...         ...         ...   \n",
              "2889          NaN      NaN  NaN          NaN         NaN         SUV   \n",
              "2890          NaN    Lagos  NaN          NaN         NaN   Crossover   \n",
              "2891          NaN      NaN  NaN          NaN         NaN         NaN   \n",
              "2892          NaN      NaN  NaN          NaN         NaN         SUV   \n",
              "2893        Front    ABUJA    5          4.0        90.0       Sedan   \n",
              "\n",
              "      fuel_type transmission  \n",
              "0        Petrol    Automatic  \n",
              "1        Petrol    Automatic  \n",
              "2        Petrol    Automatic  \n",
              "3        Petrol    Automatic  \n",
              "4        Petrol    Automatic  \n",
              "...         ...          ...  \n",
              "2889     Petrol    Automatic  \n",
              "2890     Petrol    Automatic  \n",
              "2891     Petrol    Automatic  \n",
              "2892     Petrol    Automatic  \n",
              "2893     Petrol    Automatic  \n",
              "\n",
              "[2894 rows x 22 columns]"
            ]
          },
          "execution_count": 14,
          "metadata": {},
          "output_type": "execute_result"
        }
      ],
      "source": [
        "cars"
      ]
    },
    {
      "cell_type": "code",
      "execution_count": null,
      "metadata": {
        "colab": {
          "base_uri": "https://localhost:8080/"
        },
        "id": "VXkL9mC0Ol26",
        "outputId": "4868d5e0-3182-439b-d545-41b265bba283"
      },
      "outputs": [
        {
          "data": {
            "text/plain": [
              "np.int64(0)"
            ]
          },
          "execution_count": 15,
          "metadata": {},
          "output_type": "execute_result"
        }
      ],
      "source": [
        "cars[\"car_id\"].isnull().sum()"
      ]
    },
    {
      "cell_type": "code",
      "execution_count": null,
      "metadata": {
        "colab": {
          "base_uri": "https://localhost:8080/",
          "height": 209
        },
        "id": "-XAi76jhOytv",
        "outputId": "0a44bdce-6a8a-4d9f-877a-3ba87be1ab7b"
      },
      "outputs": [
        {
          "data": {
            "text/html": [
              "<div>\n",
              "<style scoped>\n",
              "    .dataframe tbody tr th:only-of-type {\n",
              "        vertical-align: middle;\n",
              "    }\n",
              "\n",
              "    .dataframe tbody tr th {\n",
              "        vertical-align: top;\n",
              "    }\n",
              "\n",
              "    .dataframe thead th {\n",
              "        text-align: right;\n",
              "    }\n",
              "</style>\n",
              "<table border=\"1\" class=\"dataframe\">\n",
              "  <thead>\n",
              "    <tr style=\"text-align: right;\">\n",
              "      <th></th>\n",
              "      <th>car_id</th>\n",
              "    </tr>\n",
              "  </thead>\n",
              "  <tbody>\n",
              "    <tr>\n",
              "      <th>count</th>\n",
              "      <td>2894</td>\n",
              "    </tr>\n",
              "    <tr>\n",
              "      <th>unique</th>\n",
              "      <td>2894</td>\n",
              "    </tr>\n",
              "    <tr>\n",
              "      <th>top</th>\n",
              "      <td>41KZsjPRmovhziJJQ3gkw37Q</td>\n",
              "    </tr>\n",
              "    <tr>\n",
              "      <th>freq</th>\n",
              "      <td>1</td>\n",
              "    </tr>\n",
              "  </tbody>\n",
              "</table>\n",
              "</div><br><label><b>dtype:</b> object</label>"
            ],
            "text/plain": [
              "count                         2894\n",
              "unique                        2894\n",
              "top       41KZsjPRmovhziJJQ3gkw37Q\n",
              "freq                             1\n",
              "Name: car_id, dtype: object"
            ]
          },
          "execution_count": 16,
          "metadata": {},
          "output_type": "execute_result"
        }
      ],
      "source": [
        "cars[\"car_id\"].describe()"
      ]
    },
    {
      "cell_type": "code",
      "execution_count": null,
      "metadata": {
        "colab": {
          "base_uri": "https://localhost:8080/"
        },
        "id": "pwpAedQsRwpj",
        "outputId": "197da27d-4c70-46a9-aa66-f2847489be3b"
      },
      "outputs": [
        {
          "data": {
            "text/plain": [
              "2894"
            ]
          },
          "execution_count": 17,
          "metadata": {},
          "output_type": "execute_result"
        }
      ],
      "source": [
        "cars[\"car_id\"].nunique()"
      ]
    },
    {
      "cell_type": "code",
      "execution_count": null,
      "metadata": {
        "colab": {
          "base_uri": "https://localhost:8080/",
          "height": 458
        },
        "id": "L23vNwHLSYAG",
        "outputId": "0247ca57-7922-47d2-af14-003ebe2b2f8a"
      },
      "outputs": [
        {
          "data": {
            "text/html": [
              "<div>\n",
              "<style scoped>\n",
              "    .dataframe tbody tr th:only-of-type {\n",
              "        vertical-align: middle;\n",
              "    }\n",
              "\n",
              "    .dataframe tbody tr th {\n",
              "        vertical-align: top;\n",
              "    }\n",
              "\n",
              "    .dataframe thead th {\n",
              "        text-align: right;\n",
              "    }\n",
              "</style>\n",
              "<table border=\"1\" class=\"dataframe\">\n",
              "  <thead>\n",
              "    <tr style=\"text-align: right;\">\n",
              "      <th></th>\n",
              "      <th>car_id</th>\n",
              "    </tr>\n",
              "  </thead>\n",
              "  <tbody>\n",
              "    <tr>\n",
              "      <th>0</th>\n",
              "      <td>False</td>\n",
              "    </tr>\n",
              "    <tr>\n",
              "      <th>1</th>\n",
              "      <td>False</td>\n",
              "    </tr>\n",
              "    <tr>\n",
              "      <th>2</th>\n",
              "      <td>False</td>\n",
              "    </tr>\n",
              "    <tr>\n",
              "      <th>3</th>\n",
              "      <td>False</td>\n",
              "    </tr>\n",
              "    <tr>\n",
              "      <th>4</th>\n",
              "      <td>False</td>\n",
              "    </tr>\n",
              "    <tr>\n",
              "      <th>...</th>\n",
              "      <td>...</td>\n",
              "    </tr>\n",
              "    <tr>\n",
              "      <th>2889</th>\n",
              "      <td>False</td>\n",
              "    </tr>\n",
              "    <tr>\n",
              "      <th>2890</th>\n",
              "      <td>False</td>\n",
              "    </tr>\n",
              "    <tr>\n",
              "      <th>2891</th>\n",
              "      <td>False</td>\n",
              "    </tr>\n",
              "    <tr>\n",
              "      <th>2892</th>\n",
              "      <td>False</td>\n",
              "    </tr>\n",
              "    <tr>\n",
              "      <th>2893</th>\n",
              "      <td>False</td>\n",
              "    </tr>\n",
              "  </tbody>\n",
              "</table>\n",
              "<p>2894 rows × 1 columns</p>\n",
              "</div><br><label><b>dtype:</b> bool</label>"
            ],
            "text/plain": [
              "0       False\n",
              "1       False\n",
              "2       False\n",
              "3       False\n",
              "4       False\n",
              "        ...  \n",
              "2889    False\n",
              "2890    False\n",
              "2891    False\n",
              "2892    False\n",
              "2893    False\n",
              "Name: car_id, Length: 2894, dtype: bool"
            ]
          },
          "execution_count": 18,
          "metadata": {},
          "output_type": "execute_result"
        }
      ],
      "source": [
        "cars[\"car_id\"].duplicated()"
      ]
    },
    {
      "cell_type": "code",
      "execution_count": null,
      "metadata": {
        "colab": {
          "base_uri": "https://localhost:8080/"
        },
        "id": "u_XYpYZESok_",
        "outputId": "486fa39e-063d-489c-b9be-7bd0e44f18be"
      },
      "outputs": [
        {
          "data": {
            "text/plain": [
              "Index(['car_id', 'description', 'amount', 'region', 'make', 'model',\n",
              "       'year_of_man', 'color', 'condition', 'mileage', 'engine_size',\n",
              "       'selling_cond', 'bought_cond', 'trim', 'drive_train', 'reg_city',\n",
              "       'seat', 'num_cylinder', 'horse_power', 'body_build', 'fuel_type',\n",
              "       'transmission'],\n",
              "      dtype='object')"
            ]
          },
          "execution_count": 19,
          "metadata": {},
          "output_type": "execute_result"
        }
      ],
      "source": [
        "cars.columns"
      ]
    },
    {
      "cell_type": "code",
      "execution_count": null,
      "metadata": {
        "colab": {
          "base_uri": "https://localhost:8080/"
        },
        "id": "MSVGLRGXTLXT",
        "outputId": "2c54d1d7-543f-48d3-c379-71bdade2ba57"
      },
      "outputs": [
        {
          "data": {
            "text/plain": [
              "array(['Lexus ES 350 FWD 2013 Red', 'Land Rover Range Rover 2012 White',\n",
              "       'Toyota Sequoia 2018 Black', ..., 'Lexus GS 2006 Black',\n",
              "       'Land Rover Range Rover Sport 2008 White',\n",
              "       'Toyota Corolla Sedan 2005 White'], dtype=object)"
            ]
          },
          "execution_count": 20,
          "metadata": {},
          "output_type": "execute_result"
        }
      ],
      "source": [
        "cars[\"description\"].unique()"
      ]
    },
    {
      "cell_type": "code",
      "execution_count": null,
      "metadata": {
        "colab": {
          "base_uri": "https://localhost:8080/"
        },
        "id": "t07EI4rZTh6P",
        "outputId": "ad2f6d34-556b-4b35-b961-eef7a813e854"
      },
      "outputs": [
        {
          "data": {
            "text/plain": [
              "np.int64(0)"
            ]
          },
          "execution_count": 21,
          "metadata": {},
          "output_type": "execute_result"
        }
      ],
      "source": [
        "cars[\"amount\"].isnull().sum()"
      ]
    },
    {
      "cell_type": "code",
      "execution_count": null,
      "metadata": {
        "colab": {
          "base_uri": "https://localhost:8080/"
        },
        "id": "SWCkxgJzT_uq",
        "outputId": "2ae26a6a-e11c-4dc6-adae-82548f41b679"
      },
      "outputs": [
        {
          "data": {
            "text/plain": [
              "array([12937500,  6750000, 50625000,  3600000,  3262500,  4837500,\n",
              "        4162500,  1721250,  4590000, 18000000,  4500000,  2812500,\n",
              "        7875000,  2137500,  4303125,  6187500,  2953125,  2025000,\n",
              "        3150000,  4050000,  3937500,  2925000, 11250000,  3375000,\n",
              "         843750,  8437500,  2250000,  6412500,  2587500,  1968750,\n",
              "        2475000,  1687500,  2651175,  3037500,  1237500, 33750000,\n",
              "        2385000,  1012500, 15750000,  5400000,  3825000,  3250125,\n",
              "        2868750,  2328750,  2362500,  1125000,  1960312, 28125000,\n",
              "        1912500,  2295000,  1350000,  3330000,  2047500,  1976625,\n",
              "        2160000,  2204998, 12375000,  2579062,  1743750,  2418750,\n",
              "        5062500,  2704000,  1383750, 23625000,  1575000,  3920625,\n",
              "        3729375, 11925000,  2189248,  3285000, 14287500,  9000000,\n",
              "        1462500,  2756250,  4320000,  3206250,  1800000,  6525000,\n",
              "        2700000, 12600000,  1417500,  7650000, 15637500,  4950000,\n",
              "        2002500,  2790000,  5793750, 10518750,  3870000,   877500,\n",
              "        3015000,  3296250,  8128125,  7312500,  5850000,  5287500,\n",
              "        1102498,  2970000,  2415000,  7350000,  2100000,  2940000,\n",
              "        3432000,  6825000, 11336000,   808500,  1050000,  3120000,\n",
              "       13500000,  2730000,  2205000,  9975000,  8032500,  2981250,\n",
              "        7087500,  4305000,  3328000,  1768000, 36750000,  3750000,\n",
              "        6968000,  6975000, 10912500,   945000,  4410000,  1811250,\n",
              "        9880000,  5617500,  3952000,  5200000,  2835000,  3780000,\n",
              "        2625000,  4160000,  2600000,  1396500,  1932000,  3675000,\n",
              "       23100000, 14560000,  1470000,  4472000,  6760000,  2288000,\n",
              "        4316000, 19635000,  1995000,  2912000,  3577500,  2491875,\n",
              "       27675000, 10500000,  4725000,  3479700,  1302000,  5712000,\n",
              "         900000,  3276000,  2310000, 22050000,  1260000,  7280000,\n",
              "        5355000,  2814000,  3360000,  1837500,  3712500,  4275000,\n",
              "        6240000,  7171875,  2200000,  2535750, 15225000,  1522500,\n",
              "        5250000,  5407500,  2227500,  2898000,  5775000,  9360000,\n",
              "        6405000,  1680000,  3487500, 25725000,  4872000,  2066625,\n",
              "        8389500,  2496000,  1485000,  1365000,  1294125,  1885000,\n",
              "        6615000, 26000000,  1064700, 70720000,  1631250,  3217500,\n",
              "        2682750,  1908000,  8400000,  2470125,  4452000,  2115000,\n",
              "        3013500,  6090000, 60750000,  1554000,  1858500,  1890000,\n",
              "        5040000,  5670000,  2824500, 15600000,  5512000,  3640000,\n",
              "        2579200,  4680000,  3536000,  3016000,  2688400,  3255000,\n",
              "        5720000,  2808000,  9030000,  5096000,  1134000,  3990000,\n",
              "        2394000,  2520000,  1433250,  2719500,  8190000,  3601500,\n",
              "        1456000,  3267600, 11440000,  1659000,  1732500,  5957437,\n",
              "       30450000,  3885000,  7592000,  4095000,  3465000,  9464000,\n",
              "        1976000,  3659250,  9660000,  6300000, 16800000,  3570000,\n",
              "        4200000,  7500000,  2884875,  1508000, 17850000, 10815000,\n",
              "        7717500,  1491000,   840000, 12048750, 10296000, 10631250,\n",
              "        3848000,  5928000, 15080000, 12004125,  4992000,  2392000,\n",
              "        7035000,  2080000,  1155000,  1653750,  2300000,  3350000,\n",
              "        1207500,   918750, 13520000, 21000000, 13650000,  2453850,\n",
              "        4515000,  4004000,  1560000,   798000,  1517250,  3108000,\n",
              "        6426000,  1785000, 16065000,  4830000,  2992500,  4935000,\n",
              "        2405000,  5950000,  4888000, 14279998,  3224000,  1543500,\n",
              "       12915000,  7791000,  2352000,  3960468,  7800000, 12075000,\n",
              "         892500,  8925000,  2226000,  8320000,  7537500, 14532000,\n",
              "       23920000, 75600000,  3097500, 13335000,   955500,  2184000,\n",
              "         787500,  2829750,  1942500,  8840000,  1872000, 42000000,\n",
              "       26250000,  1848000,  1953000,  5565000,  1708350,  9135000,\n",
              "        4056000,  7665000,  4797187,  6024375,  1102500,  2450000,\n",
              "       19188750, 52500000,  9450000,  3412500,  2021248, 12480000,\n",
              "       12792000,  1506750, 18900000,  2709000,  1689187, 15288000,\n",
              "        1462125, 17680000,  1627500,  6552000,  1624350,  5034750,\n",
              "       12896000,  5512500,  7425000, 13000000,   997500,  7384000,\n",
              "        2989875, 14040000,   766500,  4784000,  7630875,  3192000,\n",
              "        1028998,  2340000,  2964000,  1218000,  2257500,  2548000,\n",
              "        2320500,  6195000,  4620000, 22575000,  5880000,  7980000,\n",
              "       18200000,  5460000,  1596000, 17325000,  3620400,  4115998,\n",
              "        2640000,  5985000,  1530000,  6037500,  1139250,  3213000,\n",
              "         735000,  3927000,   896000, 19950000,   924000,  4011000,\n",
              "        3515200,  4462500,  1772000,  6930000,  5824000,  3045000,\n",
              "        6032000,  3585000,  2793000,  9240000, 22680000,  4108000,\n",
              "        8736000,  6720000,  2268000,  1186500,  5408000, 62400000,\n",
              "        7770000, 31447500,  6142500, 35700000,  1352000,  2478000,\n",
              "        3456250,  3948000,  4998000, 10710000,  4700000,  3320000,\n",
              "        3727500,  7161000,  2810850,  3355000,  1888000, 33280000,\n",
              "        1323000,  4368000,  2115750,  2646000,  3575000,  1291500,\n",
              "        3235050,  1344000,  8636000,   577500,  3024000,  1910000,\n",
              "        1622500, 19687500,  1664000,  3160000,  2121000,  2604000,\n",
              "       20800000, 16120000,  1484000,  1248000,  3087000,  5280000,\n",
              "        2259600,  2856000, 12080000,  7072000,  2572500,  6400000,\n",
              "        4000000,  1650600,  3185000,  2596500,  3357778,  1617000,\n",
              "        1060500,  6868000,  2131498, 20090000,  1040000,  2782500,\n",
              "       12520000, 14768000,  2987250, 22540000, 12642000,  2454375,\n",
              "         661500,  3744000,  3200000,  3339000,  6448000,  1428000,\n",
              "        2313400, 20349000,  1580000,  2446500,  6800000,  1672650,\n",
              "       63000000,  9800000,  2058000,  2887500, 13426000, 21658000,\n",
              "        7840000,  2488500, 24794000,  2772000,  4592000, 10192000,\n",
              "        2142000,  4908750,  2935000,  3906000, 10400000,  4576000,\n",
              "       17542000,  1419075, 10290000,  6637500,  6864000,  2467500,\n",
              "        2016000,  7140000,  2500000, 17444000,  2210000, 46800000,\n",
              "        4264000,  5616000,  2652000,  3650000,  1800750, 44100000,\n",
              "       34650000,  2331000,  4016250,  1924000,  1806000, 20160000,\n",
              "       16957498,  7176000, 15386000,  3960000,  2260000,  1157500,\n",
              "        3066000,  1945000,  1984498,  2866500, 16868248,  6136000,\n",
              "       17160000,  9056250, 25200000,  2124000,  3517500,  5145000,\n",
              "        2762000,  5533500, 50440000,  2152500,  9776000,  3475500,\n",
              "        4010000,  2982000,  5304000, 19125000,  2630000, 11550000,\n",
              "        5292000, 16952000,  1312500,  1370000,  3307500,  2110500,\n",
              "        8726550,  1281000,  2315000,  5860000,  2452800, 54080000,\n",
              "       14700000,  2688000,  6240004,  1820000, 45000000, 29250000,\n",
              "        6982500,  1861650,  3900000,  1165500, 11235000, 10972500,\n",
              "       11500000, 10473750,  2677500, 18100000,  9765000,  5550000,\n",
              "        4239375,  4586400,  5827500,  8060000,  8715000,  8610000,\n",
              "        1663200,  3747000,  4252500,  2735000, 13860000, 12400000,\n",
              "        1286250,  6344000, 17640000, 11960000,  8632000,  4777500,\n",
              "       21670000, 12000000,  1974000, 16640000,  5925000,  1819125,\n",
              "       19800000,  2585000,  2425500,  4690000, 12376000, 31500000,\n",
              "        1612000,  4752562,  5000000, 10263750,  1704000,  1275000,\n",
              "        8112000,  5756625,  4420000, 42750000,  6783000,  3171000,\n",
              "        7460000,   682500,  7560000, 19740000, 15120000,  7488000,\n",
              "        9048000,  7192500, 16016000, 13312000, 13755000,  2360662,\n",
              "        3559500,  1300000,  4042500, 43365000,  3696000, 17091375,\n",
              "        6247500, 11232000,  8900000,  4882500, 11025000,  8085000,\n",
              "       12272000,  2875950, 16275000,   871500,  7455000, 73500000,\n",
              "        3832500, 34020000,  1638000, 15974000,  1092000, 13832000,\n",
              "        5725000, 32240000, 25875000,  4194750,  6708000,  3480748,\n",
              "       10825000,  1651125, 24024000,  9198000,  8820000,  1891048,\n",
              "        1438500,  9933000, 14668000,  7407750,  1577500,  3234000,\n",
              "       14456000,   956250,  2756000, 27300000,  4225000, 17472000,\n",
              "        5488875, 30680000,  5065000, 10185000,  6500000,  8008000,\n",
              "        5166000,  4147500, 10395000,  7245000,  4326000,  3622500,\n",
              "        6510000, 25515000,  2400000, 98700000,  1335600, 13440000,\n",
              "        1404000, 14352000, 36960000, 11130000,  8657250,  4388125,\n",
              "        1512000, 10940000,  5625000,  8943750, 21375000])"
            ]
          },
          "execution_count": 22,
          "metadata": {},
          "output_type": "execute_result"
        }
      ],
      "source": [
        "cars[\"amount\"].unique()"
      ]
    },
    {
      "cell_type": "code",
      "execution_count": null,
      "metadata": {
        "colab": {
          "base_uri": "https://localhost:8080/"
        },
        "id": "JcwLwr0lUI-v",
        "outputId": "0cc9ffd8-c9dd-40d4-f8dd-e6f1ecb16202"
      },
      "outputs": [
        {
          "data": {
            "text/plain": [
              "np.int64(0)"
            ]
          },
          "execution_count": 23,
          "metadata": {},
          "output_type": "execute_result"
        }
      ],
      "source": [
        "cars[\"region\"].isnull().sum()"
      ]
    },
    {
      "cell_type": "code",
      "execution_count": null,
      "metadata": {
        "colab": {
          "base_uri": "https://localhost:8080/"
        },
        "id": "uUoscsBGUqVA",
        "outputId": "9b351903-14c1-4bf5-e853-fef3f0c532a2"
      },
      "outputs": [
        {
          "data": {
            "text/plain": [
              "array(['Lagos State, Ikeja', 'Abuja (FCT), Garki 2', 'Lagos State, Lekki',\n",
              "       'Abuja (FCT), Lugbe District', 'Lagos State, Isolo',\n",
              "       'Abuja (FCT), Gwarinpa', 'Abuja (FCT), Kubwa',\n",
              "       'Lagos State, Ikotun/Igando', 'Lagos State, Ikoyi',\n",
              "       'Abuja (FCT), Mararaba', 'Abuja (FCT), Jabi', 'Lagos State, Ojodu',\n",
              "       'Lagos State, Ajah', 'Oyo State, Ibadan',\n",
              "       'Kwara State, Ilorin East', 'Lagos State, Amuwo-Odofin',\n",
              "       'Lagos State, Alimosho', 'Rivers State, Port-Harcourt',\n",
              "       'Delta State, Oshimili South', 'Lagos State, Ipaja',\n",
              "       'Lagos State, Ikorodu', 'Lagos State, Mushin',\n",
              "       'Abuja (FCT), Katampe', 'Akwa Ibom State, Uyo',\n",
              "       'Lagos State, Surulere', 'Lagos State, Ogba',\n",
              "       'Anambra State, Onitsha', 'Lagos State, Yaba',\n",
              "       'Lagos State, Ibeju', 'Abuja (FCT), Wuse',\n",
              "       'Ogun State, Ado-Odo/Ota', 'Lagos State, Ilupeju',\n",
              "       'Lagos State, Ifako-Ijaiye', 'Lagos State, Kosofe',\n",
              "       'Lagos State, Magodo', 'Lagos State, Ogudu', 'Imo State, Owerri',\n",
              "       'Kaduna State, Kaduna / Kaduna State', 'Edo State, Benin City',\n",
              "       'Ondo State, Akure', 'Lagos State, Apapa',\n",
              "       'Lagos State, Victoria Island'], dtype=object)"
            ]
          },
          "execution_count": 24,
          "metadata": {},
          "output_type": "execute_result"
        }
      ],
      "source": [
        "cars[\"region\"].unique()"
      ]
    },
    {
      "cell_type": "code",
      "execution_count": null,
      "metadata": {
        "id": "JT0r_ei6U3df"
      },
      "outputs": [],
      "source": [
        "cars[\"region\"] = cars[\"region\"].str.replace(\"Lagos State\", \"Lagos\")\n",
        "cars[\"region\"] = cars[\"region\"].str.replace(\"Abuja (FCT)\", \"Abuja\")\n",
        "cars[\"region\"] = cars[\"region\"].str.replace(\"Oyo State\", \"Oyo\")\n",
        "cars[\"region\"] = cars[\"region\"].str.replace(\"Kwara State\", \"Kwara\")\n",
        "cars[\"region\"] = cars[\"region\"] = cars[\"region\"].str.replace(\"Rivers State\", \"River\")\n",
        "cars[\"region\"] = cars[\"region\"].str.replace(\"Delta State\", \"Delta\")\n",
        "cars[\"region\"] = cars[\"region\"].str.replace(\"Akwa Ibom State\", \"Akwa Ibom\")\n",
        "cars[\"region\"] = cars[\"region\"].str.replace(\"Anambra State\", \"Anambra\")\n",
        "cars[\"region\"] = cars[\"region\"].str.replace(\"Ogun State\", \"Ogun\")\n",
        "cars[\"region\"] = cars[\"region\"].str.replace(\"Kaduna State\", \"Kaduna\")\n",
        "cars[\"region\"] = cars[\"region\"].str.replace(\"Imo State\", \"Imo\")\n",
        "cars[\"region\"] = cars[\"region\"].str.replace(\"Edo State\", \"Edo\")\n",
        "cars[\"region\"] = cars[\"region\"].str.replace(\"Ondo State\", \"Ondo\")\n",
        "cars[\"region\"] = cars[\"region\"].str.replace(\"Kaduna  State\", \"Kaduna\")\n"
      ]
    },
    {
      "cell_type": "code",
      "execution_count": null,
      "metadata": {
        "colab": {
          "base_uri": "https://localhost:8080/"
        },
        "id": "ITkAO517Xhxl",
        "outputId": "bd02f59b-8dff-41b1-ba9f-54f6db6a55e4"
      },
      "outputs": [
        {
          "data": {
            "text/plain": [
              "Index(['car_id', 'description', 'amount', 'region', 'make', 'model',\n",
              "       'year_of_man', 'color', 'condition', 'mileage', 'engine_size',\n",
              "       'selling_cond', 'bought_cond', 'trim', 'drive_train', 'reg_city',\n",
              "       'seat', 'num_cylinder', 'horse_power', 'body_build', 'fuel_type',\n",
              "       'transmission'],\n",
              "      dtype='object')"
            ]
          },
          "execution_count": 26,
          "metadata": {},
          "output_type": "execute_result"
        }
      ],
      "source": [
        "cars.columns"
      ]
    },
    {
      "cell_type": "code",
      "execution_count": null,
      "metadata": {
        "colab": {
          "base_uri": "https://localhost:8080/"
        },
        "id": "27WKyUZMujuz",
        "outputId": "8acccab5-2ffa-4c4b-d86f-0b72901ea44e"
      },
      "outputs": [
        {
          "data": {
            "text/plain": [
              "np.int64(0)"
            ]
          },
          "execution_count": 27,
          "metadata": {},
          "output_type": "execute_result"
        }
      ],
      "source": [
        "cars[\"make\"].isnull().sum()"
      ]
    },
    {
      "cell_type": "code",
      "execution_count": null,
      "metadata": {
        "colab": {
          "base_uri": "https://localhost:8080/"
        },
        "id": "uI7o40C1u3e4",
        "outputId": "d3683880-d005-4be9-cf8c-df0a86140931"
      },
      "outputs": [
        {
          "data": {
            "text/plain": [
              "array(['Lexus', 'Land Rover', 'Toyota', 'Mercedes-Benz', 'Ford', 'Acura',\n",
              "       'Honda', 'BMW', 'Kia', 'Volkswagen', 'Nissan', 'Chevrolet',\n",
              "       'Subaru', 'Hyundai', 'Volvo', 'Mazda', 'Peugeot', 'Mitsubishi',\n",
              "       'Infiniti', 'Jeep', 'Audi', 'Pontiac', 'Changan', 'Porsche',\n",
              "       'Dodge', 'Citroen', 'Maserati', 'Chrysler', 'Daihatsu', 'Suzuki',\n",
              "       'Opel', 'Renault', 'Cadillac', 'Mini', 'GAC', 'Isuzu', 'Scion',\n",
              "       'Rover', 'Aston Martin', 'Dongfeng', 'Hummer', 'Haima', 'Lincoln',\n",
              "       'Jaguar', 'Vauxhall', 'Genesis', 'Mercury'], dtype=object)"
            ]
          },
          "execution_count": 28,
          "metadata": {},
          "output_type": "execute_result"
        }
      ],
      "source": [
        "cars[\"make\"].unique()"
      ]
    },
    {
      "cell_type": "code",
      "execution_count": null,
      "metadata": {
        "colab": {
          "base_uri": "https://localhost:8080/"
        },
        "id": "pzvAnaJKvDxf",
        "outputId": "0cea6f30-32e9-4427-c08d-811eac90bf26"
      },
      "outputs": [
        {
          "data": {
            "text/plain": [
              "np.int64(0)"
            ]
          },
          "execution_count": 29,
          "metadata": {},
          "output_type": "execute_result"
        }
      ],
      "source": [
        "cars[\"model\"].isnull().sum()"
      ]
    },
    {
      "cell_type": "code",
      "execution_count": null,
      "metadata": {
        "colab": {
          "base_uri": "https://localhost:8080/"
        },
        "id": "iRVpo-_lvgu3",
        "outputId": "8793c7f8-1ca8-401f-8dc1-fb6f607a133a"
      },
      "outputs": [
        {
          "data": {
            "text/plain": [
              "array(['ES', 'Range Rover', 'Sequoia', 'Corolla', 'M Class', 'Escape',\n",
              "       'MDX', 'Highlander', 'IS', 'Avalon', 'Camry', 'GS', 'Accord',\n",
              "       'Pilot', 'GX', '323i', 'RX 350', 'Sorento', 'Golf',\n",
              "       'Range Rover Evoque', 'Land Cruiser Prado', 'Civic', 'CR-V',\n",
              "       'GL-Class', 'Edge', 'Stream', 'Altima', 'Suburban', 'Pathfinder',\n",
              "       'Outback', 'RAV4', 'E220', 'Matrix', 'E350', 'Sonata', 'Sienna',\n",
              "       'C300', 'Rondo', 'XC90', 'Micra', 'Venza', 'C350', 'Element',\n",
              "       'A-Class', 'Aveo', '3', '206', '407', 'Jetta', 'Avensis', 'RX 330',\n",
              "       'CX-7', 'GLK-Class', 'Rio', 'C200', 'E320', 'Sportage', 'C280',\n",
              "       'Passat', '4-Runner', 'Santa Fe', 'C180', 'LX', 'Tacoma', 'Focus',\n",
              "       'Tiguan', '325i', 'Optima', 'Range Rover Vogue', 'Cerato',\n",
              "       'S-Class', 'Hilux', '6', 'Outlander', 'Elantra', 'FX35', 'Sentra',\n",
              "       'Explorer', 'RX 300', 'Solara', 'Almera', 'C320', 'RX', 'Rogue',\n",
              "       'Yaris', 'Tundra', 'X1', 'XC70', 'Wrangler', 'Golf GTI', 'C230',\n",
              "       'Fusion', 'A6', 'Vibe', 'Murano', 'Creta', 'X3', 'Titan', 'Lr4',\n",
              "       'GLS-Class', 'Maxima', 'Camaro', 'Previa', 'Tiida', 'ZDX',\n",
              "       'SpaceWagon', 'TL', 'Torrent', '307', 'Alsvin', 'Ranger',\n",
              "       'G-Class', 'CX-9', 'C-Class', 'Crosstour', 'A4',\n",
              "       'Accord Crosstour', 'Cayenne', '408', '525i', '626', 'RDX',\n",
              "       'Xterra', 'Harrier', 'Tucson', 'HiAce', 'Compass', '1800', '607',\n",
              "       'Accent', '328i', 'X5', 'E200', 'SLK-Class', 'CS35', 'C240',\n",
              "       'QX56', 'Charger', '406', 'Caliber', 'Odyssey', 'X4', 'Ecosport',\n",
              "       'C4', 'CLK', 'F-150', '5 Series', 'Primera', 'Range Rover Sport',\n",
              "       'B-Class', 'Ridgeline', 'Frontier', '550i', 'County', 'QX80',\n",
              "       'Routan', 'Levante', 'Veloster', '535i', 'QX4', 'Lr3', 'City',\n",
              "       '300C', 'CLA-Class', 'GLA 250', 'HIJET', 'Grand Vitara', 'C270',\n",
              "       '207', 'G35', 'Ix35', 'Land Cruiser', 'Touareg', 'Equinox', 'S60',\n",
              "       'S5', 'Quest', 'GLC-Class', '3 Series', 'Galant', 'A3', 'Zafira',\n",
              "       'Soul', 'R-Class', 'Laguna', 'Captiva', 'C250', 'L200', 'CLS',\n",
              "       'Grandeur', 'Veracruz', 'Q5', 'Freestyle', 'Azera', 'Transporter',\n",
              "       'Caravan', 'Carisma', 'C400', 'Mohave', 'CSX', 'CTS', 'Jazz',\n",
              "       'RAM', '320i', 'Vitara', 'Dzire', 'XC60', 'Z4', 'X-Trail',\n",
              "       'Cooper', 'Q7', 'RX 400h', '530i', 'Van', 'Swift', 'Jimny', 'Alto',\n",
              "       '190E', 'Lancer', 'Taurus', 'S40', 'Grand Cherokee', 'Ertiga',\n",
              "       'S-Presso', 'Mustang', 'Orlando', 'ASX', '323', 'Ciaz',\n",
              "       'Discovery', 'Durango', 'Epica', 'Trax', 'LS', 'Cruze', 'Astra',\n",
              "       'Uplander', 'Baleno', 'Lr2', 'G', 'SC', 'Grand Caravan', 'Armada',\n",
              "       'X6', '335i', '528i', 'MPV', 'Fortuner', 'Corolla Verso',\n",
              "       'Transit', '318i', 'Beetle', 'Range Rover Velar', 'Megane',\n",
              "       'Verso', 'H300', 'Sunny', 'Journey', 'Cherokee', 'GA4', 'Q50',\n",
              "       'Touran', 'Trooper', 'Every Wagon', 'Vectra', '200', 'FX', '301',\n",
              "       'tC', 'Malibu', '5', 'Sharan', 'Millenia', 'GS4', 'Land', 'Impala',\n",
              "       'DB9', 'Trajet', 'Lingzhi M3', 'Grand', 'H3', 'Coaster', 'E400',\n",
              "       '7 Series', 'Sx4', 'V40', 'Eclipse Cross', 'Forte', 'GS8',\n",
              "       'Escalade', 'Navigator', 'Qashqai', 'NP300', 'Magnum', 'Versa',\n",
              "       'EX', '230E', 'Traverse', '308', 'C220', 'Polo', 'Liberty',\n",
              "       'Shuttle', 'Sprinter', 'Borrego', 'Sedona', 'E250', 'XJ',\n",
              "       'Tiburon', 'Vivaro', 'GA3', 'Tribeca', 'Kremer', 'E-150', 'GS3',\n",
              "       'Clio', '520i', 'Prius', 'E240', 'TSX', 'E300', 'Rabbit',\n",
              "       'Tribute', 'Pajero', 'Avanza', 'Pacifica', 'Town&Country', 'G80',\n",
              "       'Mariner', 'Commander', 'Challenger', 'CC', 'S80', '300', 'Shuma',\n",
              "       'S-Type', 'FJ Cruiser', 'GLE-Class'], dtype=object)"
            ]
          },
          "execution_count": 30,
          "metadata": {},
          "output_type": "execute_result"
        }
      ],
      "source": [
        "cars[\"model\"].unique()"
      ]
    },
    {
      "cell_type": "code",
      "execution_count": null,
      "metadata": {
        "colab": {
          "base_uri": "https://localhost:8080/"
        },
        "id": "dpwidpnnvrIQ",
        "outputId": "8dda4636-0174-4267-e5c6-6a9fe674f673"
      },
      "outputs": [
        {
          "data": {
            "text/plain": [
              "338"
            ]
          },
          "execution_count": 31,
          "metadata": {},
          "output_type": "execute_result"
        }
      ],
      "source": [
        "cars[\"model\"].nunique()"
      ]
    },
    {
      "cell_type": "code",
      "execution_count": null,
      "metadata": {
        "colab": {
          "base_uri": "https://localhost:8080/"
        },
        "id": "WIUeQU54wHtQ",
        "outputId": "2ae60048-c43b-419b-f3d3-3c3a1a50f3af"
      },
      "outputs": [
        {
          "data": {
            "text/plain": [
              "Index(['car_id', 'description', 'amount', 'region', 'make', 'model',\n",
              "       'year_of_man', 'color', 'condition', 'mileage', 'engine_size',\n",
              "       'selling_cond', 'bought_cond', 'trim', 'drive_train', 'reg_city',\n",
              "       'seat', 'num_cylinder', 'horse_power', 'body_build', 'fuel_type',\n",
              "       'transmission'],\n",
              "      dtype='object')"
            ]
          },
          "execution_count": 32,
          "metadata": {},
          "output_type": "execute_result"
        }
      ],
      "source": [
        "cars.columns"
      ]
    },
    {
      "cell_type": "code",
      "execution_count": null,
      "metadata": {
        "colab": {
          "base_uri": "https://localhost:8080/"
        },
        "id": "_YQ9kV2zw2Vl",
        "outputId": "9173bb67-4fa5-4ccf-a616-73d51d8ba846"
      },
      "outputs": [
        {
          "data": {
            "text/plain": [
              "np.int64(0)"
            ]
          },
          "execution_count": 33,
          "metadata": {},
          "output_type": "execute_result"
        }
      ],
      "source": [
        "cars[\"year_of_man\"].isnull().sum()"
      ]
    },
    {
      "cell_type": "code",
      "execution_count": null,
      "metadata": {
        "colab": {
          "base_uri": "https://localhost:8080/"
        },
        "id": "WhaXXH_Gw726",
        "outputId": "61c5b511-2a02-40f3-8277-faa7e01782a3"
      },
      "outputs": [
        {
          "data": {
            "text/plain": [
              "array([2013, 2012, 2018, 2007, 2005, 2008, 2011, 2015, 2010, 2004, 2006,\n",
              "       2001, 2014, 2009, 2003, 1999, 2002, 1998, 2000, 1993, 2016, 2017,\n",
              "       2022, 2021, 1990, 1997, 2019, 2020, 1996, 1988, 2023, 1995, 1994])"
            ]
          },
          "execution_count": 34,
          "metadata": {},
          "output_type": "execute_result"
        }
      ],
      "source": [
        "cars[\"year_of_man\"].unique()"
      ]
    },
    {
      "cell_type": "code",
      "execution_count": null,
      "metadata": {
        "colab": {
          "base_uri": "https://localhost:8080/",
          "height": 458
        },
        "id": "Ia_BIYnLxJta",
        "outputId": "b038f0a6-e9eb-4de5-c601-f2745f504a92"
      },
      "outputs": [
        {
          "data": {
            "text/html": [
              "<div>\n",
              "<style scoped>\n",
              "    .dataframe tbody tr th:only-of-type {\n",
              "        vertical-align: middle;\n",
              "    }\n",
              "\n",
              "    .dataframe tbody tr th {\n",
              "        vertical-align: top;\n",
              "    }\n",
              "\n",
              "    .dataframe thead th {\n",
              "        text-align: right;\n",
              "    }\n",
              "</style>\n",
              "<table border=\"1\" class=\"dataframe\">\n",
              "  <thead>\n",
              "    <tr style=\"text-align: right;\">\n",
              "      <th></th>\n",
              "      <th>year_of_man</th>\n",
              "    </tr>\n",
              "  </thead>\n",
              "  <tbody>\n",
              "    <tr>\n",
              "      <th>0</th>\n",
              "      <td>2013</td>\n",
              "    </tr>\n",
              "    <tr>\n",
              "      <th>1</th>\n",
              "      <td>2012</td>\n",
              "    </tr>\n",
              "    <tr>\n",
              "      <th>2</th>\n",
              "      <td>2018</td>\n",
              "    </tr>\n",
              "    <tr>\n",
              "      <th>3</th>\n",
              "      <td>2007</td>\n",
              "    </tr>\n",
              "    <tr>\n",
              "      <th>4</th>\n",
              "      <td>2005</td>\n",
              "    </tr>\n",
              "    <tr>\n",
              "      <th>...</th>\n",
              "      <td>...</td>\n",
              "    </tr>\n",
              "    <tr>\n",
              "      <th>2889</th>\n",
              "      <td>2011</td>\n",
              "    </tr>\n",
              "    <tr>\n",
              "      <th>2890</th>\n",
              "      <td>1998</td>\n",
              "    </tr>\n",
              "    <tr>\n",
              "      <th>2891</th>\n",
              "      <td>2006</td>\n",
              "    </tr>\n",
              "    <tr>\n",
              "      <th>2892</th>\n",
              "      <td>2008</td>\n",
              "    </tr>\n",
              "    <tr>\n",
              "      <th>2893</th>\n",
              "      <td>2005</td>\n",
              "    </tr>\n",
              "  </tbody>\n",
              "</table>\n",
              "<p>2894 rows × 1 columns</p>\n",
              "</div><br><label><b>dtype:</b> int64</label>"
            ],
            "text/plain": [
              "0       2013\n",
              "1       2012\n",
              "2       2018\n",
              "3       2007\n",
              "4       2005\n",
              "        ... \n",
              "2889    2011\n",
              "2890    1998\n",
              "2891    2006\n",
              "2892    2008\n",
              "2893    2005\n",
              "Name: year_of_man, Length: 2894, dtype: int64"
            ]
          },
          "execution_count": 35,
          "metadata": {},
          "output_type": "execute_result"
        }
      ],
      "source": [
        "cars[\"year_of_man\"]"
      ]
    },
    {
      "cell_type": "code",
      "execution_count": null,
      "metadata": {
        "colab": {
          "base_uri": "https://localhost:8080/"
        },
        "id": "GiW8j7GNx2-w",
        "outputId": "ccbe655e-b7af-4361-d3ce-05c3d2ac78e3"
      },
      "outputs": [
        {
          "data": {
            "text/plain": [
              "np.int64(1)"
            ]
          },
          "execution_count": 36,
          "metadata": {},
          "output_type": "execute_result"
        }
      ],
      "source": [
        "cars[\"color\"].isnull().sum()"
      ]
    },
    {
      "cell_type": "code",
      "execution_count": null,
      "metadata": {
        "id": "DUG5CaG8yZZC"
      },
      "outputs": [],
      "source": [
        "cars.fillna({\"color\": \"Black\"}, inplace=True)"
      ]
    },
    {
      "cell_type": "code",
      "execution_count": null,
      "metadata": {
        "colab": {
          "base_uri": "https://localhost:8080/"
        },
        "id": "w6ZMQ0i_ynqD",
        "outputId": "f8e384dc-fbbb-43e5-e938-60689bb4d660"
      },
      "outputs": [
        {
          "data": {
            "text/plain": [
              "np.int64(0)"
            ]
          },
          "execution_count": 38,
          "metadata": {},
          "output_type": "execute_result"
        }
      ],
      "source": [
        "cars[\"color\"].isnull().sum()"
      ]
    },
    {
      "cell_type": "code",
      "execution_count": null,
      "metadata": {
        "colab": {
          "base_uri": "https://localhost:8080/"
        },
        "id": "D5TTJ1E_yuMQ",
        "outputId": "c3ae70dc-edc9-4768-b935-138314a1dbe7"
      },
      "outputs": [
        {
          "data": {
            "text/plain": [
              "np.int64(0)"
            ]
          },
          "execution_count": 39,
          "metadata": {},
          "output_type": "execute_result"
        }
      ],
      "source": [
        "cars[\"condition\"].isnull().sum()"
      ]
    },
    {
      "cell_type": "code",
      "execution_count": null,
      "metadata": {
        "colab": {
          "base_uri": "https://localhost:8080/"
        },
        "id": "J8T1eyMWy9Nz",
        "outputId": "2179495d-6d46-475c-80b9-7e8ae58bafb0"
      },
      "outputs": [
        {
          "data": {
            "text/plain": [
              "array(['Foreign Used', 'Nigerian Used', 'Brand New'], dtype=object)"
            ]
          },
          "execution_count": 40,
          "metadata": {},
          "output_type": "execute_result"
        }
      ],
      "source": [
        "cars[\"condition\"].unique()"
      ]
    },
    {
      "cell_type": "code",
      "execution_count": null,
      "metadata": {
        "colab": {
          "base_uri": "https://localhost:8080/"
        },
        "id": "DRwhpoKhzbd6",
        "outputId": "fdac61ff-b9ba-419a-fae1-f646c18e3bc6"
      },
      "outputs": [
        {
          "data": {
            "text/plain": [
              "Index(['car_id', 'description', 'amount', 'region', 'make', 'model',\n",
              "       'year_of_man', 'color', 'condition', 'mileage', 'engine_size',\n",
              "       'selling_cond', 'bought_cond', 'trim', 'drive_train', 'reg_city',\n",
              "       'seat', 'num_cylinder', 'horse_power', 'body_build', 'fuel_type',\n",
              "       'transmission'],\n",
              "      dtype='object')"
            ]
          },
          "execution_count": 41,
          "metadata": {},
          "output_type": "execute_result"
        }
      ],
      "source": [
        "cars.columns"
      ]
    },
    {
      "cell_type": "code",
      "execution_count": null,
      "metadata": {
        "colab": {
          "base_uri": "https://localhost:8080/"
        },
        "id": "HwMHyIqn2k3H",
        "outputId": "f31fa4d8-2768-4b4c-a332-274051caeeca"
      },
      "outputs": [
        {
          "data": {
            "text/plain": [
              "np.int64(65)"
            ]
          },
          "execution_count": 42,
          "metadata": {},
          "output_type": "execute_result"
        }
      ],
      "source": [
        "cars[\"mileage\"].isnull().sum()"
      ]
    },
    {
      "cell_type": "code",
      "execution_count": null,
      "metadata": {
        "colab": {
          "base_uri": "https://localhost:8080/",
          "height": 489
        },
        "id": "qGdZPEBb2yCD",
        "outputId": "b6e6de1d-f382-49d2-bf35-348abe213e98"
      },
      "outputs": [
        {
          "data": {
            "text/html": [
              "<div>\n",
              "<style scoped>\n",
              "    .dataframe tbody tr th:only-of-type {\n",
              "        vertical-align: middle;\n",
              "    }\n",
              "\n",
              "    .dataframe tbody tr th {\n",
              "        vertical-align: top;\n",
              "    }\n",
              "\n",
              "    .dataframe thead th {\n",
              "        text-align: right;\n",
              "    }\n",
              "</style>\n",
              "<table border=\"1\" class=\"dataframe\">\n",
              "  <thead>\n",
              "    <tr style=\"text-align: right;\">\n",
              "      <th></th>\n",
              "      <th>count</th>\n",
              "    </tr>\n",
              "    <tr>\n",
              "      <th>mileage</th>\n",
              "      <th></th>\n",
              "    </tr>\n",
              "  </thead>\n",
              "  <tbody>\n",
              "    <tr>\n",
              "      <th>0.0</th>\n",
              "      <td>16</td>\n",
              "    </tr>\n",
              "    <tr>\n",
              "      <th>160932.0</th>\n",
              "      <td>8</td>\n",
              "    </tr>\n",
              "    <tr>\n",
              "      <th>299999.0</th>\n",
              "      <td>6</td>\n",
              "    </tr>\n",
              "    <tr>\n",
              "      <th>1.0</th>\n",
              "      <td>4</td>\n",
              "    </tr>\n",
              "    <tr>\n",
              "      <th>123523.0</th>\n",
              "      <td>3</td>\n",
              "    </tr>\n",
              "    <tr>\n",
              "      <th>...</th>\n",
              "      <td>...</td>\n",
              "    </tr>\n",
              "    <tr>\n",
              "      <th>93892.0</th>\n",
              "      <td>1</td>\n",
              "    </tr>\n",
              "    <tr>\n",
              "      <th>69524.0</th>\n",
              "      <td>1</td>\n",
              "    </tr>\n",
              "    <tr>\n",
              "      <th>61015.0</th>\n",
              "      <td>1</td>\n",
              "    </tr>\n",
              "    <tr>\n",
              "      <th>93446.0</th>\n",
              "      <td>1</td>\n",
              "    </tr>\n",
              "    <tr>\n",
              "      <th>261401.0</th>\n",
              "      <td>1</td>\n",
              "    </tr>\n",
              "  </tbody>\n",
              "</table>\n",
              "<p>2768 rows × 1 columns</p>\n",
              "</div><br><label><b>dtype:</b> int64</label>"
            ],
            "text/plain": [
              "mileage\n",
              "0.0         16\n",
              "160932.0     8\n",
              "299999.0     6\n",
              "1.0          4\n",
              "123523.0     3\n",
              "            ..\n",
              "93892.0      1\n",
              "69524.0      1\n",
              "61015.0      1\n",
              "93446.0      1\n",
              "261401.0     1\n",
              "Name: count, Length: 2768, dtype: int64"
            ]
          },
          "execution_count": 43,
          "metadata": {},
          "output_type": "execute_result"
        }
      ],
      "source": [
        "cars[\"mileage\"].value_counts()"
      ]
    },
    {
      "cell_type": "code",
      "execution_count": null,
      "metadata": {
        "colab": {
          "base_uri": "https://localhost:8080/"
        },
        "id": "1kADqSD2ernQ",
        "outputId": "eda983f0-adcd-49e1-a260-61e1a3b54529"
      },
      "outputs": [
        {
          "data": {
            "text/plain": [
              "np.float64(243347.54612937433)"
            ]
          },
          "execution_count": 44,
          "metadata": {},
          "output_type": "execute_result"
        }
      ],
      "source": [
        "cars[\"mileage\"].mean().sum()"
      ]
    },
    {
      "cell_type": "code",
      "execution_count": null,
      "metadata": {
        "id": "M3z6nHpNfJs7"
      },
      "outputs": [],
      "source": [
        "cars.fillna({\"milcarseage\": 243347.0}, inplace=True)"
      ]
    },
    {
      "cell_type": "code",
      "execution_count": null,
      "metadata": {
        "colab": {
          "base_uri": "https://localhost:8080/"
        },
        "id": "KLsBswXqgcIn",
        "outputId": "ea20d029-4e20-4f90-a164-93d4fdd6a59e"
      },
      "outputs": [
        {
          "data": {
            "text/plain": [
              "Index(['car_id', 'description', 'amount', 'region', 'make', 'model',\n",
              "       'year_of_man', 'color', 'condition', 'mileage', 'engine_size',\n",
              "       'selling_cond', 'bought_cond', 'trim', 'drive_train', 'reg_city',\n",
              "       'seat', 'num_cylinder', 'horse_power', 'body_build', 'fuel_type',\n",
              "       'transmission'],\n",
              "      dtype='object')"
            ]
          },
          "execution_count": 46,
          "metadata": {},
          "output_type": "execute_result"
        }
      ],
      "source": [
        "cars.columns"
      ]
    },
    {
      "cell_type": "code",
      "execution_count": null,
      "metadata": {
        "colab": {
          "base_uri": "https://localhost:8080/"
        },
        "id": "U-M7OieLhYUQ",
        "outputId": "4636b6a7-8d37-41b7-927d-af8328372f42"
      },
      "outputs": [
        {
          "data": {
            "text/plain": [
              "np.int64(48)"
            ]
          },
          "execution_count": 47,
          "metadata": {},
          "output_type": "execute_result"
        }
      ],
      "source": [
        "cars[\"engine_size\"].isnull().sum()"
      ]
    },
    {
      "cell_type": "code",
      "execution_count": null,
      "metadata": {
        "colab": {
          "base_uri": "https://localhost:8080/",
          "height": 1000
        },
        "id": "kZrNAvD4hjFE",
        "outputId": "d197637c-4e68-4515-db96-91c1102456a4"
      },
      "outputs": [
        {
          "data": {
            "text/html": [
              "<div>\n",
              "<style scoped>\n",
              "    .dataframe tbody tr th:only-of-type {\n",
              "        vertical-align: middle;\n",
              "    }\n",
              "\n",
              "    .dataframe tbody tr th {\n",
              "        vertical-align: top;\n",
              "    }\n",
              "\n",
              "    .dataframe thead th {\n",
              "        text-align: right;\n",
              "    }\n",
              "</style>\n",
              "<table border=\"1\" class=\"dataframe\">\n",
              "  <thead>\n",
              "    <tr style=\"text-align: right;\">\n",
              "      <th></th>\n",
              "      <th>count</th>\n",
              "    </tr>\n",
              "    <tr>\n",
              "      <th>engine_size</th>\n",
              "      <th></th>\n",
              "    </tr>\n",
              "  </thead>\n",
              "  <tbody>\n",
              "    <tr>\n",
              "      <th>3500.0</th>\n",
              "      <td>642</td>\n",
              "    </tr>\n",
              "    <tr>\n",
              "      <th>2400.0</th>\n",
              "      <td>410</td>\n",
              "    </tr>\n",
              "    <tr>\n",
              "      <th>1800.0</th>\n",
              "      <td>309</td>\n",
              "    </tr>\n",
              "    <tr>\n",
              "      <th>3000.0</th>\n",
              "      <td>230</td>\n",
              "    </tr>\n",
              "    <tr>\n",
              "      <th>2000.0</th>\n",
              "      <td>209</td>\n",
              "    </tr>\n",
              "    <tr>\n",
              "      <th>2500.0</th>\n",
              "      <td>198</td>\n",
              "    </tr>\n",
              "    <tr>\n",
              "      <th>3300.0</th>\n",
              "      <td>156</td>\n",
              "    </tr>\n",
              "    <tr>\n",
              "      <th>1600.0</th>\n",
              "      <td>84</td>\n",
              "    </tr>\n",
              "    <tr>\n",
              "      <th>4000.0</th>\n",
              "      <td>68</td>\n",
              "    </tr>\n",
              "    <tr>\n",
              "      <th>4700.0</th>\n",
              "      <td>65</td>\n",
              "    </tr>\n",
              "    <tr>\n",
              "      <th>2700.0</th>\n",
              "      <td>47</td>\n",
              "    </tr>\n",
              "    <tr>\n",
              "      <th>2200.0</th>\n",
              "      <td>41</td>\n",
              "    </tr>\n",
              "    <tr>\n",
              "      <th>3700.0</th>\n",
              "      <td>39</td>\n",
              "    </tr>\n",
              "    <tr>\n",
              "      <th>3800.0</th>\n",
              "      <td>33</td>\n",
              "    </tr>\n",
              "    <tr>\n",
              "      <th>4600.0</th>\n",
              "      <td>29</td>\n",
              "    </tr>\n",
              "    <tr>\n",
              "      <th>3200.0</th>\n",
              "      <td>28</td>\n",
              "    </tr>\n",
              "    <tr>\n",
              "      <th>5000.0</th>\n",
              "      <td>23</td>\n",
              "    </tr>\n",
              "    <tr>\n",
              "      <th>1500.0</th>\n",
              "      <td>21</td>\n",
              "    </tr>\n",
              "    <tr>\n",
              "      <th>1400.0</th>\n",
              "      <td>20</td>\n",
              "    </tr>\n",
              "    <tr>\n",
              "      <th>5700.0</th>\n",
              "      <td>18</td>\n",
              "    </tr>\n",
              "    <tr>\n",
              "      <th>2300.0</th>\n",
              "      <td>17</td>\n",
              "    </tr>\n",
              "    <tr>\n",
              "      <th>4400.0</th>\n",
              "      <td>16</td>\n",
              "    </tr>\n",
              "    <tr>\n",
              "      <th>3600.0</th>\n",
              "      <td>15</td>\n",
              "    </tr>\n",
              "    <tr>\n",
              "      <th>2800.0</th>\n",
              "      <td>14</td>\n",
              "    </tr>\n",
              "    <tr>\n",
              "      <th>2600.0</th>\n",
              "      <td>10</td>\n",
              "    </tr>\n",
              "    <tr>\n",
              "      <th>5600.0</th>\n",
              "      <td>9</td>\n",
              "    </tr>\n",
              "    <tr>\n",
              "      <th>5400.0</th>\n",
              "      <td>9</td>\n",
              "    </tr>\n",
              "    <tr>\n",
              "      <th>3400.0</th>\n",
              "      <td>8</td>\n",
              "    </tr>\n",
              "    <tr>\n",
              "      <th>5500.0</th>\n",
              "      <td>7</td>\n",
              "    </tr>\n",
              "    <tr>\n",
              "      <th>1300.0</th>\n",
              "      <td>7</td>\n",
              "    </tr>\n",
              "    <tr>\n",
              "      <th>4500.0</th>\n",
              "      <td>7</td>\n",
              "    </tr>\n",
              "    <tr>\n",
              "      <th>1700.0</th>\n",
              "      <td>6</td>\n",
              "    </tr>\n",
              "    <tr>\n",
              "      <th>2900.0</th>\n",
              "      <td>4</td>\n",
              "    </tr>\n",
              "    <tr>\n",
              "      <th>4800.0</th>\n",
              "      <td>4</td>\n",
              "    </tr>\n",
              "    <tr>\n",
              "      <th>1000.0</th>\n",
              "      <td>3</td>\n",
              "    </tr>\n",
              "    <tr>\n",
              "      <th>1200.0</th>\n",
              "      <td>3</td>\n",
              "    </tr>\n",
              "    <tr>\n",
              "      <th>24000.0</th>\n",
              "      <td>3</td>\n",
              "    </tr>\n",
              "    <tr>\n",
              "      <th>4300.0</th>\n",
              "      <td>3</td>\n",
              "    </tr>\n",
              "    <tr>\n",
              "      <th>35000.0</th>\n",
              "      <td>3</td>\n",
              "    </tr>\n",
              "    <tr>\n",
              "      <th>1900.0</th>\n",
              "      <td>3</td>\n",
              "    </tr>\n",
              "    <tr>\n",
              "      <th>4200.0</th>\n",
              "      <td>3</td>\n",
              "    </tr>\n",
              "    <tr>\n",
              "      <th>4900.0</th>\n",
              "      <td>2</td>\n",
              "    </tr>\n",
              "    <tr>\n",
              "      <th>25000.0</th>\n",
              "      <td>2</td>\n",
              "    </tr>\n",
              "    <tr>\n",
              "      <th>6200.0</th>\n",
              "      <td>2</td>\n",
              "    </tr>\n",
              "    <tr>\n",
              "      <th>158713.0</th>\n",
              "      <td>1</td>\n",
              "    </tr>\n",
              "    <tr>\n",
              "      <th>14000.0</th>\n",
              "      <td>1</td>\n",
              "    </tr>\n",
              "    <tr>\n",
              "      <th>5300.0</th>\n",
              "      <td>1</td>\n",
              "    </tr>\n",
              "    <tr>\n",
              "      <th>4100.0</th>\n",
              "      <td>1</td>\n",
              "    </tr>\n",
              "    <tr>\n",
              "      <th>77830.0</th>\n",
              "      <td>1</td>\n",
              "    </tr>\n",
              "    <tr>\n",
              "      <th>20000.0</th>\n",
              "      <td>1</td>\n",
              "    </tr>\n",
              "    <tr>\n",
              "      <th>659.0</th>\n",
              "      <td>1</td>\n",
              "    </tr>\n",
              "    <tr>\n",
              "      <th>3900.0</th>\n",
              "      <td>1</td>\n",
              "    </tr>\n",
              "    <tr>\n",
              "      <th>1100.0</th>\n",
              "      <td>1</td>\n",
              "    </tr>\n",
              "    <tr>\n",
              "      <th>11800.0</th>\n",
              "      <td>1</td>\n",
              "    </tr>\n",
              "    <tr>\n",
              "      <th>17000.0</th>\n",
              "      <td>1</td>\n",
              "    </tr>\n",
              "    <tr>\n",
              "      <th>18000.0</th>\n",
              "      <td>1</td>\n",
              "    </tr>\n",
              "    <tr>\n",
              "      <th>2100.0</th>\n",
              "      <td>1</td>\n",
              "    </tr>\n",
              "    <tr>\n",
              "      <th>36000.0</th>\n",
              "      <td>1</td>\n",
              "    </tr>\n",
              "    <tr>\n",
              "      <th>28000.0</th>\n",
              "      <td>1</td>\n",
              "    </tr>\n",
              "    <tr>\n",
              "      <th>25.0</th>\n",
              "      <td>1</td>\n",
              "    </tr>\n",
              "  </tbody>\n",
              "</table>\n",
              "</div><br><label><b>dtype:</b> int64</label>"
            ],
            "text/plain": [
              "engine_size\n",
              "3500.0      642\n",
              "2400.0      410\n",
              "1800.0      309\n",
              "3000.0      230\n",
              "2000.0      209\n",
              "2500.0      198\n",
              "3300.0      156\n",
              "1600.0       84\n",
              "4000.0       68\n",
              "4700.0       65\n",
              "2700.0       47\n",
              "2200.0       41\n",
              "3700.0       39\n",
              "3800.0       33\n",
              "4600.0       29\n",
              "3200.0       28\n",
              "5000.0       23\n",
              "1500.0       21\n",
              "1400.0       20\n",
              "5700.0       18\n",
              "2300.0       17\n",
              "4400.0       16\n",
              "3600.0       15\n",
              "2800.0       14\n",
              "2600.0       10\n",
              "5600.0        9\n",
              "5400.0        9\n",
              "3400.0        8\n",
              "5500.0        7\n",
              "1300.0        7\n",
              "4500.0        7\n",
              "1700.0        6\n",
              "2900.0        4\n",
              "4800.0        4\n",
              "1000.0        3\n",
              "1200.0        3\n",
              "24000.0       3\n",
              "4300.0        3\n",
              "35000.0       3\n",
              "1900.0        3\n",
              "4200.0        3\n",
              "4900.0        2\n",
              "25000.0       2\n",
              "6200.0        2\n",
              "158713.0      1\n",
              "14000.0       1\n",
              "5300.0        1\n",
              "4100.0        1\n",
              "77830.0       1\n",
              "20000.0       1\n",
              "659.0         1\n",
              "3900.0        1\n",
              "1100.0        1\n",
              "11800.0       1\n",
              "17000.0       1\n",
              "18000.0       1\n",
              "2100.0        1\n",
              "36000.0       1\n",
              "28000.0       1\n",
              "25.0          1\n",
              "Name: count, dtype: int64"
            ]
          },
          "execution_count": 48,
          "metadata": {},
          "output_type": "execute_result"
        }
      ],
      "source": [
        "cars['engine_size'].value_counts()"
      ]
    },
    {
      "cell_type": "code",
      "execution_count": null,
      "metadata": {
        "id": "YTEOP8zIhzCC"
      },
      "outputs": [],
      "source": [
        "cars.fillna({\"engine_size\": 3500.0}, inplace=True)"
      ]
    },
    {
      "cell_type": "code",
      "execution_count": null,
      "metadata": {
        "colab": {
          "base_uri": "https://localhost:8080/"
        },
        "id": "rucyRb8kibPG",
        "outputId": "3becac11-1a8d-4c77-d586-474602d33340"
      },
      "outputs": [
        {
          "data": {
            "text/plain": [
              "Index(['car_id', 'description', 'amount', 'region', 'make', 'model',\n",
              "       'year_of_man', 'color', 'condition', 'mileage', 'engine_size',\n",
              "       'selling_cond', 'bought_cond', 'trim', 'drive_train', 'reg_city',\n",
              "       'seat', 'num_cylinder', 'horse_power', 'body_build', 'fuel_type',\n",
              "       'transmission'],\n",
              "      dtype='object')"
            ]
          },
          "execution_count": 50,
          "metadata": {},
          "output_type": "execute_result"
        }
      ],
      "source": [
        "cars.columns"
      ]
    },
    {
      "cell_type": "code",
      "execution_count": null,
      "metadata": {
        "colab": {
          "base_uri": "https://localhost:8080/"
        },
        "id": "OuemaENfikAQ",
        "outputId": "10ebbe66-f3a9-49a3-cb72-8392f91d8f17"
      },
      "outputs": [
        {
          "data": {
            "text/plain": [
              "np.int64(17)"
            ]
          },
          "execution_count": 51,
          "metadata": {},
          "output_type": "execute_result"
        }
      ],
      "source": [
        "cars[\"selling_cond\"].isnull().sum()"
      ]
    },
    {
      "cell_type": "code",
      "execution_count": null,
      "metadata": {
        "colab": {
          "base_uri": "https://localhost:8080/",
          "height": 458
        },
        "id": "aLYLZyjNi5fw",
        "outputId": "c8cb561f-6cf3-4f6e-db25-6817b8cf7f80"
      },
      "outputs": [
        {
          "data": {
            "text/html": [
              "<div>\n",
              "<style scoped>\n",
              "    .dataframe tbody tr th:only-of-type {\n",
              "        vertical-align: middle;\n",
              "    }\n",
              "\n",
              "    .dataframe tbody tr th {\n",
              "        vertical-align: top;\n",
              "    }\n",
              "\n",
              "    .dataframe thead th {\n",
              "        text-align: right;\n",
              "    }\n",
              "</style>\n",
              "<table border=\"1\" class=\"dataframe\">\n",
              "  <thead>\n",
              "    <tr style=\"text-align: right;\">\n",
              "      <th></th>\n",
              "      <th>selling_cond</th>\n",
              "    </tr>\n",
              "  </thead>\n",
              "  <tbody>\n",
              "    <tr>\n",
              "      <th>0</th>\n",
              "      <td>Imported</td>\n",
              "    </tr>\n",
              "    <tr>\n",
              "      <th>1</th>\n",
              "      <td>Registered</td>\n",
              "    </tr>\n",
              "    <tr>\n",
              "      <th>2</th>\n",
              "      <td>Imported</td>\n",
              "    </tr>\n",
              "    <tr>\n",
              "      <th>3</th>\n",
              "      <td>Registered</td>\n",
              "    </tr>\n",
              "    <tr>\n",
              "      <th>4</th>\n",
              "      <td>Registered</td>\n",
              "    </tr>\n",
              "    <tr>\n",
              "      <th>...</th>\n",
              "      <td>...</td>\n",
              "    </tr>\n",
              "    <tr>\n",
              "      <th>2889</th>\n",
              "      <td>Imported</td>\n",
              "    </tr>\n",
              "    <tr>\n",
              "      <th>2890</th>\n",
              "      <td>Registered</td>\n",
              "    </tr>\n",
              "    <tr>\n",
              "      <th>2891</th>\n",
              "      <td>Imported</td>\n",
              "    </tr>\n",
              "    <tr>\n",
              "      <th>2892</th>\n",
              "      <td>Imported</td>\n",
              "    </tr>\n",
              "    <tr>\n",
              "      <th>2893</th>\n",
              "      <td>Registered</td>\n",
              "    </tr>\n",
              "  </tbody>\n",
              "</table>\n",
              "<p>2894 rows × 1 columns</p>\n",
              "</div><br><label><b>dtype:</b> object</label>"
            ],
            "text/plain": [
              "0         Imported\n",
              "1       Registered\n",
              "2         Imported\n",
              "3       Registered\n",
              "4       Registered\n",
              "           ...    \n",
              "2889      Imported\n",
              "2890    Registered\n",
              "2891      Imported\n",
              "2892      Imported\n",
              "2893    Registered\n",
              "Name: selling_cond, Length: 2894, dtype: object"
            ]
          },
          "execution_count": 52,
          "metadata": {},
          "output_type": "execute_result"
        }
      ],
      "source": [
        "cars[\"selling_cond\"]"
      ]
    },
    {
      "cell_type": "code",
      "execution_count": null,
      "metadata": {
        "colab": {
          "base_uri": "https://localhost:8080/",
          "height": 209
        },
        "id": "iQbeuqPrj3h2",
        "outputId": "c70c39f1-ccf8-4f49-d0df-8eb62cea94fc"
      },
      "outputs": [
        {
          "data": {
            "text/html": [
              "<div>\n",
              "<style scoped>\n",
              "    .dataframe tbody tr th:only-of-type {\n",
              "        vertical-align: middle;\n",
              "    }\n",
              "\n",
              "    .dataframe tbody tr th {\n",
              "        vertical-align: top;\n",
              "    }\n",
              "\n",
              "    .dataframe thead th {\n",
              "        text-align: right;\n",
              "    }\n",
              "</style>\n",
              "<table border=\"1\" class=\"dataframe\">\n",
              "  <thead>\n",
              "    <tr style=\"text-align: right;\">\n",
              "      <th></th>\n",
              "      <th>count</th>\n",
              "    </tr>\n",
              "    <tr>\n",
              "      <th>selling_cond</th>\n",
              "      <th></th>\n",
              "    </tr>\n",
              "  </thead>\n",
              "  <tbody>\n",
              "    <tr>\n",
              "      <th>Registered</th>\n",
              "      <td>2374</td>\n",
              "    </tr>\n",
              "    <tr>\n",
              "      <th>Imported</th>\n",
              "      <td>497</td>\n",
              "    </tr>\n",
              "    <tr>\n",
              "      <th>Brand new</th>\n",
              "      <td>6</td>\n",
              "    </tr>\n",
              "  </tbody>\n",
              "</table>\n",
              "</div><br><label><b>dtype:</b> int64</label>"
            ],
            "text/plain": [
              "selling_cond\n",
              "Registered    2374\n",
              "Imported       497\n",
              "Brand new        6\n",
              "Name: count, dtype: int64"
            ]
          },
          "execution_count": 53,
          "metadata": {},
          "output_type": "execute_result"
        }
      ],
      "source": [
        "cars[\"selling_cond\"].value_counts()"
      ]
    },
    {
      "cell_type": "code",
      "execution_count": null,
      "metadata": {
        "id": "CGufrO9_kKRb"
      },
      "outputs": [],
      "source": [
        "cars.fillna({\"selling_cond\": \"selling_cond\"}, inplace=True)"
      ]
    },
    {
      "cell_type": "code",
      "execution_count": null,
      "metadata": {
        "colab": {
          "base_uri": "https://localhost:8080/"
        },
        "id": "lj5QsrwLki3y",
        "outputId": "54e595c0-6817-4173-84bc-7a5cedda8ed2"
      },
      "outputs": [
        {
          "data": {
            "text/plain": [
              "Index(['car_id', 'description', 'amount', 'region', 'make', 'model',\n",
              "       'year_of_man', 'color', 'condition', 'mileage', 'engine_size',\n",
              "       'selling_cond', 'bought_cond', 'trim', 'drive_train', 'reg_city',\n",
              "       'seat', 'num_cylinder', 'horse_power', 'body_build', 'fuel_type',\n",
              "       'transmission'],\n",
              "      dtype='object')"
            ]
          },
          "execution_count": 55,
          "metadata": {},
          "output_type": "execute_result"
        }
      ],
      "source": [
        "cars.columns"
      ]
    },
    {
      "cell_type": "code",
      "execution_count": null,
      "metadata": {
        "colab": {
          "base_uri": "https://localhost:8080/"
        },
        "id": "NOyX3maVlaZy",
        "outputId": "ae0d5058-7650-455d-af86-8293ea92417d"
      },
      "outputs": [
        {
          "data": {
            "text/plain": [
              "np.int64(17)"
            ]
          },
          "execution_count": 56,
          "metadata": {},
          "output_type": "execute_result"
        }
      ],
      "source": [
        "cars[\"bought_cond\"].isnull().sum()"
      ]
    },
    {
      "cell_type": "code",
      "execution_count": null,
      "metadata": {
        "colab": {
          "base_uri": "https://localhost:8080/",
          "height": 458
        },
        "id": "HoRvwtJ3lSZx",
        "outputId": "49bef8ba-1450-43c2-ed83-0ea4987e03fc"
      },
      "outputs": [
        {
          "data": {
            "text/html": [
              "<div>\n",
              "<style scoped>\n",
              "    .dataframe tbody tr th:only-of-type {\n",
              "        vertical-align: middle;\n",
              "    }\n",
              "\n",
              "    .dataframe tbody tr th {\n",
              "        vertical-align: top;\n",
              "    }\n",
              "\n",
              "    .dataframe thead th {\n",
              "        text-align: right;\n",
              "    }\n",
              "</style>\n",
              "<table border=\"1\" class=\"dataframe\">\n",
              "  <thead>\n",
              "    <tr style=\"text-align: right;\">\n",
              "      <th></th>\n",
              "      <th>bought_cond</th>\n",
              "    </tr>\n",
              "  </thead>\n",
              "  <tbody>\n",
              "    <tr>\n",
              "      <th>0</th>\n",
              "      <td>Imported</td>\n",
              "    </tr>\n",
              "    <tr>\n",
              "      <th>1</th>\n",
              "      <td>Registered</td>\n",
              "    </tr>\n",
              "    <tr>\n",
              "      <th>2</th>\n",
              "      <td>Imported</td>\n",
              "    </tr>\n",
              "    <tr>\n",
              "      <th>3</th>\n",
              "      <td>Registered</td>\n",
              "    </tr>\n",
              "    <tr>\n",
              "      <th>4</th>\n",
              "      <td>Imported</td>\n",
              "    </tr>\n",
              "    <tr>\n",
              "      <th>...</th>\n",
              "      <td>...</td>\n",
              "    </tr>\n",
              "    <tr>\n",
              "      <th>2889</th>\n",
              "      <td>Imported</td>\n",
              "    </tr>\n",
              "    <tr>\n",
              "      <th>2890</th>\n",
              "      <td>Imported</td>\n",
              "    </tr>\n",
              "    <tr>\n",
              "      <th>2891</th>\n",
              "      <td>Imported</td>\n",
              "    </tr>\n",
              "    <tr>\n",
              "      <th>2892</th>\n",
              "      <td>Imported</td>\n",
              "    </tr>\n",
              "    <tr>\n",
              "      <th>2893</th>\n",
              "      <td>Imported</td>\n",
              "    </tr>\n",
              "  </tbody>\n",
              "</table>\n",
              "<p>2894 rows × 1 columns</p>\n",
              "</div><br><label><b>dtype:</b> object</label>"
            ],
            "text/plain": [
              "0         Imported\n",
              "1       Registered\n",
              "2         Imported\n",
              "3       Registered\n",
              "4         Imported\n",
              "           ...    \n",
              "2889      Imported\n",
              "2890      Imported\n",
              "2891      Imported\n",
              "2892      Imported\n",
              "2893      Imported\n",
              "Name: bought_cond, Length: 2894, dtype: object"
            ]
          },
          "execution_count": 57,
          "metadata": {},
          "output_type": "execute_result"
        }
      ],
      "source": [
        "cars[\"bought_cond\"]\n"
      ]
    },
    {
      "cell_type": "code",
      "execution_count": null,
      "metadata": {
        "colab": {
          "base_uri": "https://localhost:8080/",
          "height": 209
        },
        "id": "Z2CjA7-IpzbJ",
        "outputId": "1bbe212f-d6a5-4ab8-d74f-fc33b0c89803"
      },
      "outputs": [
        {
          "data": {
            "text/html": [
              "<div>\n",
              "<style scoped>\n",
              "    .dataframe tbody tr th:only-of-type {\n",
              "        vertical-align: middle;\n",
              "    }\n",
              "\n",
              "    .dataframe tbody tr th {\n",
              "        vertical-align: top;\n",
              "    }\n",
              "\n",
              "    .dataframe thead th {\n",
              "        text-align: right;\n",
              "    }\n",
              "</style>\n",
              "<table border=\"1\" class=\"dataframe\">\n",
              "  <thead>\n",
              "    <tr style=\"text-align: right;\">\n",
              "      <th></th>\n",
              "      <th>count</th>\n",
              "    </tr>\n",
              "    <tr>\n",
              "      <th>bought_cond</th>\n",
              "      <th></th>\n",
              "    </tr>\n",
              "  </thead>\n",
              "  <tbody>\n",
              "    <tr>\n",
              "      <th>Imported</th>\n",
              "      <td>1493</td>\n",
              "    </tr>\n",
              "    <tr>\n",
              "      <th>Registered</th>\n",
              "      <td>1300</td>\n",
              "    </tr>\n",
              "    <tr>\n",
              "      <th>Brand new</th>\n",
              "      <td>84</td>\n",
              "    </tr>\n",
              "  </tbody>\n",
              "</table>\n",
              "</div><br><label><b>dtype:</b> int64</label>"
            ],
            "text/plain": [
              "bought_cond\n",
              "Imported      1493\n",
              "Registered    1300\n",
              "Brand new       84\n",
              "Name: count, dtype: int64"
            ]
          },
          "execution_count": 58,
          "metadata": {},
          "output_type": "execute_result"
        }
      ],
      "source": [
        "cars[\"bought_cond\"].value_counts()"
      ]
    },
    {
      "cell_type": "code",
      "execution_count": null,
      "metadata": {
        "id": "jbf08a2fqGdU"
      },
      "outputs": [],
      "source": [
        "cars.fillna({\"bought_cond\": \"Imported\"}, inplace=True)"
      ]
    },
    {
      "cell_type": "code",
      "execution_count": null,
      "metadata": {
        "colab": {
          "base_uri": "https://localhost:8080/"
        },
        "id": "uOkRFIA3qp3B",
        "outputId": "9db4f6f8-83a8-475a-e1d0-777839865d24"
      },
      "outputs": [
        {
          "data": {
            "text/plain": [
              "np.int64(0)"
            ]
          },
          "execution_count": 60,
          "metadata": {},
          "output_type": "execute_result"
        }
      ],
      "source": [
        "cars[\"bought_cond\"].isnull().sum()"
      ]
    },
    {
      "cell_type": "code",
      "execution_count": null,
      "metadata": {
        "colab": {
          "base_uri": "https://localhost:8080/"
        },
        "id": "vVFZ5XUGq3AL",
        "outputId": "82773a0b-9414-475d-b8d5-2f9421e70c49"
      },
      "outputs": [
        {
          "data": {
            "text/plain": [
              "np.int64(2500)"
            ]
          },
          "execution_count": 61,
          "metadata": {},
          "output_type": "execute_result"
        }
      ],
      "source": [
        "cars[\"trim\"].isnull().sum()"
      ]
    },
    {
      "cell_type": "code",
      "execution_count": null,
      "metadata": {
        "colab": {
          "base_uri": "https://localhost:8080/",
          "height": 458
        },
        "id": "qS3KptqerA-G",
        "outputId": "709aa56d-6fbc-487a-ca59-2bd4cc6b7d98"
      },
      "outputs": [
        {
          "data": {
            "text/html": [
              "<div>\n",
              "<style scoped>\n",
              "    .dataframe tbody tr th:only-of-type {\n",
              "        vertical-align: middle;\n",
              "    }\n",
              "\n",
              "    .dataframe tbody tr th {\n",
              "        vertical-align: top;\n",
              "    }\n",
              "\n",
              "    .dataframe thead th {\n",
              "        text-align: right;\n",
              "    }\n",
              "</style>\n",
              "<table border=\"1\" class=\"dataframe\">\n",
              "  <thead>\n",
              "    <tr style=\"text-align: right;\">\n",
              "      <th></th>\n",
              "      <th>trim</th>\n",
              "    </tr>\n",
              "  </thead>\n",
              "  <tbody>\n",
              "    <tr>\n",
              "      <th>0</th>\n",
              "      <td>350 FWD</td>\n",
              "    </tr>\n",
              "    <tr>\n",
              "      <th>1</th>\n",
              "      <td>NaN</td>\n",
              "    </tr>\n",
              "    <tr>\n",
              "      <th>2</th>\n",
              "      <td>NaN</td>\n",
              "    </tr>\n",
              "    <tr>\n",
              "      <th>3</th>\n",
              "      <td>NaN</td>\n",
              "    </tr>\n",
              "    <tr>\n",
              "      <th>4</th>\n",
              "      <td>NaN</td>\n",
              "    </tr>\n",
              "    <tr>\n",
              "      <th>...</th>\n",
              "      <td>...</td>\n",
              "    </tr>\n",
              "    <tr>\n",
              "      <th>2889</th>\n",
              "      <td>NaN</td>\n",
              "    </tr>\n",
              "    <tr>\n",
              "      <th>2890</th>\n",
              "      <td>NaN</td>\n",
              "    </tr>\n",
              "    <tr>\n",
              "      <th>2891</th>\n",
              "      <td>NaN</td>\n",
              "    </tr>\n",
              "    <tr>\n",
              "      <th>2892</th>\n",
              "      <td>NaN</td>\n",
              "    </tr>\n",
              "    <tr>\n",
              "      <th>2893</th>\n",
              "      <td>Sedan</td>\n",
              "    </tr>\n",
              "  </tbody>\n",
              "</table>\n",
              "<p>2894 rows × 1 columns</p>\n",
              "</div><br><label><b>dtype:</b> object</label>"
            ],
            "text/plain": [
              "0       350 FWD\n",
              "1           NaN\n",
              "2           NaN\n",
              "3           NaN\n",
              "4           NaN\n",
              "         ...   \n",
              "2889        NaN\n",
              "2890        NaN\n",
              "2891        NaN\n",
              "2892        NaN\n",
              "2893      Sedan\n",
              "Name: trim, Length: 2894, dtype: object"
            ]
          },
          "execution_count": 62,
          "metadata": {},
          "output_type": "execute_result"
        }
      ],
      "source": [
        "cars[\"trim\"]"
      ]
    },
    {
      "cell_type": "code",
      "execution_count": null,
      "metadata": {
        "colab": {
          "base_uri": "https://localhost:8080/",
          "height": 489
        },
        "id": "Qsfcxf1IrG_4",
        "outputId": "db31c85c-4334-44c9-90c1-7e397297342a"
      },
      "outputs": [
        {
          "data": {
            "text/html": [
              "<div>\n",
              "<style scoped>\n",
              "    .dataframe tbody tr th:only-of-type {\n",
              "        vertical-align: middle;\n",
              "    }\n",
              "\n",
              "    .dataframe tbody tr th {\n",
              "        vertical-align: top;\n",
              "    }\n",
              "\n",
              "    .dataframe thead th {\n",
              "        text-align: right;\n",
              "    }\n",
              "</style>\n",
              "<table border=\"1\" class=\"dataframe\">\n",
              "  <thead>\n",
              "    <tr style=\"text-align: right;\">\n",
              "      <th></th>\n",
              "      <th>count</th>\n",
              "    </tr>\n",
              "    <tr>\n",
              "      <th>trim</th>\n",
              "      <th></th>\n",
              "    </tr>\n",
              "  </thead>\n",
              "  <tbody>\n",
              "    <tr>\n",
              "      <th>350</th>\n",
              "      <td>13</td>\n",
              "    </tr>\n",
              "    <tr>\n",
              "      <th>Limited</th>\n",
              "      <td>9</td>\n",
              "    </tr>\n",
              "    <tr>\n",
              "      <th>LE 4dr Sedan (2.4L 4cyl 5A)</th>\n",
              "      <td>7</td>\n",
              "    </tr>\n",
              "    <tr>\n",
              "      <th>ML 350 4Matic</th>\n",
              "      <td>6</td>\n",
              "    </tr>\n",
              "    <tr>\n",
              "      <th>LE</th>\n",
              "      <td>6</td>\n",
              "    </tr>\n",
              "    <tr>\n",
              "      <th>...</th>\n",
              "      <td>...</td>\n",
              "    </tr>\n",
              "    <tr>\n",
              "      <th>5.7 V8 Hemi</th>\n",
              "      <td>1</td>\n",
              "    </tr>\n",
              "    <tr>\n",
              "      <th>SR5 Access Cab 4x4</th>\n",
              "      <td>1</td>\n",
              "    </tr>\n",
              "    <tr>\n",
              "      <th>R/T</th>\n",
              "      <td>1</td>\n",
              "    </tr>\n",
              "    <tr>\n",
              "      <th>1.8 VVTi</th>\n",
              "      <td>1</td>\n",
              "    </tr>\n",
              "    <tr>\n",
              "      <th>2.9</th>\n",
              "      <td>1</td>\n",
              "    </tr>\n",
              "  </tbody>\n",
              "</table>\n",
              "<p>261 rows × 1 columns</p>\n",
              "</div><br><label><b>dtype:</b> int64</label>"
            ],
            "text/plain": [
              "trim\n",
              "350                            13\n",
              "Limited                         9\n",
              "LE 4dr Sedan (2.4L 4cyl 5A)     7\n",
              "ML 350 4Matic                   6\n",
              "LE                              6\n",
              "                               ..\n",
              "5.7 V8 Hemi                     1\n",
              "SR5 Access Cab 4x4              1\n",
              "R/T                             1\n",
              "1.8 VVTi                        1\n",
              "2.9                             1\n",
              "Name: count, Length: 261, dtype: int64"
            ]
          },
          "execution_count": 63,
          "metadata": {},
          "output_type": "execute_result"
        }
      ],
      "source": [
        "cars[\"trim\"].value_counts()"
      ]
    },
    {
      "cell_type": "code",
      "execution_count": null,
      "metadata": {
        "id": "y0pdH5BlrY__"
      },
      "outputs": [],
      "source": [
        "cars.fillna({\"trim\": 350}, inplace=True)"
      ]
    },
    {
      "cell_type": "code",
      "execution_count": null,
      "metadata": {
        "colab": {
          "base_uri": "https://localhost:8080/"
        },
        "id": "HOJPxpxssAtD",
        "outputId": "08163397-1bdb-4bf2-9557-41d22171b513"
      },
      "outputs": [
        {
          "data": {
            "text/plain": [
              "np.int64(0)"
            ]
          },
          "execution_count": 65,
          "metadata": {},
          "output_type": "execute_result"
        }
      ],
      "source": [
        "cars[\"trim\"].isnull().sum()"
      ]
    },
    {
      "cell_type": "code",
      "execution_count": null,
      "metadata": {
        "colab": {
          "base_uri": "https://localhost:8080/"
        },
        "id": "ane4OwnrsQG9",
        "outputId": "cdc2057f-63cd-48ce-f1f9-06a8552d806d"
      },
      "outputs": [
        {
          "data": {
            "text/plain": [
              "Index(['car_id', 'description', 'amount', 'region', 'make', 'model',\n",
              "       'year_of_man', 'color', 'condition', 'mileage', 'engine_size',\n",
              "       'selling_cond', 'bought_cond', 'trim', 'drive_train', 'reg_city',\n",
              "       'seat', 'num_cylinder', 'horse_power', 'body_build', 'fuel_type',\n",
              "       'transmission'],\n",
              "      dtype='object')"
            ]
          },
          "execution_count": 66,
          "metadata": {},
          "output_type": "execute_result"
        }
      ],
      "source": [
        "cars.columns"
      ]
    },
    {
      "cell_type": "code",
      "execution_count": null,
      "metadata": {
        "colab": {
          "base_uri": "https://localhost:8080/"
        },
        "id": "gW0ACsPcsTQu",
        "outputId": "077ba760-517b-4b6c-882d-c1fcc1d99064"
      },
      "outputs": [
        {
          "data": {
            "text/plain": [
              "np.int64(2533)"
            ]
          },
          "execution_count": 67,
          "metadata": {},
          "output_type": "execute_result"
        }
      ],
      "source": [
        "cars[\"drive_train\"].isnull().sum()"
      ]
    },
    {
      "cell_type": "code",
      "execution_count": null,
      "metadata": {
        "colab": {
          "base_uri": "https://localhost:8080/",
          "height": 303
        },
        "id": "V3SNSFkZsawr",
        "outputId": "d755a572-b6dd-4fd5-ff35-8800775128f4"
      },
      "outputs": [
        {
          "data": {
            "text/html": [
              "<div>\n",
              "<style scoped>\n",
              "    .dataframe tbody tr th:only-of-type {\n",
              "        vertical-align: middle;\n",
              "    }\n",
              "\n",
              "    .dataframe tbody tr th {\n",
              "        vertical-align: top;\n",
              "    }\n",
              "\n",
              "    .dataframe thead th {\n",
              "        text-align: right;\n",
              "    }\n",
              "</style>\n",
              "<table border=\"1\" class=\"dataframe\">\n",
              "  <thead>\n",
              "    <tr style=\"text-align: right;\">\n",
              "      <th></th>\n",
              "      <th>count</th>\n",
              "    </tr>\n",
              "    <tr>\n",
              "      <th>drive_train</th>\n",
              "      <th></th>\n",
              "    </tr>\n",
              "  </thead>\n",
              "  <tbody>\n",
              "    <tr>\n",
              "      <th>All Wheel</th>\n",
              "      <td>134</td>\n",
              "    </tr>\n",
              "    <tr>\n",
              "      <th>Front Wheel</th>\n",
              "      <td>114</td>\n",
              "    </tr>\n",
              "    <tr>\n",
              "      <th>Front</th>\n",
              "      <td>85</td>\n",
              "    </tr>\n",
              "    <tr>\n",
              "      <th>Rear Wheel</th>\n",
              "      <td>21</td>\n",
              "    </tr>\n",
              "    <tr>\n",
              "      <th>4x4</th>\n",
              "      <td>6</td>\n",
              "    </tr>\n",
              "    <tr>\n",
              "      <th>4x2</th>\n",
              "      <td>1</td>\n",
              "    </tr>\n",
              "  </tbody>\n",
              "</table>\n",
              "</div><br><label><b>dtype:</b> int64</label>"
            ],
            "text/plain": [
              "drive_train\n",
              "All Wheel      134\n",
              "Front Wheel    114\n",
              "Front           85\n",
              "Rear Wheel      21\n",
              "4x4              6\n",
              "4x2              1\n",
              "Name: count, dtype: int64"
            ]
          },
          "execution_count": 68,
          "metadata": {},
          "output_type": "execute_result"
        }
      ],
      "source": [
        "cars[\"drive_train\"].value_counts()"
      ]
    },
    {
      "cell_type": "code",
      "execution_count": null,
      "metadata": {
        "colab": {
          "base_uri": "https://localhost:8080/",
          "height": 458
        },
        "id": "9mrvUceitlQR",
        "outputId": "1b818d44-abb0-4e7b-f89e-35727ed71009"
      },
      "outputs": [
        {
          "data": {
            "text/html": [
              "<div>\n",
              "<style scoped>\n",
              "    .dataframe tbody tr th:only-of-type {\n",
              "        vertical-align: middle;\n",
              "    }\n",
              "\n",
              "    .dataframe tbody tr th {\n",
              "        vertical-align: top;\n",
              "    }\n",
              "\n",
              "    .dataframe thead th {\n",
              "        text-align: right;\n",
              "    }\n",
              "</style>\n",
              "<table border=\"1\" class=\"dataframe\">\n",
              "  <thead>\n",
              "    <tr style=\"text-align: right;\">\n",
              "      <th></th>\n",
              "      <th>drive_train</th>\n",
              "    </tr>\n",
              "  </thead>\n",
              "  <tbody>\n",
              "    <tr>\n",
              "      <th>0</th>\n",
              "      <td>Front Wheel</td>\n",
              "    </tr>\n",
              "    <tr>\n",
              "      <th>1</th>\n",
              "      <td>NaN</td>\n",
              "    </tr>\n",
              "    <tr>\n",
              "      <th>2</th>\n",
              "      <td>NaN</td>\n",
              "    </tr>\n",
              "    <tr>\n",
              "      <th>3</th>\n",
              "      <td>NaN</td>\n",
              "    </tr>\n",
              "    <tr>\n",
              "      <th>4</th>\n",
              "      <td>NaN</td>\n",
              "    </tr>\n",
              "    <tr>\n",
              "      <th>...</th>\n",
              "      <td>...</td>\n",
              "    </tr>\n",
              "    <tr>\n",
              "      <th>2889</th>\n",
              "      <td>NaN</td>\n",
              "    </tr>\n",
              "    <tr>\n",
              "      <th>2890</th>\n",
              "      <td>NaN</td>\n",
              "    </tr>\n",
              "    <tr>\n",
              "      <th>2891</th>\n",
              "      <td>NaN</td>\n",
              "    </tr>\n",
              "    <tr>\n",
              "      <th>2892</th>\n",
              "      <td>NaN</td>\n",
              "    </tr>\n",
              "    <tr>\n",
              "      <th>2893</th>\n",
              "      <td>Front</td>\n",
              "    </tr>\n",
              "  </tbody>\n",
              "</table>\n",
              "<p>2894 rows × 1 columns</p>\n",
              "</div><br><label><b>dtype:</b> object</label>"
            ],
            "text/plain": [
              "0       Front Wheel\n",
              "1               NaN\n",
              "2               NaN\n",
              "3               NaN\n",
              "4               NaN\n",
              "           ...     \n",
              "2889            NaN\n",
              "2890            NaN\n",
              "2891            NaN\n",
              "2892            NaN\n",
              "2893          Front\n",
              "Name: drive_train, Length: 2894, dtype: object"
            ]
          },
          "execution_count": 69,
          "metadata": {},
          "output_type": "execute_result"
        }
      ],
      "source": [
        "cars[\"drive_train\"]"
      ]
    },
    {
      "cell_type": "code",
      "execution_count": null,
      "metadata": {
        "id": "AV5ntQnat8V2"
      },
      "outputs": [],
      "source": [
        "cars.fillna({\"drive_train\": \"All Wheel\"}, inplace=True)"
      ]
    },
    {
      "cell_type": "code",
      "execution_count": null,
      "metadata": {
        "colab": {
          "base_uri": "https://localhost:8080/",
          "height": 458
        },
        "id": "Mwa86_zbudYI",
        "outputId": "29dd2ba2-91f2-456f-9e38-818812a6aac8"
      },
      "outputs": [
        {
          "data": {
            "text/html": [
              "<div>\n",
              "<style scoped>\n",
              "    .dataframe tbody tr th:only-of-type {\n",
              "        vertical-align: middle;\n",
              "    }\n",
              "\n",
              "    .dataframe tbody tr th {\n",
              "        vertical-align: top;\n",
              "    }\n",
              "\n",
              "    .dataframe thead th {\n",
              "        text-align: right;\n",
              "    }\n",
              "</style>\n",
              "<table border=\"1\" class=\"dataframe\">\n",
              "  <thead>\n",
              "    <tr style=\"text-align: right;\">\n",
              "      <th></th>\n",
              "      <th>drive_train</th>\n",
              "    </tr>\n",
              "  </thead>\n",
              "  <tbody>\n",
              "    <tr>\n",
              "      <th>0</th>\n",
              "      <td>Front Wheel</td>\n",
              "    </tr>\n",
              "    <tr>\n",
              "      <th>1</th>\n",
              "      <td>All Wheel</td>\n",
              "    </tr>\n",
              "    <tr>\n",
              "      <th>2</th>\n",
              "      <td>All Wheel</td>\n",
              "    </tr>\n",
              "    <tr>\n",
              "      <th>3</th>\n",
              "      <td>All Wheel</td>\n",
              "    </tr>\n",
              "    <tr>\n",
              "      <th>4</th>\n",
              "      <td>All Wheel</td>\n",
              "    </tr>\n",
              "    <tr>\n",
              "      <th>...</th>\n",
              "      <td>...</td>\n",
              "    </tr>\n",
              "    <tr>\n",
              "      <th>2889</th>\n",
              "      <td>All Wheel</td>\n",
              "    </tr>\n",
              "    <tr>\n",
              "      <th>2890</th>\n",
              "      <td>All Wheel</td>\n",
              "    </tr>\n",
              "    <tr>\n",
              "      <th>2891</th>\n",
              "      <td>All Wheel</td>\n",
              "    </tr>\n",
              "    <tr>\n",
              "      <th>2892</th>\n",
              "      <td>All Wheel</td>\n",
              "    </tr>\n",
              "    <tr>\n",
              "      <th>2893</th>\n",
              "      <td>Front</td>\n",
              "    </tr>\n",
              "  </tbody>\n",
              "</table>\n",
              "<p>2894 rows × 1 columns</p>\n",
              "</div><br><label><b>dtype:</b> object</label>"
            ],
            "text/plain": [
              "0       Front Wheel\n",
              "1         All Wheel\n",
              "2         All Wheel\n",
              "3         All Wheel\n",
              "4         All Wheel\n",
              "           ...     \n",
              "2889      All Wheel\n",
              "2890      All Wheel\n",
              "2891      All Wheel\n",
              "2892      All Wheel\n",
              "2893          Front\n",
              "Name: drive_train, Length: 2894, dtype: object"
            ]
          },
          "execution_count": 71,
          "metadata": {},
          "output_type": "execute_result"
        }
      ],
      "source": [
        "cars[\"drive_train\"]"
      ]
    },
    {
      "cell_type": "code",
      "execution_count": null,
      "metadata": {
        "colab": {
          "base_uri": "https://localhost:8080/"
        },
        "id": "guZvAk3pulAN",
        "outputId": "4996106a-153c-4f3d-c968-49a9d4e629a6"
      },
      "outputs": [
        {
          "data": {
            "text/plain": [
              "np.int64(1225)"
            ]
          },
          "execution_count": 72,
          "metadata": {},
          "output_type": "execute_result"
        }
      ],
      "source": [
        "cars[\"reg_city\"].isnull().sum()"
      ]
    },
    {
      "cell_type": "code",
      "execution_count": null,
      "metadata": {
        "colab": {
          "background_save": true,
          "base_uri": "https://localhost:8080/",
          "height": 458
        },
        "id": "bc0oDVD6vP3Y",
        "outputId": "fc3bcc3d-3b1c-4105-c679-52d79bdcad32"
      },
      "outputs": [
        {
          "data": {
            "text/html": [
              "<div>\n",
              "<style scoped>\n",
              "    .dataframe tbody tr th:only-of-type {\n",
              "        vertical-align: middle;\n",
              "    }\n",
              "\n",
              "    .dataframe tbody tr th {\n",
              "        vertical-align: top;\n",
              "    }\n",
              "\n",
              "    .dataframe thead th {\n",
              "        text-align: right;\n",
              "    }\n",
              "</style>\n",
              "<table border=\"1\" class=\"dataframe\">\n",
              "  <thead>\n",
              "    <tr style=\"text-align: right;\">\n",
              "      <th></th>\n",
              "      <th>reg_city</th>\n",
              "    </tr>\n",
              "  </thead>\n",
              "  <tbody>\n",
              "    <tr>\n",
              "      <th>0</th>\n",
              "      <td>NaN</td>\n",
              "    </tr>\n",
              "    <tr>\n",
              "      <th>1</th>\n",
              "      <td>NaN</td>\n",
              "    </tr>\n",
              "    <tr>\n",
              "      <th>2</th>\n",
              "      <td>NaN</td>\n",
              "    </tr>\n",
              "    <tr>\n",
              "      <th>3</th>\n",
              "      <td>ABUJA</td>\n",
              "    </tr>\n",
              "    <tr>\n",
              "      <th>4</th>\n",
              "      <td>ABUJA</td>\n",
              "    </tr>\n",
              "    <tr>\n",
              "      <th>...</th>\n",
              "      <td>...</td>\n",
              "    </tr>\n",
              "    <tr>\n",
              "      <th>2889</th>\n",
              "      <td>NaN</td>\n",
              "    </tr>\n",
              "    <tr>\n",
              "      <th>2890</th>\n",
              "      <td>Lagos</td>\n",
              "    </tr>\n",
              "    <tr>\n",
              "      <th>2891</th>\n",
              "      <td>NaN</td>\n",
              "    </tr>\n",
              "    <tr>\n",
              "      <th>2892</th>\n",
              "      <td>NaN</td>\n",
              "    </tr>\n",
              "    <tr>\n",
              "      <th>2893</th>\n",
              "      <td>ABUJA</td>\n",
              "    </tr>\n",
              "  </tbody>\n",
              "</table>\n",
              "<p>2894 rows × 1 columns</p>\n",
              "</div><br><label><b>dtype:</b> object</label>"
            ],
            "text/plain": [
              "0         NaN\n",
              "1         NaN\n",
              "2         NaN\n",
              "3       ABUJA\n",
              "4       ABUJA\n",
              "        ...  \n",
              "2889      NaN\n",
              "2890    Lagos\n",
              "2891      NaN\n",
              "2892      NaN\n",
              "2893    ABUJA\n",
              "Name: reg_city, Length: 2894, dtype: object"
            ]
          },
          "execution_count": 73,
          "metadata": {},
          "output_type": "execute_result"
        }
      ],
      "source": [
        "cars[\"reg_city\"]"
      ]
    },
    {
      "cell_type": "code",
      "execution_count": null,
      "metadata": {
        "colab": {
          "background_save": true,
          "base_uri": "https://localhost:8080/",
          "height": 489
        },
        "id": "h17Szyl2v6bg",
        "outputId": "8610faec-ed5f-40b9-9555-2547896a6235"
      },
      "outputs": [
        {
          "data": {
            "text/html": [
              "<div>\n",
              "<style scoped>\n",
              "    .dataframe tbody tr th:only-of-type {\n",
              "        vertical-align: middle;\n",
              "    }\n",
              "\n",
              "    .dataframe tbody tr th {\n",
              "        vertical-align: top;\n",
              "    }\n",
              "\n",
              "    .dataframe thead th {\n",
              "        text-align: right;\n",
              "    }\n",
              "</style>\n",
              "<table border=\"1\" class=\"dataframe\">\n",
              "  <thead>\n",
              "    <tr style=\"text-align: right;\">\n",
              "      <th></th>\n",
              "      <th>count</th>\n",
              "    </tr>\n",
              "    <tr>\n",
              "      <th>reg_city</th>\n",
              "      <th></th>\n",
              "    </tr>\n",
              "  </thead>\n",
              "  <tbody>\n",
              "    <tr>\n",
              "      <th>LAGOS</th>\n",
              "      <td>631</td>\n",
              "    </tr>\n",
              "    <tr>\n",
              "      <th>Lagos</th>\n",
              "      <td>353</td>\n",
              "    </tr>\n",
              "    <tr>\n",
              "      <th>ABUJA</th>\n",
              "      <td>190</td>\n",
              "    </tr>\n",
              "    <tr>\n",
              "      <th>Abuja</th>\n",
              "      <td>184</td>\n",
              "    </tr>\n",
              "    <tr>\n",
              "      <th>EDO</th>\n",
              "      <td>21</td>\n",
              "    </tr>\n",
              "    <tr>\n",
              "      <th>...</th>\n",
              "      <td>...</td>\n",
              "    </tr>\n",
              "    <tr>\n",
              "      <th>EKITI</th>\n",
              "      <td>1</td>\n",
              "    </tr>\n",
              "    <tr>\n",
              "      <th>Borno</th>\n",
              "      <td>1</td>\n",
              "    </tr>\n",
              "    <tr>\n",
              "      <th>Imo</th>\n",
              "      <td>1</td>\n",
              "    </tr>\n",
              "    <tr>\n",
              "      <th>Anambra</th>\n",
              "      <td>1</td>\n",
              "    </tr>\n",
              "    <tr>\n",
              "      <th>RIVERS STATE</th>\n",
              "      <td>1</td>\n",
              "    </tr>\n",
              "  </tbody>\n",
              "</table>\n",
              "<p>86 rows × 1 columns</p>\n",
              "</div><br><label><b>dtype:</b> int64</label>"
            ],
            "text/plain": [
              "reg_city\n",
              "LAGOS           631\n",
              "Lagos           353\n",
              "ABUJA           190\n",
              "Abuja           184\n",
              "EDO              21\n",
              "               ... \n",
              "EKITI             1\n",
              "Borno             1\n",
              "Imo               1\n",
              "Anambra           1\n",
              "RIVERS STATE      1\n",
              "Name: count, Length: 86, dtype: int64"
            ]
          },
          "execution_count": 74,
          "metadata": {},
          "output_type": "execute_result"
        }
      ],
      "source": [
        "cars[\"reg_city\"].value_counts()"
      ]
    },
    {
      "cell_type": "code",
      "execution_count": null,
      "metadata": {
        "colab": {
          "background_save": true
        },
        "id": "yqqToCmTwFwO"
      },
      "outputs": [],
      "source": [
        "cars.fillna({\"reg_city\": \"LAGOS\"}, inplace=True)"
      ]
    },
    {
      "cell_type": "code",
      "execution_count": null,
      "metadata": {
        "colab": {
          "background_save": true,
          "base_uri": "https://localhost:8080/"
        },
        "id": "yGiMTHYvwpyI",
        "outputId": "2e2d25d1-b032-4865-ec2d-b46999bf2d59"
      },
      "outputs": [
        {
          "data": {
            "text/plain": [
              "Index(['car_id', 'description', 'amount', 'region', 'make', 'model',\n",
              "       'year_of_man', 'color', 'condition', 'mileage', 'engine_size',\n",
              "       'selling_cond', 'bought_cond', 'trim', 'drive_train', 'reg_city',\n",
              "       'seat', 'num_cylinder', 'horse_power', 'body_build', 'fuel_type',\n",
              "       'transmission'],\n",
              "      dtype='object')"
            ]
          },
          "execution_count": 76,
          "metadata": {},
          "output_type": "execute_result"
        }
      ],
      "source": [
        "cars.columns"
      ]
    },
    {
      "cell_type": "code",
      "execution_count": null,
      "metadata": {
        "colab": {
          "background_save": true,
          "base_uri": "https://localhost:8080/"
        },
        "id": "Oo7FQygdxC0K",
        "outputId": "23923d9b-f0ea-4d43-b7a7-6c4aabfd8d2f"
      },
      "outputs": [
        {
          "data": {
            "text/plain": [
              "np.int64(2549)"
            ]
          },
          "execution_count": 77,
          "metadata": {},
          "output_type": "execute_result"
        }
      ],
      "source": [
        "cars[\"seat\"].isnull().sum()"
      ]
    },
    {
      "cell_type": "code",
      "execution_count": null,
      "metadata": {
        "colab": {
          "background_save": true,
          "base_uri": "https://localhost:8080/",
          "height": 458
        },
        "id": "-zBQLlrQxRoB",
        "outputId": "18eb1c6b-a692-4920-8bac-68fdb96fb745"
      },
      "outputs": [
        {
          "data": {
            "text/html": [
              "<div>\n",
              "<style scoped>\n",
              "    .dataframe tbody tr th:only-of-type {\n",
              "        vertical-align: middle;\n",
              "    }\n",
              "\n",
              "    .dataframe tbody tr th {\n",
              "        vertical-align: top;\n",
              "    }\n",
              "\n",
              "    .dataframe thead th {\n",
              "        text-align: right;\n",
              "    }\n",
              "</style>\n",
              "<table border=\"1\" class=\"dataframe\">\n",
              "  <thead>\n",
              "    <tr style=\"text-align: right;\">\n",
              "      <th></th>\n",
              "      <th>seat</th>\n",
              "    </tr>\n",
              "  </thead>\n",
              "  <tbody>\n",
              "    <tr>\n",
              "      <th>0</th>\n",
              "      <td>5</td>\n",
              "    </tr>\n",
              "    <tr>\n",
              "      <th>1</th>\n",
              "      <td>NaN</td>\n",
              "    </tr>\n",
              "    <tr>\n",
              "      <th>2</th>\n",
              "      <td>NaN</td>\n",
              "    </tr>\n",
              "    <tr>\n",
              "      <th>3</th>\n",
              "      <td>NaN</td>\n",
              "    </tr>\n",
              "    <tr>\n",
              "      <th>4</th>\n",
              "      <td>NaN</td>\n",
              "    </tr>\n",
              "    <tr>\n",
              "      <th>...</th>\n",
              "      <td>...</td>\n",
              "    </tr>\n",
              "    <tr>\n",
              "      <th>2889</th>\n",
              "      <td>NaN</td>\n",
              "    </tr>\n",
              "    <tr>\n",
              "      <th>2890</th>\n",
              "      <td>NaN</td>\n",
              "    </tr>\n",
              "    <tr>\n",
              "      <th>2891</th>\n",
              "      <td>NaN</td>\n",
              "    </tr>\n",
              "    <tr>\n",
              "      <th>2892</th>\n",
              "      <td>NaN</td>\n",
              "    </tr>\n",
              "    <tr>\n",
              "      <th>2893</th>\n",
              "      <td>5</td>\n",
              "    </tr>\n",
              "  </tbody>\n",
              "</table>\n",
              "<p>2894 rows × 1 columns</p>\n",
              "</div><br><label><b>dtype:</b> object</label>"
            ],
            "text/plain": [
              "0         5\n",
              "1       NaN\n",
              "2       NaN\n",
              "3       NaN\n",
              "4       NaN\n",
              "       ... \n",
              "2889    NaN\n",
              "2890    NaN\n",
              "2891    NaN\n",
              "2892    NaN\n",
              "2893      5\n",
              "Name: seat, Length: 2894, dtype: object"
            ]
          },
          "execution_count": 78,
          "metadata": {},
          "output_type": "execute_result"
        }
      ],
      "source": [
        "cars[\"seat\"]"
      ]
    },
    {
      "cell_type": "code",
      "execution_count": null,
      "metadata": {
        "colab": {
          "background_save": true,
          "base_uri": "https://localhost:8080/",
          "height": 397
        },
        "id": "fJbiekQYxWKN",
        "outputId": "79584a80-6a91-45e2-a699-f9b724e26d67"
      },
      "outputs": [
        {
          "data": {
            "text/html": [
              "<div>\n",
              "<style scoped>\n",
              "    .dataframe tbody tr th:only-of-type {\n",
              "        vertical-align: middle;\n",
              "    }\n",
              "\n",
              "    .dataframe tbody tr th {\n",
              "        vertical-align: top;\n",
              "    }\n",
              "\n",
              "    .dataframe thead th {\n",
              "        text-align: right;\n",
              "    }\n",
              "</style>\n",
              "<table border=\"1\" class=\"dataframe\">\n",
              "  <thead>\n",
              "    <tr style=\"text-align: right;\">\n",
              "      <th></th>\n",
              "      <th>count</th>\n",
              "    </tr>\n",
              "    <tr>\n",
              "      <th>seat</th>\n",
              "      <th></th>\n",
              "    </tr>\n",
              "  </thead>\n",
              "  <tbody>\n",
              "    <tr>\n",
              "      <th>5</th>\n",
              "      <td>264</td>\n",
              "    </tr>\n",
              "    <tr>\n",
              "      <th>7</th>\n",
              "      <td>56</td>\n",
              "    </tr>\n",
              "    <tr>\n",
              "      <th>8</th>\n",
              "      <td>12</td>\n",
              "    </tr>\n",
              "    <tr>\n",
              "      <th>4</th>\n",
              "      <td>5</td>\n",
              "    </tr>\n",
              "    <tr>\n",
              "      <th>6</th>\n",
              "      <td>3</td>\n",
              "    </tr>\n",
              "    <tr>\n",
              "      <th>3</th>\n",
              "      <td>2</td>\n",
              "    </tr>\n",
              "    <tr>\n",
              "      <th>2</th>\n",
              "      <td>1</td>\n",
              "    </tr>\n",
              "    <tr>\n",
              "      <th>5 or 7</th>\n",
              "      <td>1</td>\n",
              "    </tr>\n",
              "    <tr>\n",
              "      <th>7 or 8</th>\n",
              "      <td>1</td>\n",
              "    </tr>\n",
              "  </tbody>\n",
              "</table>\n",
              "</div><br><label><b>dtype:</b> int64</label>"
            ],
            "text/plain": [
              "seat\n",
              "5         264\n",
              "7          56\n",
              "8          12\n",
              "4           5\n",
              "6           3\n",
              "3           2\n",
              "2           1\n",
              "5 or 7      1\n",
              "7 or 8      1\n",
              "Name: count, dtype: int64"
            ]
          },
          "execution_count": 79,
          "metadata": {},
          "output_type": "execute_result"
        }
      ],
      "source": [
        "cars[\"seat\"].value_counts()"
      ]
    },
    {
      "cell_type": "code",
      "execution_count": null,
      "metadata": {
        "colab": {
          "background_save": true
        },
        "id": "DdgtvTVyxkfF"
      },
      "outputs": [],
      "source": [
        "cars.fillna({\"seat\": \"5\"}, inplace=True)"
      ]
    },
    {
      "cell_type": "code",
      "execution_count": null,
      "metadata": {
        "colab": {
          "background_save": true,
          "base_uri": "https://localhost:8080/"
        },
        "id": "P0dqEoTRxxmu",
        "outputId": "5c602243-0194-4775-9937-50f5000461db"
      },
      "outputs": [
        {
          "data": {
            "text/plain": [
              "Index(['car_id', 'description', 'amount', 'region', 'make', 'model',\n",
              "       'year_of_man', 'color', 'condition', 'mileage', 'engine_size',\n",
              "       'selling_cond', 'bought_cond', 'trim', 'drive_train', 'reg_city',\n",
              "       'seat', 'num_cylinder', 'horse_power', 'body_build', 'fuel_type',\n",
              "       'transmission'],\n",
              "      dtype='object')"
            ]
          },
          "execution_count": 81,
          "metadata": {},
          "output_type": "execute_result"
        }
      ],
      "source": [
        "cars.columns"
      ]
    },
    {
      "cell_type": "code",
      "execution_count": null,
      "metadata": {
        "colab": {
          "background_save": true,
          "base_uri": "https://localhost:8080/"
        },
        "id": "CXnruI9mzRnl",
        "outputId": "f946266b-ca86-4c42-ee00-94a023e516b1"
      },
      "outputs": [
        {
          "data": {
            "text/plain": [
              "np.int64(2525)"
            ]
          },
          "execution_count": 82,
          "metadata": {},
          "output_type": "execute_result"
        }
      ],
      "source": [
        "cars[\"num_cylinder\"].isnull().sum()"
      ]
    },
    {
      "cell_type": "code",
      "execution_count": null,
      "metadata": {
        "colab": {
          "background_save": true,
          "base_uri": "https://localhost:8080/",
          "height": 241
        },
        "id": "LIPHUBaRpdPB",
        "outputId": "053ac12e-6ae9-4f6b-8ebc-7052fb8859e4"
      },
      "outputs": [
        {
          "data": {
            "text/html": [
              "<div>\n",
              "<style scoped>\n",
              "    .dataframe tbody tr th:only-of-type {\n",
              "        vertical-align: middle;\n",
              "    }\n",
              "\n",
              "    .dataframe tbody tr th {\n",
              "        vertical-align: top;\n",
              "    }\n",
              "\n",
              "    .dataframe thead th {\n",
              "        text-align: right;\n",
              "    }\n",
              "</style>\n",
              "<table border=\"1\" class=\"dataframe\">\n",
              "  <thead>\n",
              "    <tr style=\"text-align: right;\">\n",
              "      <th></th>\n",
              "      <th>count</th>\n",
              "    </tr>\n",
              "    <tr>\n",
              "      <th>num_cylinder</th>\n",
              "      <th></th>\n",
              "    </tr>\n",
              "  </thead>\n",
              "  <tbody>\n",
              "    <tr>\n",
              "      <th>6.0</th>\n",
              "      <td>179</td>\n",
              "    </tr>\n",
              "    <tr>\n",
              "      <th>4.0</th>\n",
              "      <td>147</td>\n",
              "    </tr>\n",
              "    <tr>\n",
              "      <th>8.0</th>\n",
              "      <td>40</td>\n",
              "    </tr>\n",
              "    <tr>\n",
              "      <th>5.0</th>\n",
              "      <td>3</td>\n",
              "    </tr>\n",
              "  </tbody>\n",
              "</table>\n",
              "</div><br><label><b>dtype:</b> int64</label>"
            ],
            "text/plain": [
              "num_cylinder\n",
              "6.0    179\n",
              "4.0    147\n",
              "8.0     40\n",
              "5.0      3\n",
              "Name: count, dtype: int64"
            ]
          },
          "execution_count": 83,
          "metadata": {},
          "output_type": "execute_result"
        }
      ],
      "source": [
        "cars[\"num_cylinder\"].value_counts()"
      ]
    },
    {
      "cell_type": "code",
      "execution_count": null,
      "metadata": {
        "colab": {
          "background_save": true,
          "base_uri": "https://localhost:8080/",
          "height": 458
        },
        "id": "4m5qtRC1pma4",
        "outputId": "e4036c11-9c7c-4d49-fc88-a6283bf85c89"
      },
      "outputs": [
        {
          "data": {
            "text/html": [
              "<div>\n",
              "<style scoped>\n",
              "    .dataframe tbody tr th:only-of-type {\n",
              "        vertical-align: middle;\n",
              "    }\n",
              "\n",
              "    .dataframe tbody tr th {\n",
              "        vertical-align: top;\n",
              "    }\n",
              "\n",
              "    .dataframe thead th {\n",
              "        text-align: right;\n",
              "    }\n",
              "</style>\n",
              "<table border=\"1\" class=\"dataframe\">\n",
              "  <thead>\n",
              "    <tr style=\"text-align: right;\">\n",
              "      <th></th>\n",
              "      <th>num_cylinder</th>\n",
              "    </tr>\n",
              "  </thead>\n",
              "  <tbody>\n",
              "    <tr>\n",
              "      <th>0</th>\n",
              "      <td>6.0</td>\n",
              "    </tr>\n",
              "    <tr>\n",
              "      <th>1</th>\n",
              "      <td>NaN</td>\n",
              "    </tr>\n",
              "    <tr>\n",
              "      <th>2</th>\n",
              "      <td>NaN</td>\n",
              "    </tr>\n",
              "    <tr>\n",
              "      <th>3</th>\n",
              "      <td>NaN</td>\n",
              "    </tr>\n",
              "    <tr>\n",
              "      <th>4</th>\n",
              "      <td>NaN</td>\n",
              "    </tr>\n",
              "    <tr>\n",
              "      <th>...</th>\n",
              "      <td>...</td>\n",
              "    </tr>\n",
              "    <tr>\n",
              "      <th>2889</th>\n",
              "      <td>NaN</td>\n",
              "    </tr>\n",
              "    <tr>\n",
              "      <th>2890</th>\n",
              "      <td>NaN</td>\n",
              "    </tr>\n",
              "    <tr>\n",
              "      <th>2891</th>\n",
              "      <td>NaN</td>\n",
              "    </tr>\n",
              "    <tr>\n",
              "      <th>2892</th>\n",
              "      <td>NaN</td>\n",
              "    </tr>\n",
              "    <tr>\n",
              "      <th>2893</th>\n",
              "      <td>4.0</td>\n",
              "    </tr>\n",
              "  </tbody>\n",
              "</table>\n",
              "<p>2894 rows × 1 columns</p>\n",
              "</div><br><label><b>dtype:</b> float64</label>"
            ],
            "text/plain": [
              "0       6.0\n",
              "1       NaN\n",
              "2       NaN\n",
              "3       NaN\n",
              "4       NaN\n",
              "       ... \n",
              "2889    NaN\n",
              "2890    NaN\n",
              "2891    NaN\n",
              "2892    NaN\n",
              "2893    4.0\n",
              "Name: num_cylinder, Length: 2894, dtype: float64"
            ]
          },
          "execution_count": 84,
          "metadata": {},
          "output_type": "execute_result"
        }
      ],
      "source": [
        "cars[\"num_cylinder\"]"
      ]
    },
    {
      "cell_type": "code",
      "execution_count": null,
      "metadata": {
        "colab": {
          "background_save": true
        },
        "id": "5RmmlDlYpwov"
      },
      "outputs": [],
      "source": [
        "cars.fillna({\"num_cylinder\": 6.0}, inplace=True)"
      ]
    },
    {
      "cell_type": "code",
      "execution_count": null,
      "metadata": {
        "colab": {
          "background_save": true,
          "base_uri": "https://localhost:8080/"
        },
        "id": "a1AbM7CCqLEd",
        "outputId": "ac86de64-a77e-4bc9-93d8-cc10ed02ad51"
      },
      "outputs": [
        {
          "data": {
            "text/plain": [
              "Index(['car_id', 'description', 'amount', 'region', 'make', 'model',\n",
              "       'year_of_man', 'color', 'condition', 'mileage', 'engine_size',\n",
              "       'selling_cond', 'bought_cond', 'trim', 'drive_train', 'reg_city',\n",
              "       'seat', 'num_cylinder', 'horse_power', 'body_build', 'fuel_type',\n",
              "       'transmission'],\n",
              "      dtype='object')"
            ]
          },
          "execution_count": 86,
          "metadata": {},
          "output_type": "execute_result"
        }
      ],
      "source": [
        "cars.columns"
      ]
    },
    {
      "cell_type": "code",
      "execution_count": null,
      "metadata": {
        "colab": {
          "background_save": true,
          "base_uri": "https://localhost:8080/"
        },
        "id": "xThQmvnLqdDQ",
        "outputId": "98c0ad91-94f0-4271-82b3-9872a4a5c5b6"
      },
      "outputs": [
        {
          "data": {
            "text/plain": [
              "np.int64(2556)"
            ]
          },
          "execution_count": 87,
          "metadata": {},
          "output_type": "execute_result"
        }
      ],
      "source": [
        "cars[\"horse_power\"].isnull().sum()"
      ]
    },
    {
      "cell_type": "code",
      "execution_count": null,
      "metadata": {
        "colab": {
          "background_save": true,
          "base_uri": "https://localhost:8080/",
          "height": 489
        },
        "id": "bhkvZ5fNqsW8",
        "outputId": "54e772a8-77d4-4b1f-d567-233d50f63456"
      },
      "outputs": [
        {
          "data": {
            "text/html": [
              "<div>\n",
              "<style scoped>\n",
              "    .dataframe tbody tr th:only-of-type {\n",
              "        vertical-align: middle;\n",
              "    }\n",
              "\n",
              "    .dataframe tbody tr th {\n",
              "        vertical-align: top;\n",
              "    }\n",
              "\n",
              "    .dataframe thead th {\n",
              "        text-align: right;\n",
              "    }\n",
              "</style>\n",
              "<table border=\"1\" class=\"dataframe\">\n",
              "  <thead>\n",
              "    <tr style=\"text-align: right;\">\n",
              "      <th></th>\n",
              "      <th>count</th>\n",
              "    </tr>\n",
              "    <tr>\n",
              "      <th>horse_power</th>\n",
              "      <th></th>\n",
              "    </tr>\n",
              "  </thead>\n",
              "  <tbody>\n",
              "    <tr>\n",
              "      <th>268.0</th>\n",
              "      <td>20</td>\n",
              "    </tr>\n",
              "    <tr>\n",
              "      <th>132.0</th>\n",
              "      <td>20</td>\n",
              "    </tr>\n",
              "    <tr>\n",
              "      <th>158.0</th>\n",
              "      <td>11</td>\n",
              "    </tr>\n",
              "    <tr>\n",
              "      <th>274.0</th>\n",
              "      <td>9</td>\n",
              "    </tr>\n",
              "    <tr>\n",
              "      <th>270.0</th>\n",
              "      <td>9</td>\n",
              "    </tr>\n",
              "    <tr>\n",
              "      <th>...</th>\n",
              "      <td>...</td>\n",
              "    </tr>\n",
              "    <tr>\n",
              "      <th>209.0</th>\n",
              "      <td>1</td>\n",
              "    </tr>\n",
              "    <tr>\n",
              "      <th>477.0</th>\n",
              "      <td>1</td>\n",
              "    </tr>\n",
              "    <tr>\n",
              "      <th>293.0</th>\n",
              "      <td>1</td>\n",
              "    </tr>\n",
              "    <tr>\n",
              "      <th>134.0</th>\n",
              "      <td>1</td>\n",
              "    </tr>\n",
              "    <tr>\n",
              "      <th>172.0</th>\n",
              "      <td>1</td>\n",
              "    </tr>\n",
              "  </tbody>\n",
              "</table>\n",
              "<p>126 rows × 1 columns</p>\n",
              "</div><br><label><b>dtype:</b> int64</label>"
            ],
            "text/plain": [
              "horse_power\n",
              "268.0    20\n",
              "132.0    20\n",
              "158.0    11\n",
              "274.0     9\n",
              "270.0     9\n",
              "         ..\n",
              "209.0     1\n",
              "477.0     1\n",
              "293.0     1\n",
              "134.0     1\n",
              "172.0     1\n",
              "Name: count, Length: 126, dtype: int64"
            ]
          },
          "execution_count": 88,
          "metadata": {},
          "output_type": "execute_result"
        }
      ],
      "source": [
        "cars[\"horse_power\"].value_counts()"
      ]
    },
    {
      "cell_type": "code",
      "execution_count": null,
      "metadata": {
        "colab": {
          "background_save": true
        },
        "id": "WVIElKacq0S7"
      },
      "outputs": [],
      "source": [
        "cars.fillna({\"horse_power\": 268.0}, inplace=True)"
      ]
    },
    {
      "cell_type": "code",
      "execution_count": null,
      "metadata": {
        "colab": {
          "background_save": true,
          "base_uri": "https://localhost:8080/"
        },
        "id": "ISj0ehcNra5P",
        "outputId": "2ce7299b-44ed-464f-c221-8530917c1017"
      },
      "outputs": [
        {
          "data": {
            "text/plain": [
              "Index(['car_id', 'description', 'amount', 'region', 'make', 'model',\n",
              "       'year_of_man', 'color', 'condition', 'mileage', 'engine_size',\n",
              "       'selling_cond', 'bought_cond', 'trim', 'drive_train', 'reg_city',\n",
              "       'seat', 'num_cylinder', 'horse_power', 'body_build', 'fuel_type',\n",
              "       'transmission'],\n",
              "      dtype='object')"
            ]
          },
          "execution_count": 90,
          "metadata": {},
          "output_type": "execute_result"
        }
      ],
      "source": [
        "cars.columns"
      ]
    },
    {
      "cell_type": "code",
      "execution_count": null,
      "metadata": {
        "colab": {
          "background_save": true,
          "base_uri": "https://localhost:8080/"
        },
        "id": "YgnV-E4XrvR5",
        "outputId": "939a0f7f-54e1-4548-c577-aa3209da620c"
      },
      "outputs": [
        {
          "data": {
            "text/plain": [
              "np.int64(1637)"
            ]
          },
          "execution_count": 91,
          "metadata": {},
          "output_type": "execute_result"
        }
      ],
      "source": [
        "cars[\"body_build\"].isnull().sum()"
      ]
    },
    {
      "cell_type": "code",
      "execution_count": null,
      "metadata": {
        "colab": {
          "background_save": true,
          "base_uri": "https://localhost:8080/",
          "height": 617
        },
        "id": "uuP9hfeqr7q7",
        "outputId": "dd16f1e2-444e-43ad-ed3c-101818cd1470"
      },
      "outputs": [
        {
          "data": {
            "text/html": [
              "<div>\n",
              "<style scoped>\n",
              "    .dataframe tbody tr th:only-of-type {\n",
              "        vertical-align: middle;\n",
              "    }\n",
              "\n",
              "    .dataframe tbody tr th {\n",
              "        vertical-align: top;\n",
              "    }\n",
              "\n",
              "    .dataframe thead th {\n",
              "        text-align: right;\n",
              "    }\n",
              "</style>\n",
              "<table border=\"1\" class=\"dataframe\">\n",
              "  <thead>\n",
              "    <tr style=\"text-align: right;\">\n",
              "      <th></th>\n",
              "      <th>count</th>\n",
              "    </tr>\n",
              "    <tr>\n",
              "      <th>body_build</th>\n",
              "      <th></th>\n",
              "    </tr>\n",
              "  </thead>\n",
              "  <tbody>\n",
              "    <tr>\n",
              "      <th>SUV</th>\n",
              "      <td>925</td>\n",
              "    </tr>\n",
              "    <tr>\n",
              "      <th>Sedan</th>\n",
              "      <td>146</td>\n",
              "    </tr>\n",
              "    <tr>\n",
              "      <th>Truck</th>\n",
              "      <td>31</td>\n",
              "    </tr>\n",
              "    <tr>\n",
              "      <th>Hatchback</th>\n",
              "      <td>28</td>\n",
              "    </tr>\n",
              "    <tr>\n",
              "      <th>Coupe</th>\n",
              "      <td>21</td>\n",
              "    </tr>\n",
              "    <tr>\n",
              "      <th>Minivan</th>\n",
              "      <td>20</td>\n",
              "    </tr>\n",
              "    <tr>\n",
              "      <th>Van</th>\n",
              "      <td>17</td>\n",
              "    </tr>\n",
              "    <tr>\n",
              "      <th>Pickup</th>\n",
              "      <td>13</td>\n",
              "    </tr>\n",
              "    <tr>\n",
              "      <th>Bus</th>\n",
              "      <td>10</td>\n",
              "    </tr>\n",
              "    <tr>\n",
              "      <th>Pick-up Double Cabin</th>\n",
              "      <td>10</td>\n",
              "    </tr>\n",
              "    <tr>\n",
              "      <th>Saloon</th>\n",
              "      <td>9</td>\n",
              "    </tr>\n",
              "    <tr>\n",
              "      <th>Crossover</th>\n",
              "      <td>9</td>\n",
              "    </tr>\n",
              "    <tr>\n",
              "      <th>Station Wagon</th>\n",
              "      <td>7</td>\n",
              "    </tr>\n",
              "    <tr>\n",
              "      <th>Convertible</th>\n",
              "      <td>5</td>\n",
              "    </tr>\n",
              "    <tr>\n",
              "      <th>Pick-up Single Cabin</th>\n",
              "      <td>3</td>\n",
              "    </tr>\n",
              "    <tr>\n",
              "      <th>MUV</th>\n",
              "      <td>3</td>\n",
              "    </tr>\n",
              "  </tbody>\n",
              "</table>\n",
              "</div><br><label><b>dtype:</b> int64</label>"
            ],
            "text/plain": [
              "body_build\n",
              "SUV                     925\n",
              "Sedan                   146\n",
              "Truck                    31\n",
              "Hatchback                28\n",
              "Coupe                    21\n",
              "Minivan                  20\n",
              "Van                      17\n",
              "Pickup                   13\n",
              "Bus                      10\n",
              "Pick-up Double Cabin     10\n",
              "Saloon                    9\n",
              "Crossover                 9\n",
              "Station Wagon             7\n",
              "Convertible               5\n",
              "Pick-up Single Cabin      3\n",
              "MUV                       3\n",
              "Name: count, dtype: int64"
            ]
          },
          "execution_count": 92,
          "metadata": {},
          "output_type": "execute_result"
        }
      ],
      "source": [
        "cars[\"body_build\"].value_counts()"
      ]
    },
    {
      "cell_type": "code",
      "execution_count": null,
      "metadata": {
        "colab": {
          "background_save": true
        },
        "id": "qCwKXIyjsEOf"
      },
      "outputs": [],
      "source": [
        "cars.fillna({\"body_build\": \"SUV\"}, inplace=True)"
      ]
    },
    {
      "cell_type": "code",
      "execution_count": null,
      "metadata": {
        "colab": {
          "background_save": true,
          "base_uri": "https://localhost:8080/"
        },
        "id": "hjgpG7Rgsy4W",
        "outputId": "55096aba-bfea-459d-882f-6312651364a1"
      },
      "outputs": [
        {
          "data": {
            "text/plain": [
              "np.int64(18)"
            ]
          },
          "execution_count": 94,
          "metadata": {},
          "output_type": "execute_result"
        }
      ],
      "source": [
        "cars[\"fuel_type\"].isnull().sum()"
      ]
    },
    {
      "cell_type": "code",
      "execution_count": null,
      "metadata": {
        "colab": {
          "background_save": true,
          "base_uri": "https://localhost:8080/",
          "height": 241
        },
        "id": "utDU6rqgtNem",
        "outputId": "83fc3d69-ca81-42a3-fc92-03b7c50f54ed"
      },
      "outputs": [
        {
          "data": {
            "text/html": [
              "<div>\n",
              "<style scoped>\n",
              "    .dataframe tbody tr th:only-of-type {\n",
              "        vertical-align: middle;\n",
              "    }\n",
              "\n",
              "    .dataframe tbody tr th {\n",
              "        vertical-align: top;\n",
              "    }\n",
              "\n",
              "    .dataframe thead th {\n",
              "        text-align: right;\n",
              "    }\n",
              "</style>\n",
              "<table border=\"1\" class=\"dataframe\">\n",
              "  <thead>\n",
              "    <tr style=\"text-align: right;\">\n",
              "      <th></th>\n",
              "      <th>count</th>\n",
              "    </tr>\n",
              "    <tr>\n",
              "      <th>fuel_type</th>\n",
              "      <th></th>\n",
              "    </tr>\n",
              "  </thead>\n",
              "  <tbody>\n",
              "    <tr>\n",
              "      <th>Petrol</th>\n",
              "      <td>2849</td>\n",
              "    </tr>\n",
              "    <tr>\n",
              "      <th>Hybrid</th>\n",
              "      <td>16</td>\n",
              "    </tr>\n",
              "    <tr>\n",
              "      <th>Diesel</th>\n",
              "      <td>10</td>\n",
              "    </tr>\n",
              "    <tr>\n",
              "      <th>Electric</th>\n",
              "      <td>1</td>\n",
              "    </tr>\n",
              "  </tbody>\n",
              "</table>\n",
              "</div><br><label><b>dtype:</b> int64</label>"
            ],
            "text/plain": [
              "fuel_type\n",
              "Petrol      2849\n",
              "Hybrid        16\n",
              "Diesel        10\n",
              "Electric       1\n",
              "Name: count, dtype: int64"
            ]
          },
          "execution_count": 95,
          "metadata": {},
          "output_type": "execute_result"
        }
      ],
      "source": [
        "cars[\"fuel_type\"].value_counts()"
      ]
    },
    {
      "cell_type": "code",
      "execution_count": null,
      "metadata": {
        "colab": {
          "background_save": true
        },
        "id": "OivWnLlUtZq0"
      },
      "outputs": [],
      "source": [
        "cars.fillna({\"fuel_type\": \"Hybrid\"}, inplace=True)"
      ]
    },
    {
      "cell_type": "code",
      "execution_count": null,
      "metadata": {
        "colab": {
          "background_save": true,
          "base_uri": "https://localhost:8080/",
          "height": 458
        },
        "id": "dA4a1wT4tyVg",
        "outputId": "a3a7b7f4-f8c3-4a22-e69a-9b605980a5ae"
      },
      "outputs": [
        {
          "data": {
            "text/html": [
              "<div>\n",
              "<style scoped>\n",
              "    .dataframe tbody tr th:only-of-type {\n",
              "        vertical-align: middle;\n",
              "    }\n",
              "\n",
              "    .dataframe tbody tr th {\n",
              "        vertical-align: top;\n",
              "    }\n",
              "\n",
              "    .dataframe thead th {\n",
              "        text-align: right;\n",
              "    }\n",
              "</style>\n",
              "<table border=\"1\" class=\"dataframe\">\n",
              "  <thead>\n",
              "    <tr style=\"text-align: right;\">\n",
              "      <th></th>\n",
              "      <th>fuel_type</th>\n",
              "    </tr>\n",
              "  </thead>\n",
              "  <tbody>\n",
              "    <tr>\n",
              "      <th>0</th>\n",
              "      <td>Petrol</td>\n",
              "    </tr>\n",
              "    <tr>\n",
              "      <th>1</th>\n",
              "      <td>Petrol</td>\n",
              "    </tr>\n",
              "    <tr>\n",
              "      <th>2</th>\n",
              "      <td>Petrol</td>\n",
              "    </tr>\n",
              "    <tr>\n",
              "      <th>3</th>\n",
              "      <td>Petrol</td>\n",
              "    </tr>\n",
              "    <tr>\n",
              "      <th>4</th>\n",
              "      <td>Petrol</td>\n",
              "    </tr>\n",
              "    <tr>\n",
              "      <th>...</th>\n",
              "      <td>...</td>\n",
              "    </tr>\n",
              "    <tr>\n",
              "      <th>2889</th>\n",
              "      <td>Petrol</td>\n",
              "    </tr>\n",
              "    <tr>\n",
              "      <th>2890</th>\n",
              "      <td>Petrol</td>\n",
              "    </tr>\n",
              "    <tr>\n",
              "      <th>2891</th>\n",
              "      <td>Petrol</td>\n",
              "    </tr>\n",
              "    <tr>\n",
              "      <th>2892</th>\n",
              "      <td>Petrol</td>\n",
              "    </tr>\n",
              "    <tr>\n",
              "      <th>2893</th>\n",
              "      <td>Petrol</td>\n",
              "    </tr>\n",
              "  </tbody>\n",
              "</table>\n",
              "<p>2894 rows × 1 columns</p>\n",
              "</div><br><label><b>dtype:</b> object</label>"
            ],
            "text/plain": [
              "0       Petrol\n",
              "1       Petrol\n",
              "2       Petrol\n",
              "3       Petrol\n",
              "4       Petrol\n",
              "         ...  \n",
              "2889    Petrol\n",
              "2890    Petrol\n",
              "2891    Petrol\n",
              "2892    Petrol\n",
              "2893    Petrol\n",
              "Name: fuel_type, Length: 2894, dtype: object"
            ]
          },
          "execution_count": 97,
          "metadata": {},
          "output_type": "execute_result"
        }
      ],
      "source": [
        "cars[\"fuel_type\"]"
      ]
    },
    {
      "cell_type": "code",
      "execution_count": null,
      "metadata": {
        "colab": {
          "background_save": true,
          "base_uri": "https://localhost:8080/"
        },
        "id": "QRh_Q6LWt_Y8",
        "outputId": "93db621a-f22b-428e-c5a6-aa2f75a49545"
      },
      "outputs": [
        {
          "data": {
            "text/plain": [
              "Index(['car_id', 'description', 'amount', 'region', 'make', 'model',\n",
              "       'year_of_man', 'color', 'condition', 'mileage', 'engine_size',\n",
              "       'selling_cond', 'bought_cond', 'trim', 'drive_train', 'reg_city',\n",
              "       'seat', 'num_cylinder', 'horse_power', 'body_build', 'fuel_type',\n",
              "       'transmission'],\n",
              "      dtype='object')"
            ]
          },
          "execution_count": 98,
          "metadata": {},
          "output_type": "execute_result"
        }
      ],
      "source": [
        "cars.columns"
      ]
    },
    {
      "cell_type": "code",
      "execution_count": null,
      "metadata": {
        "colab": {
          "background_save": true,
          "base_uri": "https://localhost:8080/"
        },
        "id": "eVT0Qa-6uIxE",
        "outputId": "39c10d19-d14b-4eea-8540-53ab3d0e4a62"
      },
      "outputs": [
        {
          "data": {
            "text/plain": [
              "np.int64(1)"
            ]
          },
          "execution_count": 99,
          "metadata": {},
          "output_type": "execute_result"
        }
      ],
      "source": [
        "cars[\"transmission\"].isnull().sum()"
      ]
    },
    {
      "cell_type": "code",
      "execution_count": null,
      "metadata": {
        "colab": {
          "background_save": true,
          "base_uri": "https://localhost:8080/",
          "height": 241
        },
        "id": "RMIWV7LjuP7b",
        "outputId": "0c57df58-6d80-4077-b240-a23299e66b3e"
      },
      "outputs": [
        {
          "data": {
            "text/html": [
              "<div>\n",
              "<style scoped>\n",
              "    .dataframe tbody tr th:only-of-type {\n",
              "        vertical-align: middle;\n",
              "    }\n",
              "\n",
              "    .dataframe tbody tr th {\n",
              "        vertical-align: top;\n",
              "    }\n",
              "\n",
              "    .dataframe thead th {\n",
              "        text-align: right;\n",
              "    }\n",
              "</style>\n",
              "<table border=\"1\" class=\"dataframe\">\n",
              "  <thead>\n",
              "    <tr style=\"text-align: right;\">\n",
              "      <th></th>\n",
              "      <th>count</th>\n",
              "    </tr>\n",
              "    <tr>\n",
              "      <th>transmission</th>\n",
              "      <th></th>\n",
              "    </tr>\n",
              "  </thead>\n",
              "  <tbody>\n",
              "    <tr>\n",
              "      <th>Automatic</th>\n",
              "      <td>2702</td>\n",
              "    </tr>\n",
              "    <tr>\n",
              "      <th>Manual</th>\n",
              "      <td>171</td>\n",
              "    </tr>\n",
              "    <tr>\n",
              "      <th>CVT</th>\n",
              "      <td>17</td>\n",
              "    </tr>\n",
              "    <tr>\n",
              "      <th>AMT</th>\n",
              "      <td>3</td>\n",
              "    </tr>\n",
              "  </tbody>\n",
              "</table>\n",
              "</div><br><label><b>dtype:</b> int64</label>"
            ],
            "text/plain": [
              "transmission\n",
              "Automatic    2702\n",
              "Manual        171\n",
              "CVT            17\n",
              "AMT             3\n",
              "Name: count, dtype: int64"
            ]
          },
          "execution_count": 100,
          "metadata": {},
          "output_type": "execute_result"
        }
      ],
      "source": [
        "cars[\"transmission\"].value_counts()"
      ]
    },
    {
      "cell_type": "code",
      "execution_count": null,
      "metadata": {
        "colab": {
          "background_save": true,
          "base_uri": "https://localhost:8080/",
          "height": 458
        },
        "id": "jCVdhnjBuc_B",
        "outputId": "7fb66853-082a-4e57-8fa5-4d91c7348aaf"
      },
      "outputs": [
        {
          "data": {
            "text/html": [
              "<div>\n",
              "<style scoped>\n",
              "    .dataframe tbody tr th:only-of-type {\n",
              "        vertical-align: middle;\n",
              "    }\n",
              "\n",
              "    .dataframe tbody tr th {\n",
              "        vertical-align: top;\n",
              "    }\n",
              "\n",
              "    .dataframe thead th {\n",
              "        text-align: right;\n",
              "    }\n",
              "</style>\n",
              "<table border=\"1\" class=\"dataframe\">\n",
              "  <thead>\n",
              "    <tr style=\"text-align: right;\">\n",
              "      <th></th>\n",
              "      <th>transmission</th>\n",
              "    </tr>\n",
              "  </thead>\n",
              "  <tbody>\n",
              "    <tr>\n",
              "      <th>0</th>\n",
              "      <td>Automatic</td>\n",
              "    </tr>\n",
              "    <tr>\n",
              "      <th>1</th>\n",
              "      <td>Automatic</td>\n",
              "    </tr>\n",
              "    <tr>\n",
              "      <th>2</th>\n",
              "      <td>Automatic</td>\n",
              "    </tr>\n",
              "    <tr>\n",
              "      <th>3</th>\n",
              "      <td>Automatic</td>\n",
              "    </tr>\n",
              "    <tr>\n",
              "      <th>4</th>\n",
              "      <td>Automatic</td>\n",
              "    </tr>\n",
              "    <tr>\n",
              "      <th>...</th>\n",
              "      <td>...</td>\n",
              "    </tr>\n",
              "    <tr>\n",
              "      <th>2889</th>\n",
              "      <td>Automatic</td>\n",
              "    </tr>\n",
              "    <tr>\n",
              "      <th>2890</th>\n",
              "      <td>Automatic</td>\n",
              "    </tr>\n",
              "    <tr>\n",
              "      <th>2891</th>\n",
              "      <td>Automatic</td>\n",
              "    </tr>\n",
              "    <tr>\n",
              "      <th>2892</th>\n",
              "      <td>Automatic</td>\n",
              "    </tr>\n",
              "    <tr>\n",
              "      <th>2893</th>\n",
              "      <td>Automatic</td>\n",
              "    </tr>\n",
              "  </tbody>\n",
              "</table>\n",
              "<p>2894 rows × 1 columns</p>\n",
              "</div><br><label><b>dtype:</b> object</label>"
            ],
            "text/plain": [
              "0       Automatic\n",
              "1       Automatic\n",
              "2       Automatic\n",
              "3       Automatic\n",
              "4       Automatic\n",
              "          ...    \n",
              "2889    Automatic\n",
              "2890    Automatic\n",
              "2891    Automatic\n",
              "2892    Automatic\n",
              "2893    Automatic\n",
              "Name: transmission, Length: 2894, dtype: object"
            ]
          },
          "execution_count": 101,
          "metadata": {},
          "output_type": "execute_result"
        }
      ],
      "source": [
        "cars[\"transmission\"]"
      ]
    },
    {
      "cell_type": "code",
      "execution_count": null,
      "metadata": {
        "colab": {
          "background_save": true
        },
        "id": "8ZMH8JJ6ui3z"
      },
      "outputs": [],
      "source": [
        "cars.fillna({\"transmission\" :\"CVT\"}, inplace=True)"
      ]
    },
    {
      "cell_type": "code",
      "execution_count": null,
      "metadata": {
        "colab": {
          "background_save": true,
          "base_uri": "https://localhost:8080/"
        },
        "id": "YaX4zx71vaMD",
        "outputId": "817205ac-d294-428e-9cfe-a0aff4b9acf2"
      },
      "outputs": [
        {
          "data": {
            "text/plain": [
              "Index(['car_id', 'description', 'amount', 'region', 'make', 'model',\n",
              "       'year_of_man', 'color', 'condition', 'mileage', 'engine_size',\n",
              "       'selling_cond', 'bought_cond', 'trim', 'drive_train', 'reg_city',\n",
              "       'seat', 'num_cylinder', 'horse_power', 'body_build', 'fuel_type',\n",
              "       'transmission'],\n",
              "      dtype='object')"
            ]
          },
          "execution_count": 103,
          "metadata": {},
          "output_type": "execute_result"
        }
      ],
      "source": [
        "cars.columns"
      ]
    },
    {
      "cell_type": "markdown",
      "metadata": {
        "id": "EagAxy3Ow_Dg"
      },
      "source": [
        "#4. Detecting outliers"
      ]
    },
    {
      "cell_type": "code",
      "execution_count": null,
      "metadata": {
        "colab": {
          "base_uri": "https://localhost:8080/",
          "height": 372
        },
        "id": "tpiBTOOxvp5G",
        "outputId": "ee3c83ba-cac8-41a6-a4de-de905a4c8a8f"
      },
      "outputs": [
        {
          "data": {
            "image/png": "[encoded data removed]",
            "text/plain": [
              "<Figure size 600x400 with 1 Axes>"
            ]
          },
          "metadata": {},
          "output_type": "display_data"
        }
      ],
      "source": [
        "# Detecting outliers in the amount column using Boxplot\n",
        "plt.figure(figsize=(6,4))\n",
        "sns.boxplot(cars[\"amount\"])\n",
        "plt.title(\"Amount Boxplot\")\n",
        "plt.show()"
      ]
    },
    {
      "cell_type": "markdown",
      "source": [
        "# Observation on Amount\n",
        "#**Presence of Outliers:**\n",
        "\n",
        "- there are multiple outliers in the dataset, as seen by the many circular markers above the whiskers of the boxplot.\n",
        "\n",
        "- These outliers represent very high-priced cars that are significantly more expensive than the rest of the dataset.\n",
        "\n",
        "#**Distribution Insight:**\n",
        "\n",
        "- The majority of the car prices are clustered in the lower range, as indicated by the narrow box at the bottom."
      ],
      "metadata": {
        "id": "aepquY3VsyaJ"
      }
    },
    {
      "cell_type": "code",
      "execution_count": 134,
      "metadata": {
        "colab": {
          "base_uri": "https://localhost:8080/",
          "height": 410
        },
        "id": "zgdmfluo1R7B",
        "outputId": "0cb7a50d-46f3-4d3c-d956-8ad699409de7"
      },
      "outputs": [
        {
          "output_type": "display_data",
          "data": {
            "text/plain": [
              "<Figure size 800x400 with 1 Axes>"
            ],
            "image/png": "[encoded data removed]"
          },
          "metadata": {}
        }
      ],
      "source": [
        "# Detecting outliers for two columns using scartter plot to compare them\n",
        "\n",
        "plt.figure(figsize=(8,4))\n",
        "sns.scatterplot(cars, x=\"amount\", y=\"horse_power\")\n",
        "plt.title(\"Amount vs horse power\")\n",
        "plt.xlabel(\"Amount\")\n",
        "plt.ylabel(\"horse power\")\n",
        "plt.show()"
      ]
    },
    {
      "cell_type": "markdown",
      "source": [
        "# Observation on Amount vs. Horsepower Scatter Plot:\n",
        "- Presence of Outliers:\n",
        "\n",
        "- The plot contains several outliers, particularly in the higher price range (Amount) and higher horsepower range.\n",
        "\n",
        "- A few data points are significantly higher than the majority, especially above 400 HP and high price values."
      ],
      "metadata": {
        "id": "MyPYGenUptSc"
      }
    },
    {
      "cell_type": "code",
      "execution_count": null,
      "metadata": {
        "colab": {
          "base_uri": "https://localhost:8080/",
          "height": 372
        },
        "id": "j2ojYAef9Vdo",
        "outputId": "71315a69-5ae5-484d-a509-918e0bca6e25"
      },
      "outputs": [
        {
          "data": {
            "image/png": "[encoded data removed]",
            "text/plain": [
              "<Figure size 600x400 with 1 Axes>"
            ]
          },
          "metadata": {},
          "output_type": "display_data"
        }
      ],
      "source": [
        "# Detecting outliers for hors power using Box plot\n",
        "plt.figure(figsize=(6,4))\n",
        "sns.boxplot(cars[\"horse_power\"])\n",
        "plt.title(\"horse power Boxplot\")\n",
        "plt.show()"
      ]
    },
    {
      "cell_type": "markdown",
      "source": [
        "# Observation on Horsepower Boxplot:\n",
        "- Presence of Outliers:\n",
        "\n",
        "- The boxplot shows multiple outliers above the upper whisker, indicated by the scattered points beyond the main box.\n",
        "\n",
        "- These represent cars with exceptionally high horsepower values compared to the majority in the dataset."
      ],
      "metadata": {
        "id": "OupR8ywFqY9k"
      }
    },
    {
      "cell_type": "markdown",
      "metadata": {
        "id": "CdNXfrIy_68h"
      },
      "source": [
        "#5. Visualization\n",
        "- A bar chart (plt.bar(...)) shows the distribution of car makes.\n",
        "- A heatmap (sns.heatmap(...)) visualizes correlations between numerical features.\n",
        "- A scatter plot (plt.scatter(...)) explores the relationship between horsepower and price.\n"
      ]
    },
    {
      "cell_type": "code",
      "execution_count": 133,
      "metadata": {
        "colab": {
          "base_uri": "https://localhost:8080/",
          "height": 410
        },
        "id": "ssYD0n7V-XKI",
        "outputId": "720dd7d3-f74c-48c5-d89e-8e1de608c7f9"
      },
      "outputs": [
        {
          "output_type": "display_data",
          "data": {
            "text/plain": [
              "<Figure size 800x400 with 1 Axes>"
            ],
            "image/png": "[encoded data removed]"
          },
          "metadata": {}
        }
      ],
      "source": [
        "# showing the distribution of car make\n",
        "plt.figure(figsize=(8,4))\n",
        "plt.bar(cars[\"make\"].value_counts().index,cars[\"make\"].value_counts())\n",
        "plt.title(\"Car make distribution\")\n",
        "plt.xlabel(\"make\")\n",
        "plt.ylabel(\"count\")\n",
        "plt.show()"
      ]
    },
    {
      "cell_type": "markdown",
      "source": [
        "Observation on Car Make Distribution:\n",
        "Highly Skewed Distribution: The distribution is heavily right-skewed, indicating that a few car makes dominate the dataset while many others have relatively low representation."
      ],
      "metadata": {
        "id": "li1cCcr3nIDB"
      }
    },
    {
      "cell_type": "code",
      "source": [],
      "metadata": {
        "id": "6yk6TFcsTXie"
      },
      "execution_count": null,
      "outputs": []
    },
    {
      "cell_type": "code",
      "execution_count": 128,
      "metadata": {
        "colab": {
          "base_uri": "https://localhost:8080/",
          "height": 470
        },
        "id": "BZWnWR5GAr5-",
        "outputId": "8dcb9bcd-195f-4cf8-b2f5-ce872d475077"
      },
      "outputs": [
        {
          "output_type": "display_data",
          "data": {
            "text/plain": [
              "<Figure size 800x400 with 2 Axes>"
            ],
            "image/png": "[encoded data removed]"
          },
          "metadata": {}
        }
      ],
      "source": [
        "# heatmap (sns.heatmap(...)) visualizes correlations between numerical features\n",
        "numerical_cars = cars.select_dtypes(include=np.number)\n",
        "\n",
        "# 2. Create Heatmap:\n",
        "plt.figure(figsize=(8, 4))\n",
        "sns.heatmap(numerical_cars.corr(), annot=True, cmap='coolwarm', fmt=\".2f\")\n",
        "plt.title(\"Correlation Heatmap of Numerical Features in Cars DataFrame\")\n",
        "plt.show()"
      ]
    },
    {
      "cell_type": "markdown",
      "source": [
        "\"\"\"Observations:\n",
        "The correlation heatmap reveals key relationships between numerical features in the dataset. The strongest correlation is observed between horsepower and number of cylinders (0.77), indicating that cars with more cylinders tend to have higher horsepower. Additionally, amount (price) shows a moderate positive correlation with the year of manufacture (0.58), suggesting that newer cars generally have higher prices.\n",
        "\n",
        "However, there is no significant correlation between amount and horsepower (0.09), meaning horsepower alone does not strongly influence car prices. Similarly, engine size (0.06) and number of cylinders (0.05) have minimal impact on price. Mileage also shows weak or near-zero correlations with other variables, indicating it does not strongly affect the relationships observed.\n",
        "\n",
        "These findings suggest that while engine specifications impact performance-related features, price is more influenced by the year of manufacture rather than horsepower, engine size, or cylinder count.\"\"\""
      ],
      "metadata": {
        "id": "4IhFgyeejsHs"
      }
    },
    {
      "cell_type": "code",
      "execution_count": 110,
      "metadata": {
        "id": "3VWTtl7qBcFp",
        "colab": {
          "base_uri": "https://localhost:8080/",
          "height": 410
        },
        "outputId": "cf5dc0b8-8972-49c8-8447-ef0d01f8286f"
      },
      "outputs": [
        {
          "output_type": "display_data",
          "data": {
            "text/plain": [
              "<Figure size 800x400 with 1 Axes>"
            ],
            "image/png": "[encoded data removed]"
          },
          "metadata": {}
        }
      ],
      "source": [
        "# exploreing the relationship between power_horse AND price or amount\n",
        "plt.figure(figsize=(8,4))\n",
        "plt.scatter(cars[\"horse_power\"], cars[\"amount\"])\n",
        "plt.title(\"horse_power vs amount\")\n",
        "plt.xlabel(\"horse_power\")\n",
        "plt.ylabel(\"amount\")\n",
        "plt.show()"
      ]
    },
    {
      "cell_type": "markdown",
      "source": [
        "#. Observation\n",
        "# From the scatter plot, there does not appear to be a strong linear\n",
        "# relationship between horse_power and amount."
      ],
      "metadata": {
        "id": "JRmnq4S8OWSJ"
      }
    },
    {
      "cell_type": "markdown",
      "source": [
        "6. Analysis\n",
        "- Which type of cars are sold maximum?\n",
        "- What is the co-relation between price and mileage?\n",
        "- How many cars are registered?\n",
        "- Price distribution between registered and non-registered cars.\n",
        "- What is the car price distribution based on Engine Value?\n",
        "- Which Engine Type of cars users preferred maximum?\n",
        "- Establish corelation between all features using heatmap.\n",
        "- Distribution of Price\n"
      ],
      "metadata": {
        "id": "SqHAQYNtU1R2"
      }
    },
    {
      "cell_type": "code",
      "source": [
        "# 1 Which type of cars are sold maximum?\n",
        "max_sold_car = cars['make'].value_counts().idxmax()\n",
        "print(f\"The car type sold maximum is: {max_sold_car}\")\n"
      ],
      "metadata": {
        "colab": {
          "base_uri": "https://localhost:8080/"
        },
        "id": "BF70d_XPKNQL",
        "outputId": "22e3fae0-1aa7-4608-f7f8-ce14ecbe6437"
      },
      "execution_count": 116,
      "outputs": [
        {
          "output_type": "stream",
          "name": "stdout",
          "text": [
            "The car type sold maximum is: Toyota\n"
          ]
        }
      ]
    },
    {
      "cell_type": "code",
      "source": [
        "# 2 What is the co-relation between price and mileage?\n",
        "\n",
        "# Calculate the correlation between price ('amount') and mileage\n",
        "correlation = cars['amount'].corr(cars['mileage'])\n",
        "print(f\"The correlation between price and mileage is: {correlation}\")\n"
      ],
      "metadata": {
        "colab": {
          "base_uri": "https://localhost:8080/"
        },
        "id": "Xquk843uWENT",
        "outputId": "a4763f66-e6d6-4660-f5f1-a40b14348883"
      },
      "execution_count": 117,
      "outputs": [
        {
          "output_type": "stream",
          "name": "stdout",
          "text": [
            "The correlation between price and mileage is: -0.028335049068397112\n"
          ]
        }
      ]
    },
    {
      "cell_type": "code",
      "source": [
        "# 3: How many cars are registered?\n",
        "\n",
        "num_registered = cars['reg_city'].notna().sum()\n",
        "print(f\"Number of cars with a registered city (assumed to be registered): {num_registered}\")\n"
      ],
      "metadata": {
        "colab": {
          "base_uri": "https://localhost:8080/"
        },
        "id": "dzzlizAQW6FZ",
        "outputId": "333d7c4d-4dcc-4136-ca14-2e2534da0a42"
      },
      "execution_count": 119,
      "outputs": [
        {
          "output_type": "stream",
          "name": "stdout",
          "text": [
            "Number of cars with a registered city (assumed to be registered): 2894\n"
          ]
        }
      ]
    },
    {
      "cell_type": "code",
      "source": [
        "\n",
        "registered_cars = cars[cars['reg_city'].notna()]\n",
        "unregistered_cars = cars[cars['reg_city'].isna()]\n",
        "\n",
        "plt.figure(figsize=(8, 4))\n",
        "sns.histplot(registered_cars['amount'], kde=True, label='Registered', color='blue')\n",
        "sns.histplot(unregistered_cars['amount'], kde=True, label='Unregistered', color='red')\n",
        "plt.title('Price Distribution: Registered vs. Unregistered Cars')\n",
        "plt.xlabel('Price')\n",
        "plt.ylabel('Frequency')\n",
        "plt.legend()\n",
        "plt.show()\n"
      ],
      "metadata": {
        "colab": {
          "base_uri": "https://localhost:8080/",
          "height": 410
        },
        "id": "qAwS8SMZYOvI",
        "outputId": "1cfe8099-7b96-4dd2-f6a5-16e826a7495e"
      },
      "execution_count": 122,
      "outputs": [
        {
          "output_type": "display_data",
          "data": {
            "text/plain": [
              "<Figure size 800x400 with 1 Axes>"
            ],
            "image/png": "[encoded data removed]"
          },
          "metadata": {}
        }
      ]
    },
    {
      "cell_type": "markdown",
      "source": [
        "The histogram shows the price distribution of registered cars, with a right-skewed pattern (long tail towards higher prices). The majority of registered cars have prices concentrated towards the lower range, with a sharp peak at the lower end."
      ],
      "metadata": {
        "id": "ZVsllHNwdwy-"
      }
    },
    {
      "cell_type": "code",
      "source": [
        "# What is the car price distribution based on Engine Value?\n",
        "plt.figure(figsize=(8, 4))\n",
        "cars_melted = pd.melt(cars, id_vars=['amount'], value_vars=['engine_size'], var_name='Engine_Size_Category', value_name='Engine_Size_Value')\n",
        "# Creating the histplot with the melted data\n",
        "sns.histplot(data=cars_melted, x='amount', hue='Engine_Size_Value', palette='viridis', kde=True)\n",
        "plt.title('Car Price Distribution based on Engine Size')\n",
        "plt.xlabel('Price')\n",
        "plt.ylabel('Frequency')\n",
        "plt.show()\n"
      ],
      "metadata": {
        "colab": {
          "base_uri": "https://localhost:8080/",
          "height": 1000
        },
        "id": "FceftDfgdth6",
        "outputId": "4e3ae145-871d-475c-d839-1ed1774073be"
      },
      "execution_count": 125,
      "outputs": [
        {
          "output_type": "display_data",
          "data": {
            "text/plain": [
              "<Figure size 800x400 with 1 Axes>"
            ],
            "image/png": "[encoded data removed]"
          },
          "metadata": {}
        }
      ]
    },
    {
      "cell_type": "markdown",
      "source": [
        "Observation on Car Price Distribution Based on Engine Size:\n",
        "Right-Skewed Distribution: The majority of car prices are concentrated at the lower end, with a steep decline in frequency as the price increases. This suggests that most cars in the dataset are priced within a lower range.\n",
        "\n",
        "Higher Engine Size, Higher Price Trend: The legend indicates different engine sizes, and the color gradient suggests that cars with larger engine sizes tend to have higher prices, though they appear less frequently in the dataset.\n",
        "\n",
        "Few High-Priced Cars: There are very few cars with extremely high prices, as indicated by the long tail in the distribution."
      ],
      "metadata": {
        "id": "yzzKHcHYiFNL"
      }
    },
    {
      "cell_type": "code",
      "source": [
        "# Which Engine Type of cars users preferred maximum?\n",
        "preferred_engine_type = cars['engine_size'].value_counts().idxmax()\n",
        "print(f\"The most preferred engine type is: {preferred_engine_type}\")\n"
      ],
      "metadata": {
        "colab": {
          "base_uri": "https://localhost:8080/"
        },
        "id": "6vUs_wJ2evYH",
        "outputId": "56e8e74f-a3bb-42c5-9f2e-1c32e008cb1d"
      },
      "execution_count": 126,
      "outputs": [
        {
          "output_type": "stream",
          "name": "stdout",
          "text": [
            "The most preferred engine type is: 3500.0\n"
          ]
        }
      ]
    },
    {
      "cell_type": "code",
      "source": [
        "# prompt: Establish correlation between all features using heatma\n",
        "numerical_cars = cars.select_dtypes(include=np.number)\n",
        "\n",
        "plt.figure(figsize=(10, 6))\n",
        "sns.heatmap(numerical_cars.corr(), annot=True, cmap='coolwarm', fmt=\".2f\")\n",
        "plt.title(\"Correlation Heatmap of Numerical Features in Cars DataFrame\")\n",
        "plt.show()\n"
      ],
      "metadata": {
        "colab": {
          "base_uri": "https://localhost:8080/",
          "height": 545
        },
        "id": "fqOBfSUcinys",
        "outputId": "0d93adbe-d698-49ed-c5cc-6b1a9bda03e7"
      },
      "execution_count": 127,
      "outputs": [
        {
          "output_type": "display_data",
          "data": {
            "text/plain": [
              "<Figure size 1000x600 with 2 Axes>"
            ],
            "image/png": "[encoded data removed]"
          },
          "metadata": {}
        }
      ]
    },
    {
      "cell_type": "markdown",
      "source": [
        "# Correlation has been established between all features"
      ],
      "metadata": {
        "id": "Hrmfg6vtkPzf"
      }
    },
    {
      "cell_type": "code",
      "source": [
        "# Distribution of Price\n",
        "plt.figure(figsize=(8, 4))\n",
        "sns.histplot(cars['amount'], kde=True)\n",
        "plt.title('Distribution of Car Prices')\n",
        "plt.xlabel('Price')\n",
        "plt.ylabel('Frequency')\n",
        "plt.show()\n"
      ],
      "metadata": {
        "colab": {
          "base_uri": "https://localhost:8080/",
          "height": 410
        },
        "id": "x3-yG9nCjXaV",
        "outputId": "3dceeaed-eb79-4149-ff0d-f9b151f3b237"
      },
      "execution_count": 132,
      "outputs": [
        {
          "output_type": "display_data",
          "data": {
            "text/plain": [
              "<Figure size 800x400 with 1 Axes>"
            ],
            "image/png": "[encoded data removed]"
          },
          "metadata": {}
        }
      ]
    },
    {
      "cell_type": "markdown",
      "source": [
        "# **The histograph above showe the distribution of the price**"
      ],
      "metadata": {
        "id": "V0tgn_ZFlG36"
      }
    },
    {
      "cell_type": "code",
      "source": [],
      "metadata": {
        "id": "tJF00iumkx6e"
      },
      "execution_count": null,
      "outputs": []
    }
  ],
  "metadata": {
    "colab": {
      "provenance": []
    },
    "kernelspec": {
      "display_name": "Python 3",
      "name": "python3"
    },
    "language_info": {
      "name": "python"
    }
  },
  "nbformat": 4,
  "nbformat_minor": 0
}