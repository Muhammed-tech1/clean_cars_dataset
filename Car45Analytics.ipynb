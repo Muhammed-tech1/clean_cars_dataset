{
 "cells": [
  {
   "cell_type": "markdown",
   "id": "008032c8-aeac-401f-aaf8-aa3b89828359",
   "metadata": {},
   "source": [
    "# Auto Analytics: Exploring Car Market Dynamics\n",
    "This project conducts Exploratory Data Analysis (EDA) on a dataset containing information about cars. It covers various aspects of data preprocessing, visualization, and analysis to derive insights into the characteristics and trends of the cars.\n",
    "\n",
    "## Table of Contents\n",
    "- Introduction\n",
    "- Steps\n",
    "- Importing Libraries\n",
    "- Loading Data and Data Understanding\n",
    "- Data Cleaning\n",
    "- Detecting Outliers\n",
    "- Visualization\n",
    "\n",
    "## Introduction\n",
    "This project aims to explore and analyze a dataset related to cars, uncovering insights into various attributes such as price, horsepower, and cylinders. By performing EDA, we gain a deeper understanding of the dataset and its underlying patterns.\n",
    "\n",
    "## Steps\n",
    "1. Importing Libraries\n",
    "    - Pandas: Used for data manipulation and analysis.\n",
    "    - NumPy: Utilized for numerical computations.\n",
    "    - Seaborn: Employed for data visualization.\n",
    "    - Matplotlib: Utilized for creating plots and charts.\n",
    "  \n",
    "2. Loading Data and Data Understanding\n",
    "    - The \"cars_data.csv\" file is loaded into a pandas DataFrame (df).\n",
    "    - The first and last five rows (df.head(5), df.tail(5)) are displayed to get a glimpse of the data structure.\n",
    "    - Basic data information (df.info()) is explored, including data types (df.dtypes) and descriptive statistics (df.describe()).\n",
    "\n",
    "3. Data Cleaning\n",
    "- Irrelevant columns ('Engine Fuel Type', 'Market Category', etc.) are dropped (df.drop(...)).\n",
    "- Column names are made more descriptive (df.rename(...)).\n",
    "- Duplicate rows are identified (duplicate_rows_df) and removed (df.drop_duplicates()).\n",
    "- Missing values (df.isna().sum()) are examined and dropped (df.dropna()).\n",
    "  \n",
    "4. Detecting Outliers\n",
    "    - Boxplots are generated (sns.boxplot(...)) to visualize potential outliers in columns like price and horse power.\n",
    "    - Interquartile Range (IQR) is calculated to define outlier thresholds.\n",
    "    - Rows with values outside the outlier range (IQR) are removed.\n",
    "      \n",
    "5. Visualization\n",
    "- A bar chart (plt.bar(...)) shows the distribution of car makes.\n",
    "- A heatmap (sns.heatmap(...)) visualizes correlations between numerical features.\n",
    "- A scatter plot (plt.scatter(...)) explores the relationship between horsepower and price.\n",
    "\n",
    "6. Analysis\n",
    "- Which type of cars are sold maximum?\n",
    "- What is the co-relation between price and mileage?\n",
    "- How many cars are registered?\n",
    "- Price distribution between registered and non-registered cars.\n",
    "- What is the car price distribution based on Engine Value?\n",
    "- Which Engine Type of cars users preferred maximum?\n",
    "- Establish corelation between all features using heatmap.\n",
    "- Distribution of Price"
   ]
  },
  {
   "cell_type": "code",
   "execution_count": null,
   "id": "f1e90958-b178-4334-849a-1c3b6869c3b5",
   "metadata": {},
   "outputs": [],
   "source": []
  },
  {
   "cell_type": "code",
   "execution_count": null,
   "id": "303efaaf-16c4-48ae-a4f7-ec08ce23dfae",
   "metadata": {},
   "outputs": [],
   "source": []
  }
 ],
 "metadata": {
  "kernelspec": {
   "display_name": "Python 3 (ipykernel)",
   "language": "python",
   "name": "python3"
  },
  "language_info": {
   "codemirror_mode": {
    "name": "ipython",
    "version": 3
   },
   "file_extension": ".py",
   "mimetype": "text/x-python",
   "name": "python",
   "nbconvert_exporter": "python",
   "pygments_lexer": "ipython3",
   "version": "3.11.7"
  }
 },
 "nbformat": 4,
 "nbformat_minor": 5
}
